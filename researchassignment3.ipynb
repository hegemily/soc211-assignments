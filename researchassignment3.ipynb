{
 "cells": [
  {
   "cell_type": "markdown",
   "metadata": {},
   "source": [
    "# Research assignment 3\n",
    "\n",
    "Emily Ernst\n",
    "\n",
    "Social Disasters: Differential Health Outcomes in Climate Crisis Disasters\n",
    "\n",
    "18 February 2024"
   ]
  },
  {
   "cell_type": "markdown",
   "metadata": {},
   "source": [
    "## 1. Build your hypothesis\n",
    "\n",
    "Write bullet points that answer the following questions:\n",
    "\n",
    "    A. What is your depedent variable? For this assignment, your depedent should be a continuous variable. Describe how your \n",
    "    depedent variable is measured. If your data doesn't allow this, you can use either the General Social Survey 2018 or the \n",
    "    Grant and Loan Repayment data. \n",
    "    \n",
    "    - My dependent variable is number of homelessness, a continuous variable. \n",
    "    - It is measured by \"Number of people requiring shelter due to their house being destroyed or heavily damaged during the       disaster\" (see codebook for Human Impact Variables)\n",
    "    \n",
    "    B. What are the indepedent variables you are most interested in? Are they interval ratio or nominal? Why?\n",
    "    \n",
    "    - My independent variables of interest are firstly, Insured Damage, Adjusted (‘000 US$). Insured Adjusted  \n",
    "    Damage is an inteval-ratio variable and was chosen to see whether or not insurance provision affects displacement rates  \n",
    "    post-disaster. It is measured by \"economic damage covered by insurance companies, in thousands of US dollars (‘000 US$), \n",
    "    relative to Start Year\" This relationship was chosen to examine because of the recent pattern of private industries \n",
    "    not insuring private-property damages post-disaster, so I would like to see if a) there is a change over time in the rate \n",
    "    that insurance companies are insuring affected homeowners and b) if there is a relationship between insured damage and \n",
    "    homelessness.\n",
    "    \n",
    "    -Second, I chose Total Damage, Adjusted (‘000 US$) which is an interval-ratio variable measured by \"value(s) of all \n",
    "    economic losses directly or indirectly due to the disaster, in thousands of US dollars (‘000 US$)..\" I chose this variable \n",
    "    because, in the literature, recovery indicators never use the term 'recovery,' rather, they use economic measures of \n",
    "    damage. I figured this variable would cover damage more broadly than the other indicators of economic damage. The \n",
    "    relationship, therefore, between recovery and amount of homelessness will be interesting to see. If there is a positive \n",
    "    relationship between the two, this could ease my doubts about the literature using economic measures as indicators as \n",
    "    appropriate recovery measures. \n",
    "\n",
    "    C. What are your control variables? Are they interval ratio or nominal? Why?\n",
    "    \n",
    "    - I chose subregion as my control variable, it is a nominal variable. I chose this as my control variable because I want to \n",
    "    control for region-level infastructure, subsidies, and culutral and historical differences that interact with natural \n",
    "    forces. \n",
    "\n",
    "    D. What are your hyphotheses on the relationships between your dependent and independent variables (including control \n",
    "    variables)? Make seperate hypotheses for separate independent variables and for intervening relationships that involve \n",
    "    multiple independent variables of interest.\n",
    "    \n",
    "    H1. As insurance coverage of economic damage increases post-disaster, the number of homelessness will decrease.\n",
    "    H2. The total damage experienced post-disaster will be positively associated with the amount of homelessness.\n",
    "    "
   ]
  },
  {
   "cell_type": "markdown",
   "metadata": {},
   "source": [
    "## 2. Prepare your data\n",
    "\n",
    "Do the following:\n",
    "\n",
    "    A. Set current directory\n",
    "\n",
    "    B. Set more off\n",
    "\n",
    "    C. Creat log file\n",
    "    \n",
    "    D. Load only variable from the dataset that you will use\n",
    "\n",
    "    E. Use -describe- and -codebook- to see details of the varaibles"
   ]
  },
  {
   "cell_type": "code",
   "execution_count": 1,
   "metadata": {
    "tags": []
   },
   "outputs": [
    {
     "data": {
      "text/html": [
       "<style>div.jp-Notebook .datagrid-container {min-height: 448px; }</style>"
      ],
      "text/plain": [
       "<IPython.core.display.HTML object>"
      ]
     },
     "metadata": {},
     "output_type": "display_data"
    },
    {
     "name": "stdout",
     "output_type": "stream",
     "text": [
      "/Users/emilyernst/Desktop/garden/soc_211_assignments\n",
      "-------------------------------------------------------------------------------\n",
      "      name:  <unnamed>\n",
      "       log:  /Users/emilyernst/Desktop/garden/soc_211_assignments/Research Assi\n",
      "> gnment #3.smcl\n",
      "  log type:  smcl\n",
      " opened on:  26 Feb 2024, 14:35:00\n"
     ]
    }
   ],
   "source": [
    "cd \"/Users/emilyernst/Desktop/garden/soc_211_assignments\"\n",
    "set more off\n",
    "log using \"Research Assignment #3\""
   ]
  },
  {
   "cell_type": "code",
   "execution_count": 2,
   "metadata": {
    "tags": []
   },
   "outputs": [
    {
     "name": "stdout",
     "output_type": "stream",
     "text": [
      "(46 vars, 1,784 obs)\n"
     ]
    }
   ],
   "source": [
    "insheet using \"/Users/emilyernst/Desktop/garden/soc_211_assignments/research_assignment_1/Methods_Review/data/em-dat_data.csv\", clear"
   ]
  },
  {
   "cell_type": "code",
   "execution_count": 3,
   "metadata": {
    "tags": []
   },
   "outputs": [
    {
     "name": "stdout",
     "output_type": "stream",
     "text": [
      "DisNo         country       magnitude     endday        total~e000us\n",
      "historic      subregion     magnitudes~e  totaldeaths   total~d000us\n",
      "classifica~y  region        latitude      noinjured     cpi\n",
      "disastergr~p  location      longitude     noaffected    adminunits\n",
      "disastersu~p  origin        riverbasin    nohomeless    entrydate\n",
      "disastertype  associated~s  startyear     totalaffec~d  lastupdate\n",
      "disastersu~e  ofdaresponse  startmonth    recon~s000us\n",
      "externalids   appeal        startday      recon~d000us\n",
      "eventname     declaration   endyear       insur~e000us\n",
      "iso           aidcontrib~s  endmonth      insur~d000us\n"
     ]
    }
   ],
   "source": [
    "ds "
   ]
  },
  {
   "cell_type": "code",
   "execution_count": 4,
   "metadata": {
    "tags": []
   },
   "outputs": [
    {
     "name": "stdout",
     "output_type": "stream",
     "text": [
      "\n",
      "-------------------------------------------------------------------------------\n",
      "location                                                               Location\n",
      "-------------------------------------------------------------------------------\n",
      "\n",
      "                  Type: String (str1296)\n",
      "\n",
      "         Unique values: 1,655                     Missing \"\": 59/1,784\n",
      "\n",
      "              Examples: \"British Columbia\"\n",
      "                        \"Fort-de-France, La Trinite, Saint-Pierre, Le Marin\n",
      "                        provinces\"\n",
      "                        \"Missouri (Oak Grove in Jackson County, Clay and\n",
      "                        Clinton (Trimble, Plattsburg, Lathrop) counties),\n",
      "                        Iowa (Centerville in Appanoose county, Muscatine),\n",
      "                        Minnesota (Sherburne, Freeborn counties, Lake Ann in\n",
      "                        Carver county), Kansas (Wabaunsee, Pottawatomie and\n",
      "                        Butler counties), Wisconsin, Arkansas, Oklahoma,\n",
      "                        Illinois, Mississipi, Michigan, New-York,\n",
      "                        Pennsylvania, Massachussets, Ohio, Nebraska,\n",
      "                        Indiana\"\n",
      "                        \"San Juan province\"\n",
      "\n",
      "               Warning: Variable has embedded and trailing blanks.\n"
     ]
    }
   ],
   "source": [
    "codebook location"
   ]
  },
  {
   "cell_type": "code",
   "execution_count": 5,
   "metadata": {
    "tags": []
   },
   "outputs": [
    {
     "name": "stdout",
     "output_type": "stream",
     "text": [
      "\n",
      "-------------------------------------------------------------------------------\n",
      "insureddamageadjusted000us                  Insured Damage, Adjusted ('000 US$)\n",
      "-------------------------------------------------------------------------------\n",
      "\n",
      "                  Type: Numeric (long)\n",
      "\n",
      "                 Range: [193,89913156]                Units: 1\n",
      "         Unique values: 208                       Missing .: 1,514/1,784\n",
      "\n",
      "                  Mean: 2.6e+06\n",
      "             Std. dev.: 8.2e+06\n",
      "\n",
      "           Percentiles:     10%       25%       50%       75%       90%\n",
      "                          76245    240390    626263   1.8e+06   3.6e+06\n"
     ]
    }
   ],
   "source": [
    "codebook insur~d000us"
   ]
  },
  {
   "cell_type": "code",
   "execution_count": 6,
   "metadata": {
    "tags": []
   },
   "outputs": [
    {
     "name": "stdout",
     "output_type": "stream",
     "text": [
      "\n",
      "-------------------------------------------------------------------------------\n",
      "nohomeless                                                         No. Homeless\n",
      "-------------------------------------------------------------------------------\n",
      "\n",
      "                  Type: Numeric (long)\n",
      "\n",
      "                 Range: [9,800000]                    Units: 1\n",
      "         Unique values: 146                       Missing .: 1,596/1,784\n",
      "\n",
      "                  Mean: 12520.3\n",
      "             Std. dev.: 65293.6\n",
      "\n",
      "           Percentiles:     10%       25%       50%       75%       90%\n",
      "                             81       200       893    3624.5     14122\n"
     ]
    }
   ],
   "source": [
    "codebook nohomeless"
   ]
  },
  {
   "cell_type": "code",
   "execution_count": 7,
   "metadata": {
    "tags": []
   },
   "outputs": [
    {
     "name": "stdout",
     "output_type": "stream",
     "text": [
      "\n",
      "-------------------------------------------------------------------------------\n",
      "totaldamageadjusted000us                      Total Damage, Adjusted ('000 US$)\n",
      "-------------------------------------------------------------------------------\n",
      "\n",
      "                  Type: Numeric (long)\n",
      "\n",
      "                 Range: [75,1.873e+08]                Units: 1\n",
      "         Unique values: 534                       Missing .: 1,091/1,784\n",
      "\n",
      "                  Mean: 2.5e+06\n",
      "             Std. dev.: 1.1e+07\n",
      "\n",
      "           Percentiles:     10%       25%       50%       75%       90%\n",
      "                          11463     63516    365808   1.6e+06   3.6e+06\n"
     ]
    }
   ],
   "source": [
    "codebook totaldamageadjusted000us"
   ]
  },
  {
   "cell_type": "markdown",
   "metadata": {},
   "source": [
    "## 3. Use scatterplots to visually assess relationships between your dependent variable and all of your independent variables\n",
    "\n",
    "    A. Quietly generate scatterplots for the dependent variable and each independent variable (including contol variables). Then use graph combine to examine all of the scatter plots.\n",
    "\n",
    "    B. Write a paragraph interpreting what the scatterplots show"
   ]
  },
  {
   "cell_type": "code",
   "execution_count": 8,
   "metadata": {
    "tags": []
   },
   "outputs": [],
   "source": [
    "encode subregion, generate(subregion2)"
   ]
  },
  {
   "cell_type": "code",
   "execution_count": 9,
   "metadata": {
    "tags": []
   },
   "outputs": [
    {
     "name": "stdout",
     "output_type": "stream",
     "text": [
      "(bin=13, start=9, width=1153.1538)\n"
     ]
    },
    {
     "data": {
      "image/png": "[encoded data removed]",
      "text/plain": [
       "<IPython.core.display.Image object>"
      ]
     },
     "metadata": {},
     "output_type": "display_data"
    }
   ],
   "source": [
    "*histogram nohomeless \n",
    "histogram nohomeless if nohomeless<20000"
   ]
  },
  {
   "cell_type": "code",
   "execution_count": 8,
   "metadata": {
    "tags": []
   },
   "outputs": [
    {
     "name": "stdout",
     "output_type": "stream",
     "text": [
      "(bin=13, start=9, width=5383.9231)\n"
     ]
    },
    {
     "data": {
      "image/png": "[encoded data removed]",
      "text/plain": [
       "<IPython.core.display.Image object>"
      ]
     },
     "metadata": {},
     "output_type": "display_data"
    }
   ],
   "source": [
    "histogram nohomeless if nohomeless<100000"
   ]
  },
  {
   "cell_type": "code",
   "execution_count": 10,
   "metadata": {},
   "outputs": [
    {
     "data": {
      "image/png": "[encoded data removed]",
      "text/plain": [
       "<IPython.core.display.Image object>"
      ]
     },
     "metadata": {},
     "output_type": "display_data"
    },
    {
     "data": {
      "image/png": "[encoded data removed]",
      "text/plain": [
       "<IPython.core.display.Image object>"
      ]
     },
     "metadata": {},
     "output_type": "display_data"
    },
    {
     "data": {
      "image/png": "[encoded data removed]",
      "text/plain": [
       "<IPython.core.display.Image object>"
      ]
     },
     "metadata": {},
     "output_type": "display_data"
    }
   ],
   "source": [
    "foreach x in insureddamageadjusted000us totaldamageadjusted000us subregion2 {\n",
    "quietly  graph twoway (scatter nohomeless `x') (lfit nohomeless `x', color(red)), ///\n",
    "    name(`x', replace) legend(off) ytitle(no. homeless) scheme(plotplainblind)\n",
    "}"
   ]
  },
  {
   "cell_type": "markdown",
   "metadata": {
    "tags": []
   },
   "source": [
    "The scatterplots show associations between homelessness and total damage insured and total damage cost, however, it is a small, positive association. The best fit line shows us that the error is considerate.. This is likely due to the variance in the nohomeless measure where there are many unique values with extreme outliers and a concentrated amount falling under 100,000. There is a small, negative association between homelessness and subregion, and I think this is because it's a nominal variable with only two values (Latin and North Americas) ranging from 1 and 2. In the future, I wouldn't use a scatterplot for a dummy variable but for the assignment I kept it in."
   ]
  },
  {
   "cell_type": "code",
   "execution_count": 61,
   "metadata": {
    "tags": []
   },
   "outputs": [
    {
     "data": {
      "image/png": "[encoded data removed]",
      "text/plain": [
       "<IPython.core.display.Image object>"
      ]
     },
     "metadata": {},
     "output_type": "display_data"
    }
   ],
   "source": [
    "graph combine insureddamageadjusted000us totaldamageadjusted000us subregion2, col(3) "
   ]
  },
  {
   "cell_type": "markdown",
   "metadata": {},
   "source": [
    "## 4. Assess multicorrelation among your independent variables\n",
    "\n",
    "    A. Create a correlation matrix for all of your variables.\n",
    "\n",
    "    B. . Write bullet points or a short paragraph summarizing what the matrix shows."
   ]
  },
  {
   "cell_type": "code",
   "execution_count": 20,
   "metadata": {},
   "outputs": [
    {
     "name": "stdout",
     "output_type": "stream",
     "text": [
      "\n",
      "             | nohome~s i~d000us t~d000us subreg~2\n",
      "-------------+------------------------------------\n",
      "  nohomeless |   1.0000 \n",
      "insur~d000us |   0.2472   1.0000 \n",
      "total~d000us |   0.3771   0.9728   1.0000 \n",
      "  subregion2 |  -0.0940   0.0910   0.1277   1.0000 \n"
     ]
    }
   ],
   "source": [
    "pwcorr nohomeless insureddamageadjusted000us totaldamageadjusted000us subregion2"
   ]
  },
  {
   "cell_type": "code",
   "execution_count": null,
   "metadata": {},
   "outputs": [],
   "source": [
    "- The matrix shows that there is a moderate, positive correlation bewteen homelessness and total insured costs. According ///\n",
    "to this model, bout 25% of the variance in number of homes destroyed is associated to insured damage amounts after a ///\n",
    "climate disaster. \n",
    "- It also shows that there is a moderate, positive correlation bewteen homelessness and total damage costs. According ///\n",
    "to this model, about 38% of the variance in number of homes destroyed is associated to total damage costs after ///\n",
    "a climate disaster.\n",
    "- There  is a negligible negative correlation between the subregions of Latin America and North America regarding number of ///\n",
    "homes destroyed after a climate disaster.\n"
   ]
  },
  {
   "cell_type": "markdown",
   "metadata": {},
   "source": [
    "## 5. Describe at least 2 OLS models to test your hypotheses\n",
    "\n",
    "Write a paragraph or a set of bullet points that explain:\n",
    "\n",
    "    A. Which model tests which of your hypotheses\n",
    "    H1: Model 1\n",
    "    H2: Model 2\n",
    "   \n",
    "    B. Which variables are included in each model\n",
    "    Post-disaster: \n",
    "    Model 1: Insured Damage Amount total, Adjusted (for inflation- in US dollars) and number of homes destroyed\n",
    "    Model 2: Total Damage Amount total, Adjusted (for inflation- in US dollars) and number of homes destroyed\n",
    "    Model 3: Subregion (Latin America or North America) and number of homes destoryed as the control variable\n",
    "\n",
    "    \n",
    "    B. How/why adding particular variables to subsequent models will test for spurious or intervening relationships\n",
    "    I think adding race and SES status in subsequent models as well as controlling for a smaller region (like a county) will   \n",
    "    test for an intervening relationship between the outcomes since we see differential vulnerabilities based on race and SES \n",
    "    status in post-disaster situations.  \n",
    "    \n",
    "   "
   ]
  },
  {
   "cell_type": "markdown",
   "metadata": {},
   "source": [
    "## 6. Write OLS regression equations for each model\n",
    "\n",
    "Use subscripts to indicate which symbols represesent your different independent variables. To do so, you can copy and paste the LaTex code in this week's lesson notebook and edit the subscripts."
   ]
  },
  {
   "cell_type": "markdown",
   "metadata": {
    "tags": []
   },
   "source": [
    "$ \\hat{Y} = \\alpha \\beta \\times x $"
   ]
  },
  {
   "cell_type": "markdown",
   "metadata": {
    "tags": []
   },
   "source": [
    "$ \\hat{nohomeless} = \\alpha + \\beta \\times x $"
   ]
  },
  {
   "cell_type": "markdown",
   "metadata": {},
   "source": [
    "$ \\hat{nohomeless} = \\alpha + \\beta_1 \\cdot insureddamageadjusted000us + \\beta_2 \\cdot totaldamageadjusted000us + \\beta_3 \\cdot subregion2  + \\beta_3 \\cdot x_3 $\n",
    "\n",
    "\n",
    "$ \\hat{Y} $ is number of homes destroyed\n",
    "\n",
    "$ \\alpha $ is the intercept term\n",
    "\n",
    "$ beta_1 $ is total insured damage, adjusted \n",
    "\n",
    "$ beta_2 $ is total damage costs, adjusted\n",
    "\n",
    "$ beta_3 $ is subregion "
   ]
  },
  {
   "cell_type": "markdown",
   "metadata": {},
   "source": [
    "## 7. Estimate your models with stata\n",
    "\n",
    "    A. Write Stata code to estimate the models and store the regression results\n",
    "    \n",
    "    B. Write code to output the estimates in a table within Jupyter Notebook in HTML (with %html magic) and as an RTF file"
   ]
  },
  {
   "cell_type": "code",
   "execution_count": 21,
   "metadata": {},
   "outputs": [
    {
     "name": "stdout",
     "output_type": "stream",
     "text": [
      "\n",
      "      Source |       SS           df       MS      Number of obs   =        25\n",
      "-------------+----------------------------------   F(3, 21)        =      2.91\n",
      "       Model |  2.0261e+11         3  6.7537e+10   Prob > F        =    0.0583\n",
      "    Residual |  4.8702e+11        21  2.3192e+10   R-squared       =    0.2938\n",
      "-------------+----------------------------------   Adj R-squared   =    0.1929\n",
      "       Total |  6.8963e+11        24  2.8735e+10   Root MSE        =    1.5e+05\n",
      "\n",
      "------------------------------------------------------------------------------\n",
      "  nohomeless | Coefficient  Std. err.      t    P>|t|     [95% conf. interval]\n",
      "-------------+----------------------------------------------------------------\n",
      "insur~d000us |   -.010153   .0102804    -0.99   0.335    -.0315324    .0112263\n",
      "total~d000us |   .0056055   .0040122     1.40   0.177    -.0027383    .0139493\n",
      "  subregion2 |  -130543.9   64055.07    -2.04   0.054    -263753.7    2665.855\n",
      "       _cons |     255594   109897.5     2.33   0.030     27049.58    484138.5\n",
      "------------------------------------------------------------------------------\n"
     ]
    }
   ],
   "source": [
    "reg nohomeless insureddamageadjusted000us totaldamageadjusted000us subregion2  "
   ]
  },
  {
   "cell_type": "code",
   "execution_count": 28,
   "metadata": {},
   "outputs": [],
   "source": [
    "est clear\n",
    "\n",
    "*Model 1\n",
    "quietly eststo: reg nohomeless insureddamageadjusted000us\n",
    "\n",
    "*Model 2\n",
    "quietly eststo: reg nohomeless totaldamageadjusted000us\n",
    "\n",
    "*Model 3\n",
    "quietly eststo: reg nohomeless subregion2"
   ]
  },
  {
   "cell_type": "code",
   "execution_count": 29,
   "metadata": {
    "collapsed": true,
    "jupyter": {
     "outputs_hidden": true
    },
    "tags": []
   },
   "outputs": [
    {
     "name": "stdout",
     "output_type": "stream",
     "text": [
      "\n",
      "------------------------------------------------------------\n",
      "                      (1)             (2)             (3)   \n",
      "                  Model 1         Model 2         Model 3   \n",
      "                     b/se            b/se            b/se   \n",
      "------------------------------------------------------------\n",
      "insured da~e        0.004                                   \n",
      "                  (0.003)                                   \n",
      "total~d000us                        0.002***                \n",
      "                                  (0.001)                   \n",
      "subregion2                                     -13257.868   \n",
      "                                              (10291.992)   \n",
      "------------------------------------------------------------\n",
      "R-Squared           0.061           0.142           0.009   \n",
      "N                  26.000          80.000         188.000   \n",
      "------------------------------------------------------------\n"
     ]
    }
   ],
   "source": [
    "esttab, stats(r2 N, labels(\"R-Squared\" \"N\")) cells(b(star fmt(3)) se(fmt(3) par)) /// \n",
    "  nobase mlabels (\"Model 1\" \"Model 2\" \"Model 3\") starlevels(* .05 ** .01 *** .001) ///\n",
    "  coeflabels (insureddamageadjusted000us \"insured damage\" 2.totaldamageadjusted000us \"total damage\" 3.subregion2 \"Sub-Region\") noconstant"
   ]
  },
  {
   "cell_type": "markdown",
   "metadata": {
    "tags": []
   },
   "source": [
    "## 8. Summarize the results for your hypotheses\n",
    "\n",
    "    A. Which of your hypotheses are supported and which are rejected by the (in)consistency of coefficients across all of your models?\n",
    "    \n",
    "    B. Which of your hypotheses regarding intervening or spurious relationships are supported / rejected by similarities / differences in coefficients across all of your models?\n",
    "\n",
    "    C. What ideas do you have for why any of your hypotheses were rejected? Are there additional omitted variables do you think you should include to test your hypotheses that might change your results? Why?"
   ]
  },
  {
   "cell_type": "markdown",
   "metadata": {},
   "source": [
    "A)\n",
    "H1: There is a small correlation between the number of homes destroyed and insured damage costs, but in a negative direction. \n",
    "However, insured damage's p value is > .05, which is not statistically significant. However, I have to consider the inconsistent coefficients found in Model 1, which was .2472 (positive). This inconsistency suggests to me that when controlling for all other factors (total damage costs and sub region), the correlation changes and my H1 which stated that insured damage would have a positive correlation with homes destroyed would technically not be rejected. \n",
    "\n",
    "H2: There is a small, positive correlation between the total damage costs and houses destroyed. This is considerably less than the matrix correlation coefficient (.377) but is congruent with Model 2. This would suggest that my hypothesis was confirmed, however, its p value is .177 which suggests  this is not a statistically significant relationship.\n",
    "\n"
   ]
  },
  {
   "cell_type": "code",
   "execution_count": null,
   "metadata": {},
   "outputs": [],
   "source": [
    "B)\n",
    "My hypotheses of interactive relationships are unsupported because, to my best knoweldge, it seems models 1 and 2 ///\n",
    "are showing a spurious (moderate) relationship between the impact of insured damage costs and total damage costs ///\n",
    "and number of homelessness on their own, but showing no relationship when controlling for their variance together. However ///\n",
    "it does seem to show that there is evidence to support subregion has an intervening relationship since it shows no ///\n",
    "correlation to my dependent variable on its own, it's not until both damage measures are taken into account that it seems ///\n",
    "to have (almost) a statistically significant relationship. I would assume that the more specific we can get when measuring ///\n",
    "this variable the better, as it's only taking into account two massive regions (Latin America and Northern America)."
   ]
  }
 ],
 "metadata": {
  "kernelspec": {
   "display_name": "Stata (nbstata)",
   "language": "stata",
   "name": "nbstata"
  },
  "language_info": {
   "file_extension": ".do",
   "mimetype": "text/x-stata",
   "name": "stata",
   "version": "17"
  }
 },
 "nbformat": 4,
 "nbformat_minor": 4
}
