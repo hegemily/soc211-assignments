{
 "cells": [
  {
   "cell_type": "markdown",
   "metadata": {},
   "source": [
    "# Research Assignment 5 \n",
    "\n",
    "\n",
    "Emily Ernst\n",
    "\n",
    "How Wildifires Shape Health Outcomes Across Race in California\n",
    "\n",
    "04/13/2024"
   ]
  },
  {
   "cell_type": "code",
   "execution_count": 1,
   "metadata": {
    "tags": []
   },
   "outputs": [
    {
     "data": {
      "text/html": [
       "<style>div.jp-Notebook .datagrid-container {min-height: 448px; }</style>"
      ],
      "text/plain": [
       "<IPython.core.display.HTML object>"
      ]
     },
     "metadata": {},
     "output_type": "display_data"
    },
    {
     "name": "stdout",
     "output_type": "stream",
     "text": [
      "(encoding automatically selected: ISO-8859-2)\n",
      "(9 vars, 464 obs)\n"
     ]
    }
   ],
   "source": [
    "// Setting up Data: Upload \n",
    "// CDC NEPHT Asthma Rates- Hospitalizations for Asthma Age-adjusted Rate of Hospitalizations for Asthma per ///\n",
    "// 10,000 Population\n",
    "\n",
    "import delimited using \"/Users/emilyernst/Desktop/garden/soc_211_assignments/potentialdata/CDC_Queries/CDC-NEPH-Asthma/download (2)/data_172321.csv\", clear"
   ]
  },
  {
   "cell_type": "code",
   "execution_count": 2,
   "metadata": {
    "tags": []
   },
   "outputs": [
    {
     "name": "stdout",
     "output_type": "stream",
     "text": [
      "statefips    countyfips   year         datacomment  gender\n",
      "state        county       value        v8\n"
     ]
    }
   ],
   "source": [
    "ds"
   ]
  },
  {
   "cell_type": "code",
   "execution_count": 3,
   "metadata": {
    "tags": []
   },
   "outputs": [],
   "source": [
    "// Keeping only variables I need\n",
    "keep countyfips county year value gender"
   ]
  },
  {
   "cell_type": "code",
   "execution_count": 4,
   "metadata": {},
   "outputs": [],
   "source": [
    "order countyfips year"
   ]
  },
  {
   "cell_type": "code",
   "execution_count": 5,
   "metadata": {},
   "outputs": [],
   "source": [
    "sort countyfips year"
   ]
  },
  {
   "cell_type": "code",
   "execution_count": 6,
   "metadata": {
    "tags": []
   },
   "outputs": [
    {
     "data": {
      "text/html": [
       "<div>\n",
       "<style scoped>\n",
       "    .dataframe tbody tr th:only-of-type {\n",
       "        vertical-align: middle;\n",
       "    }\n",
       "\n",
       "    .dataframe tbody tr th {\n",
       "        vertical-align: top;\n",
       "    }\n",
       "\n",
       "    .dataframe thead th {\n",
       "        text-align: right;\n",
       "    }\n",
       "</style>\n",
       "<table border=\"1\" class=\"dataframe\">\n",
       "  <thead>\n",
       "    <tr style=\"text-align: right;\">\n",
       "      <th></th>\n",
       "      <th>countyfips</th>\n",
       "      <th>year</th>\n",
       "      <th>county</th>\n",
       "      <th>value</th>\n",
       "      <th>gender</th>\n",
       "    </tr>\n",
       "  </thead>\n",
       "  <tbody>\n",
       "    <tr>\n",
       "      <th>1</th>\n",
       "      <td>6001</td>\n",
       "      <td>2016</td>\n",
       "      <td>Alameda</td>\n",
       "      <td>4.3</td>\n",
       "      <td>Male</td>\n",
       "    </tr>\n",
       "    <tr>\n",
       "      <th>2</th>\n",
       "      <td>6001</td>\n",
       "      <td>2016</td>\n",
       "      <td>Alameda</td>\n",
       "      <td>4.8</td>\n",
       "      <td>Female</td>\n",
       "    </tr>\n",
       "    <tr>\n",
       "      <th>3</th>\n",
       "      <td>6001</td>\n",
       "      <td>2017</td>\n",
       "      <td>Alameda</td>\n",
       "      <td>4.4</td>\n",
       "      <td>Male</td>\n",
       "    </tr>\n",
       "    <tr>\n",
       "      <th>4</th>\n",
       "      <td>6001</td>\n",
       "      <td>2017</td>\n",
       "      <td>Alameda</td>\n",
       "      <td>4.9</td>\n",
       "      <td>Female</td>\n",
       "    </tr>\n",
       "    <tr>\n",
       "      <th>5</th>\n",
       "      <td>6001</td>\n",
       "      <td>2018</td>\n",
       "      <td>Alameda</td>\n",
       "      <td>3.6</td>\n",
       "      <td>Male</td>\n",
       "    </tr>\n",
       "  </tbody>\n",
       "</table>\n",
       "</div>"
      ]
     },
     "metadata": {},
     "output_type": "display_data"
    }
   ],
   "source": [
    "%head "
   ]
  },
  {
   "cell_type": "code",
   "execution_count": 38,
   "metadata": {
    "tags": []
   },
   "outputs": [],
   "source": [
    "//NOTE: 2 values per year per county is for male/female asthma rates."
   ]
  },
  {
   "cell_type": "code",
   "execution_count": 6,
   "metadata": {
    "tags": []
   },
   "outputs": [
    {
     "name": "stdout",
     "output_type": "stream",
     "text": [
      "\n",
      "      Value |      Freq.     Percent        Cum.\n",
      "------------+-----------------------------------\n",
      "        4.3 |          1       50.00       50.00\n",
      "        4.8 |          1       50.00      100.00\n",
      "------------+-----------------------------------\n",
      "      Total |          2      100.00\n"
     ]
    }
   ],
   "source": [
    "tab value if year==2016 & countyfips==6001"
   ]
  },
  {
   "cell_type": "code",
   "execution_count": 7,
   "metadata": {},
   "outputs": [
    {
     "name": "stdout",
     "output_type": "stream",
     "text": [
      "year already numeric; no replace\n",
      "countyfips already numeric; no replace\n"
     ]
    }
   ],
   "source": [
    "destring year, replace\n",
    "destring countyfips, replace"
   ]
  },
  {
   "cell_type": "code",
   "execution_count": 8,
   "metadata": {
    "tags": []
   },
   "outputs": [
    {
     "name": "stdout",
     "output_type": "stream",
     "text": [
      "\n",
      " CountyFIPS |      Freq.     Percent        Cum.\n",
      "------------+-----------------------------------\n",
      "       6001 |          8        1.72        1.72\n",
      "       6003 |          8        1.72        3.45\n",
      "       6005 |          8        1.72        5.17\n",
      "       6007 |          8        1.72        6.90\n",
      "       6009 |          8        1.72        8.62\n",
      "       6011 |          8        1.72       10.34\n",
      "       6013 |          8        1.72       12.07\n",
      "       6015 |          8        1.72       13.79\n",
      "       6017 |          8        1.72       15.52\n",
      "       6019 |          8        1.72       17.24\n",
      "       6021 |          8        1.72       18.97\n",
      "       6023 |          8        1.72       20.69\n",
      "       6025 |          8        1.72       22.41\n",
      "       6027 |          8        1.72       24.14\n",
      "       6029 |          8        1.72       25.86\n",
      "       6031 |          8        1.72       27.59\n",
      "       6033 |          8        1.72       29.31\n",
      "       6035 |          8        1.72       31.03\n",
      "       6037 |          8        1.72       32.76\n",
      "       6039 |          8        1.72       34.48\n",
      "       6041 |          8        1.72       36.21\n",
      "       6043 |          8        1.72       37.93\n",
      "       6045 |          8        1.72       39.66\n",
      "       6047 |          8        1.72       41.38\n",
      "       6049 |          8        1.72       43.10\n",
      "       6051 |          8        1.72       44.83\n",
      "       6053 |          8        1.72       46.55\n",
      "       6055 |          8        1.72       48.28\n",
      "       6057 |          8        1.72       50.00\n",
      "       6059 |          8        1.72       51.72\n",
      "       6061 |          8        1.72       53.45\n",
      "       6063 |          8        1.72       55.17\n",
      "       6065 |          8        1.72       56.90\n",
      "       6067 |          8        1.72       58.62\n",
      "       6069 |          8        1.72       60.34\n",
      "       6071 |          8        1.72       62.07\n",
      "       6073 |          8        1.72       63.79\n",
      "       6075 |          8        1.72       65.52\n",
      "       6077 |          8        1.72       67.24\n",
      "       6079 |          8        1.72       68.97\n",
      "       6081 |          8        1.72       70.69\n",
      "       6083 |          8        1.72       72.41\n",
      "       6085 |          8        1.72       74.14\n",
      "       6087 |          8        1.72       75.86\n",
      "       6089 |          8        1.72       77.59\n",
      "       6091 |          8        1.72       79.31\n",
      "       6093 |          8        1.72       81.03\n",
      "       6095 |          8        1.72       82.76\n",
      "       6097 |          8        1.72       84.48\n",
      "       6099 |          8        1.72       86.21\n",
      "       6101 |          8        1.72       87.93\n",
      "       6103 |          8        1.72       89.66\n",
      "       6105 |          8        1.72       91.38\n",
      "       6107 |          8        1.72       93.10\n",
      "       6109 |          8        1.72       94.83\n",
      "       6111 |          8        1.72       96.55\n",
      "       6113 |          8        1.72       98.28\n",
      "       6115 |          8        1.72      100.00\n",
      "------------+-----------------------------------\n",
      "      Total |        464      100.00\n",
      "\n",
      "       Year |      Freq.     Percent        Cum.\n",
      "------------+-----------------------------------\n",
      "       2016 |        116       25.00       25.00\n",
      "       2017 |        116       25.00       50.00\n",
      "       2018 |        116       25.00       75.00\n",
      "       2019 |        116       25.00      100.00\n",
      "------------+-----------------------------------\n",
      "      Total |        464      100.00\n"
     ]
    }
   ],
   "source": [
    "tab countyfips\n",
    "tab year"
   ]
  },
  {
   "cell_type": "code",
   "execution_count": 9,
   "metadata": {
    "tags": []
   },
   "outputs": [
    {
     "name": "stdout",
     "output_type": "stream",
     "text": [
      "file asthma.dta saved\n"
     ]
    }
   ],
   "source": [
    "save asthma.dta, replace"
   ]
  },
  {
   "cell_type": "code",
   "execution_count": 14,
   "metadata": {
    "collapsed": true,
    "jupyter": {
     "outputs_hidden": true,
     "source_hidden": true
    },
    "tags": []
   },
   "outputs": [
    {
     "name": "stdout",
     "output_type": "stream",
     "text": [
      "(bin=21, start=2.0999999, width=.24761906)\n"
     ]
    },
    {
     "data": {
      "image/png": "[encoded data removed]",
      "text/plain": [
       "<IPython.core.display.Image object>"
      ]
     },
     "metadata": {},
     "output_type": "display_data"
    }
   ],
   "source": [
    "//looking at the distribution of asthma hospitalization rates\n",
    "histogram value"
   ]
  },
  {
   "cell_type": "code",
   "execution_count": 10,
   "metadata": {
    "tags": []
   },
   "outputs": [
    {
     "name": "stdout",
     "output_type": "stream",
     "text": [
      "(encoding automatically selected: ISO-8859-1)\n",
      "(9 vars, 1,624 obs)\n"
     ]
    }
   ],
   "source": [
    "//Setting up Data: Upload\n",
    "// CDC ACS Census Data: Racial demographics of CA by county\n",
    "import delimited using \"/Users/emilyernst/Desktop/garden/soc_211_assignments/potentialdata/CDC_Queries/CENSUS-CA-Race/download (2)/data_204959.csv\" , clear"
   ]
  },
  {
   "cell_type": "code",
   "execution_count": 11,
   "metadata": {
    "tags": []
   },
   "outputs": [
    {
     "name": "stdout",
     "output_type": "stream",
     "text": [
      "statefips     countyfips    year          datacomment   raceethnic~y\n",
      "state         county        value         v8\n"
     ]
    }
   ],
   "source": [
    "ds"
   ]
  },
  {
   "cell_type": "code",
   "execution_count": 12,
   "metadata": {
    "tags": []
   },
   "outputs": [],
   "source": [
    "keep countyfips year raceethnicity value"
   ]
  },
  {
   "cell_type": "code",
   "execution_count": 13,
   "metadata": {
    "tags": []
   },
   "outputs": [
    {
     "name": "stdout",
     "output_type": "stream",
     "text": [
      "\n",
      "                         Race Ethnicity |      Freq.     Percent        Cum.\n",
      "----------------------------------------+-----------------------------------\n",
      " All Non-White Races including Hispanic |        232       14.29       14.29\n",
      "American Indian/Alaskan Native includ.. |        232       14.29       28.57\n",
      "Asian/Pacific Islander including Hisp.. |        232       14.29       42.86\n",
      "               Black including Hispanic |        232       14.29       57.14\n",
      "                     Hispanic All Races |        232       14.29       71.43\n",
      "               Other including Hispanic |        232       14.29       85.71\n",
      "               White including Hispanic |        232       14.29      100.00\n",
      "----------------------------------------+-----------------------------------\n",
      "                                  Total |      1,624      100.00\n"
     ]
    }
   ],
   "source": [
    "tab raceethnicity"
   ]
  },
  {
   "cell_type": "code",
   "execution_count": 14,
   "metadata": {
    "tags": []
   },
   "outputs": [],
   "source": [
    "encode raceethnicity, generate(race)"
   ]
  },
  {
   "cell_type": "code",
   "execution_count": 15,
   "metadata": {
    "tags": []
   },
   "outputs": [],
   "source": [
    "drop raceethnicity"
   ]
  },
  {
   "cell_type": "code",
   "execution_count": 16,
   "metadata": {
    "tags": []
   },
   "outputs": [
    {
     "name": "stdout",
     "output_type": "stream",
     "text": [
      "\n",
      "                         Race Ethnicity |      Freq.     Percent        Cum.\n",
      "----------------------------------------+-----------------------------------\n",
      " All Non-White Races including Hispanic |        232       14.29       14.29\n",
      "American Indian/Alaskan Native includin |        232       14.29       28.57\n",
      "Asian/Pacific Islander including Hispan |        232       14.29       42.86\n",
      "               Black including Hispanic |        232       14.29       57.14\n",
      "                     Hispanic All Races |        232       14.29       71.43\n",
      "               Other including Hispanic |        232       14.29       85.71\n",
      "               White including Hispanic |        232       14.29      100.00\n",
      "----------------------------------------+-----------------------------------\n",
      "                                  Total |      1,624      100.00\n",
      "\n",
      "       Race |\n",
      "  Ethnicity |      Freq.     Percent        Cum.\n",
      "------------+-----------------------------------\n",
      "          1 |        232       14.29       14.29\n",
      "          2 |        232       14.29       28.57\n",
      "          3 |        232       14.29       42.86\n",
      "          4 |        232       14.29       57.14\n",
      "          5 |        232       14.29       71.43\n",
      "          6 |        232       14.29       85.71\n",
      "          7 |        232       14.29      100.00\n",
      "------------+-----------------------------------\n",
      "      Total |      1,624      100.00\n"
     ]
    }
   ],
   "source": [
    "tab race\n",
    "tab race, nol"
   ]
  },
  {
   "cell_type": "code",
   "execution_count": 17,
   "metadata": {
    "tags": []
   },
   "outputs": [
    {
     "name": "stdout",
     "output_type": "stream",
     "text": [
      "(1,392 observations deleted)\n"
     ]
    }
   ],
   "source": [
    "drop if race!=7"
   ]
  },
  {
   "cell_type": "code",
   "execution_count": 18,
   "metadata": {
    "tags": []
   },
   "outputs": [
    {
     "name": "stdout",
     "output_type": "stream",
     "text": [
      "\u001b[31mvalues not found\n",
      "r(111);\u001b[0m\n"
     ]
    }
   ],
   "source": [
    "egen poc_values = sum(values)"
   ]
  },
  {
   "cell_type": "code",
   "execution_count": 32,
   "metadata": {
    "tags": []
   },
   "outputs": [],
   "source": [
    "order countyfips year\n",
    "sort countyfips year"
   ]
  },
  {
   "cell_type": "code",
   "execution_count": 33,
   "metadata": {
    "collapsed": true,
    "jupyter": {
     "outputs_hidden": true
    },
    "tags": []
   },
   "outputs": [
    {
     "name": "stdout",
     "output_type": "stream",
     "text": [
      "\n",
      " CountyFIPS |      Freq.     Percent        Cum.\n",
      "------------+-----------------------------------\n",
      "       6001 |         24        1.72        1.72\n",
      "       6003 |         24        1.72        3.45\n",
      "       6005 |         24        1.72        5.17\n",
      "       6007 |         24        1.72        6.90\n",
      "       6009 |         24        1.72        8.62\n",
      "       6011 |         24        1.72       10.34\n",
      "       6013 |         24        1.72       12.07\n",
      "       6015 |         24        1.72       13.79\n",
      "       6017 |         24        1.72       15.52\n",
      "       6019 |         24        1.72       17.24\n",
      "       6021 |         24        1.72       18.97\n",
      "       6023 |         24        1.72       20.69\n",
      "       6025 |         24        1.72       22.41\n",
      "       6027 |         24        1.72       24.14\n",
      "       6029 |         24        1.72       25.86\n",
      "       6031 |         24        1.72       27.59\n",
      "       6033 |         24        1.72       29.31\n",
      "       6035 |         24        1.72       31.03\n",
      "       6037 |         24        1.72       32.76\n",
      "       6039 |         24        1.72       34.48\n",
      "       6041 |         24        1.72       36.21\n",
      "       6043 |         24        1.72       37.93\n",
      "       6045 |         24        1.72       39.66\n",
      "       6047 |         24        1.72       41.38\n",
      "       6049 |         24        1.72       43.10\n",
      "       6051 |         24        1.72       44.83\n",
      "       6053 |         24        1.72       46.55\n",
      "       6055 |         24        1.72       48.28\n",
      "       6057 |         24        1.72       50.00\n",
      "       6059 |         24        1.72       51.72\n",
      "       6061 |         24        1.72       53.45\n",
      "       6063 |         24        1.72       55.17\n",
      "       6065 |         24        1.72       56.90\n",
      "       6067 |         24        1.72       58.62\n",
      "       6069 |         24        1.72       60.34\n",
      "       6071 |         24        1.72       62.07\n",
      "       6073 |         24        1.72       63.79\n",
      "       6075 |         24        1.72       65.52\n",
      "       6077 |         24        1.72       67.24\n",
      "       6079 |         24        1.72       68.97\n",
      "       6081 |         24        1.72       70.69\n",
      "       6083 |         24        1.72       72.41\n",
      "       6085 |         24        1.72       74.14\n",
      "       6087 |         24        1.72       75.86\n",
      "       6089 |         24        1.72       77.59\n",
      "       6091 |         24        1.72       79.31\n",
      "       6093 |         24        1.72       81.03\n",
      "       6095 |         24        1.72       82.76\n",
      "       6097 |         24        1.72       84.48\n",
      "       6099 |         24        1.72       86.21\n",
      "       6101 |         24        1.72       87.93\n",
      "       6103 |         24        1.72       89.66\n",
      "       6105 |         24        1.72       91.38\n",
      "       6107 |         24        1.72       93.10\n",
      "       6109 |         24        1.72       94.83\n",
      "       6111 |         24        1.72       96.55\n",
      "       6113 |         24        1.72       98.28\n",
      "       6115 |         24        1.72      100.00\n",
      "------------+-----------------------------------\n",
      "      Total |      1,392      100.00\n",
      "\n",
      "       Year |      Freq.     Percent        Cum.\n",
      "------------+-----------------------------------\n",
      "       2016 |        348       25.00       25.00\n",
      "       2017 |        348       25.00       50.00\n",
      "       2018 |        348       25.00       75.00\n",
      "       2019 |        348       25.00      100.00\n",
      "------------+-----------------------------------\n",
      "      Total |      1,392      100.00\n"
     ]
    }
   ],
   "source": [
    "tab countyfips\n",
    "tab year"
   ]
  },
  {
   "cell_type": "code",
   "execution_count": 34,
   "metadata": {
    "tags": []
   },
   "outputs": [],
   "source": [
    "quietly by countyfips year: gen dup= cond(_N==1,0,_n)"
   ]
  },
  {
   "cell_type": "code",
   "execution_count": 35,
   "metadata": {
    "tags": []
   },
   "outputs": [
    {
     "name": "stdout",
     "output_type": "stream",
     "text": [
      "(1,160 observations deleted)\n"
     ]
    }
   ],
   "source": [
    "drop if dup>1"
   ]
  },
  {
   "cell_type": "code",
   "execution_count": 36,
   "metadata": {
    "tags": []
   },
   "outputs": [],
   "source": [
    "drop dup\n",
    "drop race"
   ]
  },
  {
   "cell_type": "code",
   "execution_count": 37,
   "metadata": {
    "tags": []
   },
   "outputs": [],
   "source": [
    "rename value white_values"
   ]
  },
  {
   "cell_type": "code",
   "execution_count": null,
   "metadata": {},
   "outputs": [],
   "source": [
    "** drop value"
   ]
  },
  {
   "cell_type": "code",
   "execution_count": 24,
   "metadata": {
    "tags": []
   },
   "outputs": [
    {
     "name": "stdout",
     "output_type": "stream",
     "text": [
      "year already numeric; no replace\n",
      "countyfips already numeric; no replace\n"
     ]
    }
   ],
   "source": [
    "destring year, replace\n",
    "destring countyfips, replace"
   ]
  },
  {
   "cell_type": "code",
   "execution_count": 25,
   "metadata": {
    "tags": []
   },
   "outputs": [
    {
     "name": "stdout",
     "output_type": "stream",
     "text": [
      "file race_white.dta saved\n"
     ]
    }
   ],
   "source": [
    "save race_white.dta, replace"
   ]
  },
  {
   "cell_type": "code",
   "execution_count": 26,
   "metadata": {
    "tags": []
   },
   "outputs": [
    {
     "name": "stdout",
     "output_type": "stream",
     "text": [
      "variables countyfips year do not uniquely identify observations in the using\n",
      "\u001b[31m    data\n",
      "r(459);\u001b[0m\n"
     ]
    }
   ],
   "source": [
    "//never do merge m:m!!!!!!\n",
    "//can do 1:m m:1 but never m:m\n",
    "merge m:1 countyfips year using asthma.dta, force"
   ]
  },
  {
   "cell_type": "code",
   "execution_count": null,
   "metadata": {
    "tags": []
   },
   "outputs": [],
   "source": [
    "ds"
   ]
  },
  {
   "cell_type": "code",
   "execution_count": null,
   "metadata": {
    "tags": []
   },
   "outputs": [],
   "source": [
    "tab raceethnicity"
   ]
  },
  {
   "cell_type": "code",
   "execution_count": null,
   "metadata": {
    "tags": []
   },
   "outputs": [],
   "source": [
    "// Turning dependent variable into dummy/dichotomous variable\n",
    "tab raceethnicity\n",
    "tab raceethnicity, nol\n",
    "\n",
    "gen white=raceethnicity\n"
   ]
  },
  {
   "cell_type": "code",
   "execution_count": null,
   "metadata": {
    "tags": []
   },
   "outputs": [],
   "source": []
  },
  {
   "cell_type": "code",
   "execution_count": null,
   "metadata": {
    "tags": []
   },
   "outputs": [],
   "source": [
    "// Labeling dependent variable\n",
    "\n",
    "label variable democrat \"Identifies as Democrat\"\n",
    "label define democrat 0 \"Not Democrat\" 1 \"Democrat\"\n",
    "label values democrat democrat"
   ]
  },
  {
   "cell_type": "code",
   "execution_count": null,
   "metadata": {},
   "outputs": [],
   "source": [
    "// Taking a quick look at my independent variables\n",
    "tab sex\n",
    "tab race\n",
    "tab rincome\n",
    "tab polviews"
   ]
  },
  {
   "cell_type": "code",
   "execution_count": null,
   "metadata": {
    "tags": []
   },
   "outputs": [],
   "source": [
    "// Cleaning up political ideology variable\n",
    "\n",
    "tab polviews, nol\n",
    "gen liberal=polviews\n",
    "\n",
    "replace liberal=1 if polviews==1 | polviews==2 | polviews==3\n",
    "replace liberal=0 if liberal!=1\n",
    "\n",
    "tab liberal"
   ]
  },
  {
   "cell_type": "code",
   "execution_count": null,
   "metadata": {
    "tags": []
   },
   "outputs": [],
   "source": [
    "// Labeling political ideology variable\n",
    "\n",
    "label variable liberal \"Identifies as Liberal\"\n",
    "label define liberal 0 \"Not Liberal\" 1 \"Liberal\"\n",
    "label values liberal liberal"
   ]
  },
  {
   "cell_type": "code",
   "execution_count": null,
   "metadata": {
    "tags": []
   },
   "outputs": [],
   "source": [
    "// Creating a dummy for people of color\n",
    "tab race, nol\n",
    "\n",
    "gen poc=.\n",
    "\n",
    "replace poc=1 if race==2 | race==3\n",
    "replace poc=0 if race==1\n",
    "\n",
    "tab poc"
   ]
  },
  {
   "cell_type": "code",
   "execution_count": null,
   "metadata": {
    "tags": []
   },
   "outputs": [],
   "source": [
    "// Labeling race variable\n",
    "\n",
    "label variable poc \"Identifies as Person of Color (PoC)\"\n",
    "label define poc 0 \"Not PoC\" 1 \"PoC\"\n",
    "label values poc poc"
   ]
  },
  {
   "cell_type": "code",
   "execution_count": null,
   "metadata": {
    "tags": []
   },
   "outputs": [],
   "source": [
    "// Creating a dummy for women\n",
    "tab sex, nol\n",
    "\n",
    "gen female=1 if sex==2\n",
    "replace female=0 if sex==1\n",
    "\n",
    "tab female"
   ]
  },
  {
   "cell_type": "code",
   "execution_count": null,
   "metadata": {
    "tags": []
   },
   "outputs": [],
   "source": [
    "// Labeling sex variable\n",
    "\n",
    "label variable female \"Identifies as Woman\"\n",
    "label define female 0 \"Not Woman\" 1 \"Woman\"\n",
    "label values female female"
   ]
  },
  {
   "cell_type": "markdown",
   "metadata": {},
   "source": [
    "### 1. Develop hypotheses that approach a nominal variable in your dataset as a dependent variable (DV). [1 pt]\n",
    "\n",
    "* If your nominal variable has more than two categorical variables, such as political party affiliation categories of -- Democrat, Democratic Socialist, Green, Independent, or Republican -- develop hypotheses that treat being or not being in at least one of the categories as a dichotomous binomial dependent variable (DV).\n",
    "\n",
    "* Even if you are not interested in any categorical outcomes for your research project, still develop an hypothesis for at least one nominal variable in your data as a dependent variable. Thinking about potential influences on that variable could help you see if there are intervening relationships or omitted variable biases in your primary outcome of interest.\n",
    "\n",
    "Do the following when you write your hypothesis:\n",
    "\n",
    "    A. Write a separate hypothesis for each dependent variable (DV) you want to analyze.\n",
    "    \n",
    "    ---\n",
    "    Anh's Example: I hypothesize that being a person of color, being female, having higher income, and being more liberal predicts identification with the Democratic party.\n",
    "    ---\n",
    "    \n",
    "    B. For each dependent variable (DV) state the predicted direction of association between your dependent variable DV and independent variables (IVs) in your model. You can predict no relationship if you do not expect a relationship.\n",
    "    \n",
    "    ---\n",
    "    Anh's Example: The relationship between income and Democratic party identification is negative. People of color, women, and liberals have higher odds of identifying with the Democratic party.\n",
    "    ---\n",
    "    \n",
    "    C. Write a couple sentences about the theoretical reasons (prior knowledge / research) for each of your predictions\n",
    "    \n",
    "    ---\n",
    "    Anh's Note: Refer back to either literature or to just your intuition. Either is fine.\n",
    "    ---"
   ]
  },
  {
   "cell_type": "markdown",
   "metadata": {},
   "source": [
    "### 2. Test your hypotheses [3 pts]\n",
    "\n",
    "    A. Create a frequency table for your dependent variable (DV).\n",
    "\n",
    "    B. Estimate an OLS model regressing your dichotomous dependent variable (DV) on your hypothesized independent variables (IVs) and store the results.\n",
    "    \n",
    "    C. Estimate an MLE logistic model regressing your dichotomous dependent variable (DV) on your hypothesized independent variables (IVs) and store the results.\n",
    "    \n",
    "    D. Use esttab to output the coefficients for your OLS and MLE logistic models with html formatting within your Jupyter Notebook.\n",
    "    \n",
    "    E. Use esttab to reoutput your coefficients as odd ratios."
   ]
  },
  {
   "cell_type": "code",
   "execution_count": null,
   "metadata": {
    "tags": []
   },
   "outputs": [],
   "source": [
    "*** PART A: Creating frequency table for dependent variable\n",
    "\n",
    "tab democrat"
   ]
  },
  {
   "cell_type": "code",
   "execution_count": null,
   "metadata": {
    "tags": []
   },
   "outputs": [],
   "source": [
    "// Clearing stored estimates\n",
    "\n",
    "est clear"
   ]
  },
  {
   "cell_type": "code",
   "execution_count": null,
   "metadata": {
    "tags": []
   },
   "outputs": [],
   "source": [
    "*** PART B: Estimating an OLS model and storing results\n",
    "// Use \"ro\", short for robust, to get robust standard errors\n",
    "\n",
    "eststo: reg democrat i.poc i.female i.liberal rincome, ro"
   ]
  },
  {
   "cell_type": "code",
   "execution_count": null,
   "metadata": {
    "tags": []
   },
   "outputs": [],
   "source": [
    "*** PART C: Estimating an MLE logistic model and storing results\n",
    "// Use \"ro\" again to get robust standard errors\n",
    "\n",
    "eststo: logit democrat i.poc i.female i.liberal rincome, ro\n",
    "eststo: margins, dydx(*) post atmeans"
   ]
  },
  {
   "cell_type": "code",
   "execution_count": null,
   "metadata": {},
   "outputs": [],
   "source": [
    "*** PART D: Outputting Table Results\n",
    "\n",
    "esttab ///\n",
    ", cells(b(star fmt(2)) se(fmt(2) par)) stardetach  ///\n",
    "\tlegend starlevels(^ .1 * .05 ** .01 *** .001) ///\n",
    "mlabels(\"OLS\" \"MLE / logistic\" \"MLE marginal effects\") title(\"Unexpontiated Coefficients\") ///\n",
    "collabels(none) keep(1.poc 1.female 1.liberal rincome _cons)"
   ]
  },
  {
   "cell_type": "code",
   "execution_count": null,
   "metadata": {},
   "outputs": [],
   "source": [
    "*** PART E: Outputting Table Results with Odds Ratio\n",
    "// Do this by using \"eform\"\n",
    "\n",
    "esttab ///\n",
    ", cells(b(star fmt(2)) se(fmt(2) par)) stardetach  ///\n",
    "\tlegend starlevels(^ .1 * .05 ** .01 *** .001) ///\n",
    "mlabels(\"OLS\" \"MLE / logistic\" \"MLE marginal effects\") title(\"Odds Ratio\") ///\n",
    "collabels(none) keep(1.poc 1.female 1.liberal rincome _cons) eform"
   ]
  },
  {
   "cell_type": "markdown",
   "metadata": {},
   "source": [
    "### 3. Interpret your results [1 pt]\n",
    "\n",
    "Write a couple sentences answering each of the following questions:\n",
    "\n",
    "    A. How would you interpret the relationship between your dependent variable(s) (DVs) and independent variables (IVs) based on the odds ratios for you MLE logistic model?\n",
    "\n",
    "    B. Do the overall estimates support or contradict your hypotheses? Why?\n",
    "    \n",
    "    C. Is there anything suprising in your model estimates? Why?\n",
    "    \n",
    "    D. How do the OLS coefficients and their standard errors compare to the MLE estimates? Are the coefficients and standard errors larger or smaller?"
   ]
  },
  {
   "cell_type": "markdown",
   "metadata": {},
   "source": [
    "#### Part A: Interpreting Relationship\n",
    "\n",
    "Feel free to use the following format for your assignment.\n",
    "* For these interpretations, I am looking specifically at the odds ratio table and looking at the marginal effects column with regards to the MLE model. For odds ratios that are greater than 1 (which are positive odds ratios), you can substract the value by one and interpret it as a positive percent. For odds ratios less than 1 (which are negative odds ratios), you can also substract the value by one and interpret the value as a negative percent. \n",
    "\n",
    "Interpreting for nominal or dichotomous independent variables:\n",
    "* Anh's example: The odds of identifying as Democrat is 7% more for people of color compared to white people. The odds of identifying as Democrat is 4% more for women compared to men. The odds of identifying as Democrat is 8% more for liberals compared to people who do not consider themselves to be liberal.\n",
    "\n",
    "Interpreting for interval-ratio or continuous independent variables:\n",
    "* Anh's example: For every one unit increase in respondent's income, there is a 0% increase in the odds of identifying as a Democrat. (This happens sometimes with results, where you get a statistically significant result but the odds ratio is 1.00 (or the coefficient is 0.00). A result like this indicates that the predictor/independent variable has either no effect or a very small/negligible effect on the outcome/dependent variable.)\n",
    "\n",
    "When interpreting the unexponentiated coefficients, you would say something like \"The log odds for being a person of color and identifying as a Democrat is 0.07.\"\n",
    "* As Charlie implied during lecture, unexponentiated coefficients are hard to interpret. It is not intuitive for most people to look at that and understand what log odds is. That is why we transform the unexponentiated coefficients into odds ratios."
   ]
  },
  {
   "cell_type": "markdown",
   "metadata": {},
   "source": [
    "#### Part B: Comparing Results to Hypothesis\n",
    "\n",
    "Refer back to the directions/general results you expected to find.\n",
    "* Anh's example: The results provide some supporting evidence for my hypothesis. I expected to find that women, people of color, and liberals have higher odds of identifying as Democrats, and my findings support my predictions. Surprisingly however, there appears to be no relationship between income and identification with the Democratic party."
   ]
  },
  {
   "cell_type": "markdown",
   "metadata": {},
   "source": [
    "#### Part C: Surprising Findings\n",
    "\n",
    "Part C is asking about which results are surprising based on intuition or what you know about the literature.\n",
    "* Anh's example: I am surprised to see that income seemingly has no effect on party identification as a Democrat. Past research suggests that richer people tend to be Republicans rather than Democrats, but my result implies that this relationship may not be straightforward (as in income may not be the sole or even an important factor in party identification).\n",
    "\n",
    "* NOTE: You may not have to answer this part of the question if the results support the predictions in Q1."
   ]
  },
  {
   "cell_type": "markdown",
   "metadata": {},
   "source": [
    "#### Part D: OLS VS MLE Results\n",
    "\n",
    "Focus on magnitude, direction, and standard errors of the unexponentiated coefficients between the OLS and MLE marginal effects columns. If there are differences, state what is different (no need to explain why- if there is a difference, there is simply a difference).\n",
    "* Anh's example: The magnitude, direction, and standard errors of my findings are comparable between the OLS and MLE models. There appears to be virtually no difference in the results."
   ]
  },
  {
   "cell_type": "markdown",
   "metadata": {},
   "source": [
    "### Notes from Anh\n",
    "\n",
    "#### IMPORTANT: You don't have to include this following section in your assignment. This is just for your information."
   ]
  },
  {
   "cell_type": "markdown",
   "metadata": {},
   "source": [
    "#### What is maximum likelihood estimation (MLE)?\n",
    "\n",
    "Maximum likelihood estimation involves finding \"parameters that maximizes the likelihood of observing the sample data\" (Treiman 2009:302). This process is what Charlie was trying to show us in class on the Excel sheet. You do not have to understand exactly how the math behind MLE is occurring; just remember that the process for generating results behind MLE is different than it is for OLS.\n",
    "* Remember- likelihood is different than probability. With MLE, you are examining \"the likelihood of the parameters μ and σ taking certain values given that we’ve observed a bunch of data\" versus with OLS which has you examining \"the probability density of observing the data with model parameters μ and σ\" (reference this link for more information: https://towardsdatascience.com/probability-concepts-explained-maximum-likelihood-estimation-c7b4342fdbb1).\n",
    "\n",
    "MLE comes with its own assumptions, similar to the assumptions of linear models which focus on minimizing the error of the sum of squares (OLS = ordinary least squares).\n",
    "\n",
    "Assumptions of MLE:\n",
    "1. Independence of errors: The observations are not related to one another.\n",
    "2. Absence of multicollinearity: The independent variables are not highly correlated with one another.\n",
    "    * Use the \"vif\" command in Stata to calculate the variance inflation scores and test for multicollinearity. \n",
    "    \n",
    "3. Linearity in relationship between independent variables and log odds (aka the logit of the dependent variable): \n",
    "    * This assumption comes from the use of the following function in MLE:\n",
    "    $Logit(p) = log\\frac{p}{1-p}$\n",
    "    \n",
    "4. No extreme outliers: A large/adequate sample size is needed to accurately run MLE so that the outliers you have are not numerous or influential for the overall results."
   ]
  },
  {
   "cell_type": "markdown",
   "metadata": {},
   "source": [
    "#### Why do we calculate the marginal effects (specifically marginal odds ratios) for logistic regression?\n",
    "\n",
    "We calculate the marginal effects of our logistic regression results so that we can compare coefficients/results across different models. When we get the marginal odds ratios for logistic regression, we are accounting for how the odds ratio (calculated without marginal effects) changes depending on all the independent variables that are included in a particular model.\n",
    "\n",
    "Read more on this here: https://sociologicalscience.com/download/vol_10/april/SocSci_v10_332to347.pdf "
   ]
  },
  {
   "cell_type": "markdown",
   "metadata": {},
   "source": [
    "#### Linear Probability Model vs Logistic Regression Model Debate\n",
    "\n",
    "Treiman (P. 302): \"Although as we have seen, OLS regression procedures can easily handle categorical independent  variables, they are not appropriate for categorical dependent variables, even dichotomies. In the case of dichotomous dependent variables, the assumptions of multiple regression, including in particular that errors of prediction are normally distributed, break down badly, often yielding seriously misleading results; moreover, predicted values often lie outside the logically possible range (zero to one).\"\n",
    "* To clarify, the biggest concern with the linear probability model (aka doing OLS regression for binary dependent variables) is that the results you receive may fall outside of the 0 - 1 spectrum, making the findings uninterpretable."
   ]
  },
  {
   "cell_type": "markdown",
   "metadata": {},
   "source": [
    "#### Quick Note on probit models\n",
    "\n",
    "Probit models, also used in lieu of OLS when the dependent variable is dichotomous, provide comparable results that you will see when doing logistic regression. Probit models are not common in sociology (most sociologists use logistic regression for binary dependent variables).\n",
    "* Probit models use the cumulative distribution function rather than maximum likelihood estimation. You would also calculate marginal effects for the coefficients of probit models when interpreting findings.\n",
    "* Read more on doing probit models in Stata here: https://blog.stata.com/2016/01/07/probit-or-logit-ladies-and-gentlemen-pick-your-weapon/"
   ]
  },
  {
   "cell_type": "code",
   "execution_count": null,
   "metadata": {},
   "outputs": [],
   "source": []
  }
 ],
 "metadata": {
  "kernelspec": {
   "display_name": "Stata (nbstata)",
   "language": "stata",
   "name": "nbstata"
  },
  "language_info": {
   "file_extension": ".do",
   "mimetype": "text/x-stata",
   "name": "stata",
   "version": "17"
  }
 },
 "nbformat": 4,
 "nbformat_minor": 4
}
