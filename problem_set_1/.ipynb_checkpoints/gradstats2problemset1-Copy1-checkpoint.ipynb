{
 "cells": [
  {
   "cell_type": "markdown",
   "metadata": {
    "nbgrader": {
     "grade": false,
     "grade_id": "cell-b22b7a7ab2c2897a",
     "locked": true,
     "schema_version": 3,
     "solution": false,
     "task": false
    }
   },
   "source": [
    "# Grad stats 2 problem set 1"
   ]
  },
  {
   "cell_type": "markdown",
   "metadata": {
    "nbgrader": {
     "grade": false,
     "grade_id": "cell-45d9dcb89e9e0cb0",
     "locked": true,
     "schema_version": 3,
     "solution": false,
     "task": false
    }
   },
   "source": [
    "## 1. Set your current directory and download Charlie's dataset or your own data set using the \"copy\" command followed by \"import delimited\" or \"use\" depending on the format of your data [5 points]"
   ]
  },
  {
   "cell_type": "code",
   "execution_count": 2,
   "metadata": {
    "scrolled": true
   },
   "outputs": [
    {
     "name": "stdout",
     "output_type": "stream",
     "text": [
      "/Users/emilyernst/Desktop/garden/soc_211_assignments\n",
      "(52 vars, 205,262 obs)\n"
     ]
    }
   ],
   "source": [
    "cd \"/Users/emilyernst/Desktop/garden/soc_211_assignments\"\n",
    "copy \"https://raw.githubusercontent.com/HigherEdData/Private-Equity-and-For-Profit-Colleges-as-Agile-Predators/master/agilepredatorsdata20191116.csv\" ///\n",
    "agilepredatorsdata20191116.csv, replace\n",
    "insheet using \"agilepredatorsdata20191116.csv\", comma clear"
   ]
  },
  {
   "cell_type": "markdown",
   "metadata": {},
   "source": [
    "## 2. list all of the variable names in the dataset using the \"ds\" command with the appropriate varwidth specification [1 point]"
   ]
  },
  {
   "cell_type": "code",
   "execution_count": 3,
   "metadata": {},
   "outputs": [
    {
     "name": "stdout",
     "output_type": "stream",
     "text": [
      "\n",
      "       owner_pe |      Freq.     Percent        Cum.\n",
      "----------------+-----------------------------------\n",
      "      Community |     41,264       20.10       20.10\n",
      "     Non-profit |     66,188       32.25       52.35\n",
      " Private equity |      6,799        3.31       55.66\n",
      " Privately held |     59,220       28.85       84.51\n",
      "Publicly traded |     11,559        5.63       90.14\n",
      "          State |     20,232        9.86      100.00\n",
      "----------------+-----------------------------------\n",
      "          Total |    205,262      100.00\n"
     ]
    }
   ],
   "source": [
    "tab owner_pe"
   ]
  },
  {
   "cell_type": "code",
   "execution_count": 5,
   "metadata": {},
   "outputs": [
    {
     "name": "stdout",
     "output_type": "stream",
     "text": [
      "all_under     grad_rat~p_w  ipo           pctchrtgrb~w  selective\n",
      "all_under_w   grtotltall~t  loan_amoun~w  pctchrtgrh~w  state_n\n",
      "chain         grtotltc~2yr  not_pe_po     pctchrtgrw~w  systemid\n",
      "dist_black~w  grtotltc~4yr  online        pe_ind        systemnm\n",
      "dist_fed_g~w  iclevel       owner_pe      peacqu        total_enro~t\n",
      "dist_hisp_~w  idx_ef        pct2yrc~at_w  peswitcher~l  tuitionall~w\n",
      "dist_pell_s   idx_f         pct2yrc~pt_w  peswitchsy~l  unitid\n",
      "dist_white~w  idx_gr        pct2yrc~tt_w  po_ind        year\n",
      "fed_grant_~w  idx_sfa       pct4yrc~at_w  poacqu\n",
      "grad_r~2yr_w  inst_name_~w  pct4yrc~pt_w  poswitcher~l\n",
      "grad_r~4yr_w  investevent   pct4yrc~tt_w  poswitchsy~l\n"
     ]
    }
   ],
   "source": [
    "ds, varwidth(12) alpha"
   ]
  },
  {
   "cell_type": "markdown",
   "metadata": {},
   "source": [
    "## 3. Use the help magic to print the help documenation for the **\"sum\"** command. If you need information on the help magic, see here: https://nbviewer.jupyter.org/github/kylebarron/stata_kernel/blob/master/examples/Example.ipynb [1 pt]"
   ]
  },
  {
   "cell_type": "code",
   "execution_count": 6,
   "metadata": {},
   "outputs": [
    {
     "data": {
      "text/html": [
       "\n",
       "<html>\n",
       "<head>\n",
       "<meta content=\"noindex, nofollow\" name=\"robots\"/>\n",
       "<title>Stata 18 help for sum</title>\n",
       "<link href=\"/includes/css/stylehelp.css\" rel=\"stylesheet\" type=\"text/css\"/>\n",
       "<style type=\"text/css\">h2 {\n",
       "    font-family: Arial,Helvetica,Helv,sans-serif;\n",
       "    color: #000000;\n",
       "}\n",
       "\n",
       "pre {\n",
       "    margin: 10px;\n",
       "}\n",
       "\n",
       "table {\n",
       "    background-color: transparent;\n",
       "    border-color: transparent;\n",
       "    bgcolor: transparent;\n",
       "}\n",
       "\n",
       "tr {\n",
       "    background-color: transparent;\n",
       "    border-color: transparent;\n",
       "    bgcolor: transparent;\n",
       "}\n",
       "\n",
       "body {\n",
       "    background-color: transparent;\n",
       "    border-color: transparent;\n",
       "    margin: 0px;\n",
       "}\n",
       "\n",
       "div {\n",
       "    background-color: transparent;\n",
       "    border-color: transparent;\n",
       "}\n",
       "</style>\n",
       "</head>\n",
       "<body>\n",
       "\n",
       "<p><table align=\"center\" bgcolor=\"transparent\" border=\"1\" cellpadding=\"5\" cellspacing=\"0\">\n",
       "<tr bgcolor=\"transparent\"><td align=\"left\" bgcolor=\"transparent\" valign=\"top\">\n",
       "<!-- END HEAD -->\n",
       "\n",
       "<pre>\n",
       "<p>                  +----------------------------------------+\n",
       "                  | See             |  For the             |\n",
       "                  |-----------------+----------------------|\n",
       "                  |                 |                      |\n",
       "                  | help <a href=\"https://www.stata.com/help.cgi?summarize\" target=\"_blank\"><b>summarize</b></a>  |  <b><u>su</u></b><b>mmarize</b> command   |\n",
       "                  |                 |                      |\n",
       "                  | help <a href=\"https://www.stata.com/help.cgi?sum%28%29\" target=\"_blank\"><b>sum()</b></a>      |  <b>sum()</b> function      |\n",
       "                  |                 |                      |\n",
       "                  +----------------------------------------+\n",
       "</p></pre>\n",
       "<!-- BEGIN FOOT -->\n",
       "</td></tr></table>\n",
       "\n",
       "\n",
       "\n",
       "</p></body>\n",
       "</html>\n"
      ],
      "text/plain": [
       "This front-end cannot display HTML help."
      ]
     },
     "metadata": {},
     "output_type": "display_data"
    }
   ],
   "source": [
    "%help sum"
   ]
  },
  {
   "cell_type": "markdown",
   "metadata": {},
   "source": [
    "## 4. Use the **\"drop\"** command with an **if statement** to drop schools if they are **state**, **community**, or **non-proft** in the **owner_pe** variable. Use the \"keep\" command and an if statement to only keep observations if the year is 2014, then use the summarize command with the **\"detail\"** specification to summarize the variable **\"dist_pell_s\"**. This variable measures a school's Pell Grant revenue per student. If you are working with your own data, use the **drop, keep, and summarize** commands to narrow your dataset in some systematic way and summarize an **interval ratio** variable. [5 pts]\n",
    "I dropped the state, community, non-profit ownership types and kept schools only in the year 2014 in the owner_pe variable because we're interested in for-profit colleges for the analysis. "
   ]
  },
  {
   "cell_type": "code",
   "execution_count": 7,
   "metadata": {},
   "outputs": [],
   "source": [
    "label var owner_pe \"ownership form\" // added missing var label (found in lesson plan)"
   ]
  },
  {
   "cell_type": "code",
   "execution_count": 8,
   "metadata": {},
   "outputs": [
    {
     "name": "stdout",
     "output_type": "stream",
     "text": [
      "\n",
      "-------------------------------------------------------------------------------\n",
      "owner_pe                                                         ownership form\n",
      "-------------------------------------------------------------------------------\n",
      "\n",
      "                  Type: String (str15)\n",
      "\n",
      "         Unique values: 6                         Missing \"\": 0/205,262\n",
      "\n",
      "            Tabulation: Freq.  Value\n",
      "                       41,264  \"Community\"\n",
      "                       66,188  \"Non-profit\"\n",
      "                        6,799  \"Private equity\"\n",
      "                       59,220  \"Privately held\"\n",
      "                       11,559  \"Publicly traded\"\n",
      "                       20,232  \"State\"\n",
      "\n",
      "               Warning: Variable has embedded blanks.\n"
     ]
    }
   ],
   "source": [
    "codebook owner_pe"
   ]
  },
  {
   "cell_type": "code",
   "execution_count": 9,
   "metadata": {},
   "outputs": [
    {
     "name": "stdout",
     "output_type": "stream",
     "text": [
      "(41,264 observations deleted)\n"
     ]
    }
   ],
   "source": [
    "drop if owner_pe==\"Community\""
   ]
  },
  {
   "cell_type": "code",
   "execution_count": 10,
   "metadata": {},
   "outputs": [
    {
     "name": "stdout",
     "output_type": "stream",
     "text": [
      "(20,232 observations deleted)\n"
     ]
    }
   ],
   "source": [
    "drop if owner_pe==\"State\""
   ]
  },
  {
   "cell_type": "code",
   "execution_count": 11,
   "metadata": {},
   "outputs": [
    {
     "name": "stdout",
     "output_type": "stream",
     "text": [
      "(66,188 observations deleted)\n"
     ]
    }
   ],
   "source": [
    "drop if owner_pe==\"Non-profit\""
   ]
  },
  {
   "cell_type": "code",
   "execution_count": 12,
   "metadata": {},
   "outputs": [
    {
     "name": "stdout",
     "output_type": "stream",
     "text": [
      "(73,937 observations deleted)\n"
     ]
    }
   ],
   "source": [
    "keep if year==2014"
   ]
  },
  {
   "cell_type": "code",
   "execution_count": 13,
   "metadata": {},
   "outputs": [
    {
     "name": "stdout",
     "output_type": "stream",
     "text": [
      "\n",
      "                         dist_pell_s\n",
      "-------------------------------------------------------------\n",
      "      Percentiles      Smallest\n",
      " 1%            0              0\n",
      " 5%     1527.947              0\n",
      "10%     2359.255              0       Obs               3,318\n",
      "25%     3344.478              0       Sum of wgt.       3,318\n",
      "\n",
      "50%     4332.054                      Mean            5125.71\n",
      "                        Largest       Std. dev.      3526.453\n",
      "75%     5597.208       17901.14\n",
      "90%     8209.691       17901.14       Variance       1.24e+07\n",
      "95%      14850.2       17901.14       Skewness        2.27957\n",
      "99%     17901.14       17901.14       Kurtosis       8.685116\n"
     ]
    }
   ],
   "source": [
    "sum dist_pell_s, detail // Variable: Schools' Pell Grant revenue per student"
   ]
  },
  {
   "cell_type": "code",
   "execution_count": 14,
   "metadata": {},
   "outputs": [
    {
     "name": "stdout",
     "output_type": "stream",
     "text": [
      "\n",
      " ownership form |      Freq.     Percent        Cum.\n",
      "----------------+-----------------------------------\n",
      " Private equity |        552       15.16       15.16\n",
      " Privately held |      2,167       59.52       74.68\n",
      "Publicly traded |        922       25.32      100.00\n",
      "----------------+-----------------------------------\n",
      "          Total |      3,641      100.00\n"
     ]
    }
   ],
   "source": [
    "tab owner_pe"
   ]
  },
  {
   "cell_type": "markdown",
   "metadata": {},
   "source": [
    "## 5. Create 1) a histogram and 2) a boxplot to visualize the distribution of Pell Grant revenue (or an interval ratio variable from your own dataset) in the following code cell. Then interpret the distributions in this markdown cell [3 pts]\n",
    "Interpretation: The data shows the distribution of Pell Grant Revenue is positively skewed (to the right) which means the majority of the data set is larger than the mean and median of this variable, Pell Grant revenue."
   ]
  },
  {
   "cell_type": "code",
   "execution_count": 38,
   "metadata": {},
   "outputs": [
    {
     "name": "stdout",
     "output_type": "stream",
     "text": [
      "(bin=35, start=0, width=511.46116)\n"
     ]
    },
    {
     "data": {
      "image/png": "[encoded data removed]",
      "text/plain": [
       "<IPython.core.display.Image object>"
      ]
     },
     "metadata": {},
     "output_type": "display_data"
    }
   ],
   "source": [
    "histogram dist_pell_s, xtitle(Pell Grant Revenue)"
   ]
  },
  {
   "cell_type": "code",
   "execution_count": 16,
   "metadata": {},
   "outputs": [
    {
     "name": "stdout",
     "output_type": "stream",
     "text": [
      "\n",
      "[R] histogram -- Histograms for continuous and categorical variables\n",
      "                 (View complete PDF manual entry)\n",
      "\n",
      "\n",
      "Syntax\n",
      "------\n",
      "\n",
      "        histogram varname [if] [in] [weight] [, [continuous_opts |\n",
      "                  discrete_opts] options]\n",
      "\n",
      "    continuous_opts                     Description\n",
      "    -------------------------------------------------------------------------\n",
      "    Main\n",
      "      bins(#)                           set number of bins to #\n",
      "      width(#)                          set width of bins to #\n",
      "      start(#)                          set lower limit of first bin to #\n",
      "    -------------------------------------------------------------------------\n",
      "\n",
      "    discrete_opts                       Description\n",
      "    -------------------------------------------------------------------------\n",
      "    Main\n",
      "      discrete                          specify that data are discrete\n",
      "      width(#)                          set width of bins to #\n",
      "      start(#)                          set theoretical minimum value to #\n",
      "    -------------------------------------------------------------------------\n",
      "\n",
      "    options                             Description\n",
      "    -------------------------------------------------------------------------\n",
      "    Main\n",
      "      density                           draw as density; the default\n",
      "      fraction                          draw as fractions\n",
      "      frequency                         draw as frequencies\n",
      "      percent                           draw as percentages\n",
      "      bar_options                       rendition of bars\n",
      "      binrescale                        recalculate bin sizes when by() is\n",
      "                                          specified\n",
      "      addlabels                         add height labels to bars\n",
      "      addlabopts(marker_label_options)  affect rendition of labels\n",
      "\n",
      "    Density plots\n",
      "      normal                            add a normal density to the graph\n",
      "      normopts(line_options)            affect rendition of normal density\n",
      "      kdensity                          add a kernel density estimate to the\n",
      "                                          graph\n",
      "      kdenopts(kdensity_options)        affect rendition of kernel density\n",
      "\n",
      "\n",
      "    Add plots\n",
      "      addplot(plot)                     add other plots to the histogram\n",
      "\n",
      "    Y axis, X axis, Titles, Legend, Overall, By\n",
      "      twoway_options                    any options documented in [G-3]\n",
      "                                          twoway_options\n",
      "    -------------------------------------------------------------------------\n",
      "    fweights are allowed; see weight.\n",
      "\n",
      "\n",
      "Menu\n",
      "----\n",
      "\n",
      "    Graphics > Histogram\n",
      "\n",
      "\n",
      "Description\n",
      "-----------\n",
      "\n",
      "    histogram draws histograms of varname, which is assumed to be the name of\n",
      "    a continuous variable unless the discrete option is specified.\n",
      "\n",
      "    hist is a synonym for histogram.\n",
      "\n",
      "\n",
      "Links to PDF documentation\n",
      "--------------------------\n",
      "\n",
      "        Quick start\n",
      "\n",
      "        Remarks and examples\n",
      "\n",
      "    The above sections are not included in this help file.\n",
      "\n",
      "\n",
      "Options for use in the continuous case\n",
      "--------------------------------------\n",
      "\n",
      "        +------+\n",
      "    ----+ Main +-------------------------------------------------------------\n",
      "\n",
      "    bins(#) and width(#) are alternatives.  They specify how the data are to\n",
      "        be aggregated into bins: bins() by specifying the number of bins\n",
      "        (from which the width can be derived) and width() by specifying the\n",
      "        bin width (from which the number of bins can be derived).\n",
      "\n",
      "        If neither option is specified, results are the same as if bins(k)\n",
      "        had been specified, where\n",
      "\n",
      "            k = min{sqrt(N), 10*ln(N)/ln(10)}\n",
      "\n",
      "        and where N is the (weighted) number of observations.\n",
      "\n",
      "    start(#) specifies the theoretical minimum of varname.  The default is\n",
      "        start(m), where m is the observed minimum value of varname.\n",
      "\n",
      "        Specify start() when you are concerned about sparse data, for\n",
      "        instance, if you know that varname can have a value of 0, but you are\n",
      "        concerned that 0 may not be observed.\n",
      "\n",
      "        start(#), if specified, must be less than or equal to m, or else an\n",
      "        error will be issued.\n",
      "\n",
      "\n",
      "Options for use in the discrete case\n",
      "------------------------------------\n",
      "\n",
      "        +------+\n",
      "    ----+ Main +-------------------------------------------------------------\n",
      "\n",
      "    discrete specifies that varname is discrete and that you want each unique\n",
      "        value of varname to have its own bin (bar of histogram).\n",
      "\n",
      "    width(#) is rarely specified in the discrete case; it specifies the width\n",
      "        of the bins.  The default is width(d), where d is the observed\n",
      "        minimum difference between the unique values of varname.\n",
      "\n",
      "        Specify width() if you are concerned that your data are sparse.  For\n",
      "        example, in theory varname could take on the values, say, 1, 2, 3,\n",
      "        ..., 9, but because of the sparseness, perhaps only the values 2, 4,\n",
      "        7, and 8 are observed.  Here the default width calculation would\n",
      "        produce width(2), and you would want to specify width(1).\n",
      "\n",
      "    start(#) is also rarely specified in the discrete case; it specifies the\n",
      "        theoretical minimum value of varname.  The default is start(m), where\n",
      "        m is the observed minimum value.\n",
      "\n",
      "        As with width(), specify start(#) if you are concerned that your data\n",
      "        are sparse.  In the previous example, you might also want to specify\n",
      "        start(1).  start() does nothing more than add white space to the left\n",
      "        side of the graph.\n",
      "\n",
      "        The value of # in start() must be less than or equal to m, or an\n",
      "        error will be issued.\n",
      "\n",
      "\n",
      "Options for use in the continuous and discrete cases\n",
      "----------------------------------------------------\n",
      "\n",
      "        +------+\n",
      "    ----+ Main +-------------------------------------------------------------\n",
      "\n",
      "    density, fraction, frequency, and percent specify whether you want the\n",
      "        histogram scaled to density units, fractional units, frequencies, or\n",
      "        percentages.  density is the default.\n",
      "\n",
      "        density scales the height of the bars so that the sum of their areas\n",
      "        equals 1.\n",
      "\n",
      "        fraction scales the height of the bars so that the sum of their\n",
      "        heights equals 1.\n",
      "\n",
      "        frequency scales the height of the bars so that each bar's height is\n",
      "        equal to the number of observations in the category.  Thus the sum of\n",
      "        the heights is equal to the total number of observations.\n",
      "\n",
      "        percent scales the height of the bars so that the sum of their\n",
      "        heights equals 100.\n",
      "\n",
      "    bar_options are any of the options allowed by graph twoway bar; see [G-2]\n",
      "        graph twoway bar.\n",
      "\n",
      "        One of the most useful bar_options is barwidth(#), which specifies\n",
      "        the width of the bars in varname units.  By default, histogram draws\n",
      "        the bars so that adjacent bars just touch.  If you want gaps between\n",
      "        the bars, do not specify histogram's width() option -- which would\n",
      "        change how the histogram is calculated -- but specify the bar_option\n",
      "        barwidth() or the histogram option gap, both of which affect only how\n",
      "        the bar is rendered.\n",
      "\n",
      "        The bar_option horizontal cannot be used with the addlabels option.\n",
      "\n",
      "    binrescale specifies that bin size and plot range be recalculated for\n",
      "        each group when by() is specified.  If normal is specified, the mean\n",
      "        and standard deviation of each overlaid normal density plot are\n",
      "        recalculated in each group.  Similarly, if kdensity is specified, the\n",
      "        scaling of the overlaid kernel density plot is recalculated in each\n",
      "        group.\n",
      "\n",
      "    addlabels specifies that the top of each bar be labeled with the density,\n",
      "        fraction, or frequency, as determined by the density, fraction, and\n",
      "        frequency options.\n",
      "\n",
      "    addlabopts(marker_label_options) specifies how to render the labels atop\n",
      "        the bars.  See [G-3] marker_label_options.  Do not specify the\n",
      "        marker_label_option mlabel(varname), which specifies the variable to\n",
      "        be used; this is specified for you by histogram.\n",
      "\n",
      "        addlabopts() will accept more options than those documented in [G-3]\n",
      "        marker_label_options.  All options allowed by twoway scatter are also\n",
      "        allowed by addlabopts(); see [G-2] graph twoway scatter.  One\n",
      "        particularly useful option is yvarformat(); see [G-3]\n",
      "        advanced_options.\n",
      "\n",
      "        +---------------+\n",
      "    ----+ Density plots +----------------------------------------------------\n",
      "\n",
      "    normal specifies that the histogram be overlaid with an appropriately\n",
      "        scaled normal density.  The normal will have the same mean and\n",
      "        standard deviation as the data.\n",
      "\n",
      "    normopts(line_options) specifies details about the rendition of the\n",
      "        normal curve, such as the color and style of line used.  See [G-2]\n",
      "        graph twoway line.\n",
      "\n",
      "    kdensity specifies that the histogram be overlaid with an appropriately\n",
      "        scaled kernel density estimate of the density.  By default, the\n",
      "        estimate will be produced using the Epanechnikov kernel with an\n",
      "        \"optimal\" half-width.  This default corresponds to the default of\n",
      "        kdensity; see [R] kdensity.  How the estimate is produced can be\n",
      "        controlled using the kdenopts() option described below.\n",
      "\n",
      "    kdenopts(kdensity_options) specifies details about how the kernel density\n",
      "        estimate is to be produced along with details about the rendition of\n",
      "        the resulting curve, such as the color and style of line used.  The\n",
      "        kernel density estimate is described in [G-2] graph twoway kdensity.\n",
      "        As an example, if you wanted to produce kernel density estimates by\n",
      "        using the Gaussian kernel with optimal half-width, you would specify\n",
      "        kdenopts(gauss) and if you also wanted a half-width of 5, you would\n",
      "        specify kdenopts(gauss width(5)).\n",
      "\n",
      "        +-----------+\n",
      "    ----+ Add plots +--------------------------------------------------------\n",
      "\n",
      "    addplot(plot) allows adding more graph twoway plots to the graph; see\n",
      "        [G-3] addplot_option.\n",
      "\n",
      "        +---------------------------------------------+\n",
      "    ----+ Y axis, X axis, Titles, Legend, Overall, By +----------------------\n",
      "\n",
      "    twoway_options are any of the options documented in [G-3] twoway_options.\n",
      "        This includes, most importantly, options for titling the graph (see\n",
      "        [G-3] title_options), options for saving the graph to disk (see [G-3]\n",
      "        saving_option), and the by() option, which will allow you to\n",
      "        simultaneously graph histograms for different subsets of the data\n",
      "        (see [G-3] by_option).\n",
      "\n",
      "\n",
      "Examples\n",
      "--------\n",
      "\n",
      "    ---------------------------------------------------------------------------\n",
      "    Setup\n",
      "        . sysuse sp500\n",
      "\n",
      "    Create a histogram of volume\n",
      "        . histogram volume\n",
      "\n",
      "    Same as above, but add a normal density curve\n",
      "        . histogram volume, normal\n",
      "\n",
      "    Same as above, but also add a kernel density estimate\n",
      "        . histogram volume, normal kdensity\n",
      "\n",
      "    ---------------------------------------------------------------------------\n",
      "\n",
      "    Setup\n",
      "        . sysuse auto\n",
      "\n",
      "    Create a histogram with a bin for each of the 21 unique values\n",
      "        . histogram mpg, discrete\n",
      "\n",
      "    Same as above, but show frequencies on the y axis, add a report of\n",
      "    frequencies above the bars, and label the values 12, 14, ..., 42 on the x\n",
      "    axis\n",
      "        . histogram mpg, discrete freq addlabels xlabel(12(2)42)\n",
      "\n",
      "    ---------------------------------------------------------------------------\n",
      "\n",
      "Video example\n",
      "-------------\n",
      "\n",
      "    Histograms in Stata\n",
      "\n",
      "\n",
      "Reference\n",
      "---------\n",
      "\n",
      "    Pollock, P. H. III.  2011.  A Stata Companion to Political Analysis. 2nd\n",
      "        ed.  Washington, DC: CQ Press.\n"
     ]
    }
   ],
   "source": [
    "help histogram"
   ]
  },
  {
   "cell_type": "code",
   "execution_count": 17,
   "metadata": {},
   "outputs": [
    {
     "data": {
      "image/png": "[encoded data removed]",
      "text/plain": [
       "<IPython.core.display.Image object>"
      ]
     },
     "metadata": {},
     "output_type": "display_data"
    }
   ],
   "source": [
    "graph box dist_pell_s"
   ]
  },
  {
   "cell_type": "markdown",
   "metadata": {},
   "source": [
    "## 6. Students at for-profit colleges have especially poor graduation rates at 4-year degree schools. In Eaton(2020) and Eaton, Howell, & Yannelis (2019), I've argued argued that for-profit colleges are more predatory under publicly traded and private equity ownership. Based on this theory, write a hypothesis about the relationship between whether a school offers 4-year or lower degrees and for-profit college ownership. Explain what is the independent variable and dependent variable and why? If you are working with your own data, do the same for a relationship between two **nominal** variables in your data. [4 pts]\n",
    "1. H1: For-profit colleges under publicly traded and private equity ownership are more likely offer more degrees at less than the 4-year level // predatory= offering lower degrees\n",
    "2. Independent variable: ownership type, because theoretically, ownership type affects the degree level offered at the school. This would affect how much would be charged for tuition which affects the rate to degree for students. Dependent variable: degree level, because theoretically,  the level of degree offerings (iclevel) is dependent upon the onwership form of the colleges (owner_pe)."
   ]
  },
  {
   "cell_type": "code",
   "execution_count": 18,
   "metadata": {},
   "outputs": [
    {
     "name": "stdout",
     "output_type": "stream",
     "text": [
      "\n",
      " ownership form |      Freq.     Percent        Cum.\n",
      "----------------+-----------------------------------\n",
      " Private equity |        552       15.16       15.16\n",
      " Privately held |      2,167       59.52       74.68\n",
      "Publicly traded |        922       25.32      100.00\n",
      "----------------+-----------------------------------\n",
      "          Total |      3,641      100.00\n"
     ]
    }
   ],
   "source": [
    "tab owner_pe"
   ]
  },
  {
   "cell_type": "markdown",
   "metadata": {},
   "source": [
    "## 7. Create a frequency table for colleges by their **level of degree offerings (iclevel)** and **ownership form (owner_pe)**. Make sure the dependent variable is listed first, making its values the row values. Stata doesn't like string variables, so use the commande **encode** with the **gen** specification to create encoded **iclevel2** and **owner_pe2** variables to use. If you are working with your own data, do the same for the two variables you hypothesized about. [3 pts]"
   ]
  },
  {
   "cell_type": "code",
   "execution_count": 19,
   "metadata": {},
   "outputs": [],
   "source": [
    "encode iclevel, generate(iclevel2)"
   ]
  },
  {
   "cell_type": "code",
   "execution_count": 20,
   "metadata": {},
   "outputs": [
    {
     "name": "stdout",
     "output_type": "stream",
     "text": [
      "\n",
      "Variable      Storage   Display    Value\n",
      "    name         type    format    label      Variable label\n",
      "-------------------------------------------------------------------------------\n",
      "iclevel         str35   %35s                  \n"
     ]
    }
   ],
   "source": [
    "describe iclevel"
   ]
  },
  {
   "cell_type": "code",
   "execution_count": 21,
   "metadata": {},
   "outputs": [
    {
     "name": "stdout",
     "output_type": "stream",
     "text": [
      "\n",
      "Variable      Storage   Display    Value\n",
      "    name         type    format    label      Variable label\n",
      "-------------------------------------------------------------------------------\n",
      "iclevel2        long    %35.0g     iclevel2   \n"
     ]
    }
   ],
   "source": [
    "describe iclevel2"
   ]
  },
  {
   "cell_type": "code",
   "execution_count": 22,
   "metadata": {},
   "outputs": [],
   "source": [
    "encode owner_pe, generate (owner_pe2)"
   ]
  },
  {
   "cell_type": "code",
   "execution_count": 23,
   "metadata": {},
   "outputs": [
    {
     "name": "stdout",
     "output_type": "stream",
     "text": [
      "\n",
      "Variable      Storage   Display    Value\n",
      "    name         type    format    label      Variable label\n",
      "-------------------------------------------------------------------------------\n",
      "owner_pe2       long    %15.0g     owner_pe2\n",
      "                                              ownership form\n"
     ]
    }
   ],
   "source": [
    "describe owner_pe2"
   ]
  },
  {
   "cell_type": "code",
   "execution_count": 24,
   "metadata": {},
   "outputs": [
    {
     "name": "stdout",
     "output_type": "stream",
     "text": [
      "\n",
      "                      |          ownership form\n",
      "             iclevel2 | Private e  Privately  Publicly  |     Total\n",
      "----------------------+---------------------------------+----------\n",
      "At least 2 but less t |       216        612        232 |     1,060 \n",
      "   Four or more years |       104        191        495 |       790 \n",
      "Less than 2 years (be |       232      1,364        195 |     1,791 \n",
      "----------------------+---------------------------------+----------\n",
      "                Total |       552      2,167        922 |     3,641 \n"
     ]
    }
   ],
   "source": [
    "tab iclevel2 owner_pe2"
   ]
  },
  {
   "cell_type": "markdown",
   "metadata": {
    "tags": []
   },
   "source": [
    "# 7. Create a horizontal bar graph using the **graph hbar** command with the **over** specification to plot the percentage of schools with degree levels within each ownership form. Use the **xi** command with the **noomit** option to create a dummy variable for iclevel. Do the same with your variables of interest if you are using your own data. [3 pts]"
   ]
  },
  {
   "cell_type": "code",
   "execution_count": 25,
   "metadata": {
    "tags": []
   },
   "outputs": [
    {
     "data": {
      "text/html": [
       "\n",
       "<html>\n",
       "<head>\n",
       "<meta content=\"noindex, nofollow\" name=\"robots\"/>\n",
       "<title>Stata 18 help for label</title>\n",
       "<link href=\"/includes/css/stylehelp.css\" rel=\"stylesheet\" type=\"text/css\"/>\n",
       "<style type=\"text/css\">h2 {\n",
       "    font-family: Arial,Helvetica,Helv,sans-serif;\n",
       "    color: #000000;\n",
       "}\n",
       "\n",
       "pre {\n",
       "    margin: 10px;\n",
       "}\n",
       "\n",
       "table {\n",
       "    background-color: transparent;\n",
       "    border-color: transparent;\n",
       "    bgcolor: transparent;\n",
       "}\n",
       "\n",
       "tr {\n",
       "    background-color: transparent;\n",
       "    border-color: transparent;\n",
       "    bgcolor: transparent;\n",
       "}\n",
       "\n",
       "body {\n",
       "    background-color: transparent;\n",
       "    border-color: transparent;\n",
       "    margin: 0px;\n",
       "}\n",
       "\n",
       "div {\n",
       "    background-color: transparent;\n",
       "    border-color: transparent;\n",
       "}\n",
       "</style>\n",
       "</head>\n",
       "<body>\n",
       "\n",
       "<p><table align=\"center\" bgcolor=\"transparent\" border=\"1\" cellpadding=\"5\" cellspacing=\"0\">\n",
       "<tr bgcolor=\"transparent\"><td align=\"left\" bgcolor=\"transparent\" valign=\"top\">\n",
       "<!-- END HEAD -->\n",
       "\n",
       "<pre>\n",
       "<p><b>[D] label</b> -- Manipulate labels\n",
       "<p><p><a name=\"syntax\"></a><b><u>Syntax</u></b>\n",
       "<p>    Label dataset\n",
       "<p>        <b><u>la</u></b><b>bel</b> <b><u>da</u></b><b>ta</b> [<b>\"</b><i>label</i><b>\"</b>]\n",
       "<p><p>    Label variable\n",
       "<p>        <b><u>la</u></b><b>bel</b> <b><u>var</u></b><b>iable</b> <a href=\"https://www.stata.com/help.cgi?varname\" target=\"_blank\"><i>varname</i></a> [<b>\"</b><i>label</i><b>\"</b>]\n",
       "<p><p>    Define value label\n",
       "<p>        <b><u>la</u></b><b>bel</b> <b><u>de</u></b><b>fine</b> <i>lblname #</i> <b>\"</b><i>label</i><b>\"</b> [<i>#</i> <b>\"</b><i>label</i><b>\"</b> [...]] [<b>,</b> <b><u>a</u></b><b>dd</b> <b>modify</b>\n",
       "               <b>replace</b> <b>nofix</b>]\n",
       "<p><p>    Assign value label to variables\n",
       "<p>        <b><u>la</u></b><b>bel</b> <b><u>val</u></b><b>ues</b> <a href=\"https://www.stata.com/help.cgi?varlist\" target=\"_blank\"><i>varlist</i></a> <i>lblname</i> [<b>,</b> <b>nofix</b>]\n",
       "<p><p>    Remove value labels\n",
       "<p>        <b><u>la</u></b><b>bel</b> <b><u>val</u></b><b>ues</b> <a href=\"https://www.stata.com/help.cgi?varlist\" target=\"_blank\"><i>varlist</i></a> [<b>.</b>]\n",
       "<p><p>    List names of value labels\n",
       "<p>        <b><u>la</u></b><b>bel</b> <b><u>di</u></b><b>r</b>\n",
       "<p><p>    List names and contents of value labels\n",
       "<p>        <b><u>la</u></b><b>bel</b> <b><u>l</u></b><b>ist</b> [<i>lblname</i> [<i>lblname</i> [...]]]\n",
       "<p><p>    Copy value label\n",
       "<p>        <b><u>la</u></b><b>bel</b> <b>copy</b> <i>lblname</i> <i>lblname</i> [<b>,</b> <b>replace</b>]\n",
       "<p><p>    Drop value labels\n",
       "<p>        <b><u>la</u></b><b>bel</b> <b>drop</b> {<i>lblname</i> [<i>lblname</i> [...]] | <b>_all</b>}\n",
       "<p><p>    Save value labels in do-file\n",
       "<p>        <b><u>la</u></b><b>bel</b> <b>save</b> [<i>lblname</i> [<i>lblname</i> [...]]] <b>using</b> <a href=\"https://www.stata.com/help.cgi?filename\" target=\"_blank\"><i>filename</i></a> [<b>,</b> <b>replace</b>]\n",
       "<p><p>    Labels for variables and values in multiple languages\n",
       "<p>        <b><u>la</u></b><b>bel</b> <b><u>lang</u></b><b>uage</b> ...                           (see <a href=\"https://www.stata.com/help.cgi?label_language\" target=\"_blank\"><b>[D] label language</b></a>)  \n",
       "<p><p>    where <i>#</i> is an integer or an extended missing value (<b>.a</b>, <b>.b</b>, ..., <b>.z</b>).\n",
       "<p><p>    <b>collect</b> is allowed with <b>label dir</b>, <b>label language</b>, and <b>label list</b>; see \n",
       "      <a href=\"https://www.stata.com/help.cgi?prefix\" target=\"_blank\">prefix</a>.\n",
       "<p><p><a name=\"menu\"></a><b><u>Menu</u></b>\n",
       "<p>    <b><u>label data</u></b> \n",
       "<p>        <b>Data &gt; Data utilities &gt; Label utilities &gt; Label dataset</b>\n",
       "<p>    <b><u>label variable</u></b>\n",
       "<p>        <b>Data &gt; Variables Manager</b>\n",
       "<p>    <b><u>label define</u></b>\n",
       "<p>        <b>Data &gt; Variables Manager</b>\n",
       "<p>    <b><u>label values</u></b>\n",
       "<p>        <b>Data &gt; Variables Manager</b>\n",
       "<p>    <b><u>label list</u></b>\n",
       "<p>        <b>Data &gt; Data utilities &gt; Label utilities &gt; List value labels</b>\n",
       "<p>    <b><u>label copy</u></b>\n",
       "<p>        <b>Data &gt; Data utilities &gt; Label utilities &gt; Copy value labels</b>\n",
       "<p>    <b><u>label drop</u></b>\n",
       "<p>        <b>Data &gt; Variables Manager</b>\n",
       "<p>    <b><u>label save</u></b>\n",
       "<p>        <b>Data &gt; Data utilities &gt; Label utilities &gt; Save value labels as</b>\n",
       "            <b>do-file</b>\n",
       "<p><p><a name=\"description\"></a><b><u>Description</u></b>\n",
       "<p>    <b>label data</b> attaches a label (up to 80 characters) to the dataset in\n",
       "    memory.  Dataset labels are displayed when you <b>use</b> the dataset and when\n",
       "    you <b>describe</b> it.  If no label is specified, any existing label is\n",
       "    removed.\n",
       "<p>    <b>label variable</b> attaches a label (up to 80 characters) to a variable.  If\n",
       "    no label is specified, any existing variable label is removed.\n",
       "<p>    <b>label define</b> creates a value label named <i>lblname</i>, which is a set of\n",
       "    individual numeric values and their corresponding labels. <i>lblname</i> can\n",
       "    contain up to 65,536 individual labels; each individual label can be up\n",
       "    to 32,000 characters long.\n",
       "<p>    <b>label values</b> attaches a value label to <a href=\"https://www.stata.com/help.cgi?varlist\" target=\"_blank\"><i>varlist</i></a>.  If <b>.</b> is specified\n",
       "    instead of <i>lblname</i>, any existing value label is detached from that\n",
       "    <i>varlist</i>.  The value label, however, is not deleted.  The syntax <b>label</b>\n",
       "    <b>values</b> <a href=\"https://www.stata.com/help.cgi?varname\" target=\"_blank\"><i>varname</i></a> (that is, nothing following the <i>varname</i>) acts the same as\n",
       "    specifying the <b>.</b>.\n",
       "<p>    <b>label dir</b> lists the names of value labels stored in memory.\n",
       "<p>    <b>label list</b> lists the names and contents of value labels stored in memory.\n",
       "<p>    <b>label copy</b> makes a copy of an existing value label.\n",
       "<p>    <b>label drop</b> eliminates value labels.\n",
       "<p>    <b>label save</b> saves value label definitions in a do-file.  This is\n",
       "    particularly useful for value labels that are not attached to a variable\n",
       "    because these labels are not saved with the data.  By default, <b>.do</b> is the\n",
       "    filename extension used.\n",
       "<p>    See <a href=\"https://www.stata.com/help.cgi?label_language\" target=\"_blank\"><b>[D] label language</b></a> for information on the <b>label language</b> command.\n",
       "<p><p><a name=\"options\"></a><b><u>Options</u></b>\n",
       "<p>    <b>add</b> allows you to add <i>#</i> to <i>label</i> correspondences to <i>lblname</i>.  If <b>add</b> is\n",
       "        not specified, you may create only new <i>lblname</i>s.  If <b>add</b> is\n",
       "        specified, you may create new <i>lblname</i>s or add new entries to existing\n",
       "        <i>lblname</i>s.\n",
       "<p>    <b>modify</b> allows you to modify or delete existing <i>#</i> to <i>label</i> correspondences\n",
       "        and add new correspondences.  Specifying <b>modify</b> implies <b>add</b>, even if\n",
       "        you do not type the <b>add</b> option.\n",
       "<p>    <b>replace</b>, with <b>label define</b>, allows an existing value label to be\n",
       "        redefined.  <b>replace</b>, with <b>label copy</b>, allows an existing value label\n",
       "        to be copied over.  <b>replace</b>, with <b>label save</b>, allows <a href=\"https://www.stata.com/help.cgi?filename\" target=\"_blank\"><i>filename</i></a> to be\n",
       "        replaced.\n",
       "<p>    <b>nofix</b> prevents display formats from being widened according to the\n",
       "        maximum length of the value label.  Consider <b>label values myvar</b>\n",
       "        <b>mylab</b>, and say that <b>myvar</b> has a <b>%9.0g</b> display format right now.  Say\n",
       "        that the maximum length of the strings in <b>mylab</b> is 12 characters.\n",
       "        <b>label values</b> would change the format of <b>myvar</b> from <b>%9.0g</b> to <b>%12.0g</b>.\n",
       "        <b>nofix</b> prevents this.\n",
       "<p>        <b>nofix</b> is also allowed with <b>label define</b>, but it is relevant only when\n",
       "        you are modifying an existing value label.  Without the <b>nofix</b> option,\n",
       "        <b>label define</b> finds all the variables that use this value label and\n",
       "        considers widening their display formats.  <b>nofix</b> prevents this.\n",
       "<p><p><a name=\"technote\"></a><b><u>Technical note</u></b>\n",
       "<p>    Although we tend to show examples defining value labels using one\n",
       "    command, such as\n",
       "<p>        <b>. label define answ 1 yes 2 no</b>\n",
       "<p>    remember that value labels may include many associations and typing them\n",
       "    all on one line can be ungainly or impossible.  For instance, if perhaps\n",
       "    we have an encoding of 1,000 places, we could imagine typing\n",
       "<p>        <b>. label define fips 10060 \"Anniston, AL\" 10110 \"Auburn, AL\"</b> <b>10175</b>\n",
       "            <b>\"Bessemer, AL\"</b> ... <b>560050 \"Cheyenne, WY\"</b>\n",
       "<p>    Even in an editor, we would be unlikely to type the line correctly.\n",
       "<p>    The easy way to enter long value labels is to enter the codings one at a\n",
       "    time:\n",
       "<p>        <b>. label define fips 10060 \"Anniston, AL\"</b>\n",
       "        <b>. label define fips 10175 \"Bessemer, AL\", add</b>\n",
       "        ...\n",
       "        <b>. label define fips 560050 \"Cheyenne, WY\", add</b>\n",
       "<p>    And, of course, we could abbreviate:\n",
       "<p>        <b>. lab def fips 10060 \"Anniston, AL\"</b>\n",
       "        <b>. lab def fips 10175 \"Bessemer, AL\", add</b>\n",
       "<p>    Up to 65,536 associations are allowed.\n",
       "<p><p><a name=\"examples\"></a><b><u>Examples</u></b>\n",
       "<p>    Setup\n",
       "        <b>. webuse hbp4</b>\n",
       "<p>    Describe the dataset\n",
       "        <b>. describe</b>\n",
       "<p>    Label the dataset\n",
       "        <b>. label data \"Fictional blood-pressure data\"</b>\n",
       "<p>    Describe the dataset\n",
       "        <b>. describe</b>\n",
       "<p>    Label the <b>hbp</b> variable\n",
       "        <b>. label variable hbp \"high blood pressure\"</b>\n",
       "<p>    Define the value label <b>yesno</b>\n",
       "        <b>. label define yesno 0 \"no\" 1 \"yes\"</b>\n",
       "<p>    List the names and contents of all value labels\n",
       "        <b>. label list</b>\n",
       "<p>    List the name and contents of only the value label <b>yesno</b>\n",
       "        <b>. label list yesno</b>\n",
       "<p>    List names of value labels\n",
       "        <b>. label dir</b>\n",
       "<p>    Make a copy of the value label <b>yesno</b>\n",
       "        <b>. label copy yesno yesnomaybe</b>\n",
       "<p>    Add another value and label to the value label <b>yesnomaybe</b>\n",
       "        <b>. label define yesnomaybe 2 \"maybe\", add</b>\n",
       "<p>    List the name and contents of value label <b>yesnomaybe</b>\n",
       "        <b>. label list yesnomaybe</b>\n",
       "<p>    Modify the label for the value 2 in value label <b>yesnomaybe</b>\n",
       "        <b>. label define yesnomaybe 2 \"don't know\", modify</b>\n",
       "<p>    List the name and contents of value label <b>yesnomaybe</b>\n",
       "        <b>. label list yesnomaybe</b>\n",
       "<p>    List the first 4 observations in the dataset\n",
       "        <b>. list in 1/4</b>\n",
       "<p>    Attach the value label <b>yesnomaybe</b> to the variable <b>hbp</b>\n",
       "        <b>. label values hbp yesnomaybe</b>\n",
       "<p>    List the first 4 observations in the dataset\n",
       "        <b>. list in 1/4</b>\n",
       "<p>    Save the value label <b>sexlbl</b> to <b>mylabel.do</b>\n",
       "        <b>. label save sexlbl using mylabel</b>\n",
       "<p>    List the contents of the file <b>mlabel.do</b>\n",
       "        <b>. type mylabel.do</b>\n",
       "<p>    Drop the value label <b>sexlbl</b> from the dataset\n",
       "        <b>. label drop sexlbl</b>\n",
       "<p>    List the names of value labels\n",
       "        <b>. label dir</b>\n",
       "<p>    Run <b>mylabel.do</b> to retrieve the value label <b>sexlbl</b>\n",
       "        <b>. do mylabel</b>\n",
       "<p>    List the names of value labels\n",
       "        <b>. label dir</b>\n",
       "<p><p><a name=\"video\"></a><b><u>Video examples</u></b>\n",
       "<p>        How to label variables\n",
       "<p>        How to label the values of categorical variables\n",
       "<p><p><a name=\"results\"></a><b><u>Stored results</u></b>\n",
       "<p>    <b>label list</b> stores the following in <b>r()</b>:\n",
       "<p>    Scalars        \n",
       "      <b>r(k)</b>                number of mapped values, including missing\n",
       "      <b>r(min)</b>              minimum nonmissing value label\n",
       "      <b>r(max)</b>              maximum nonmissing value label\n",
       "      <b>r(hasemiss)</b>         <b>1</b> if extended missing values labeled, <b>0</b> otherwise\n",
       "<p>    <b>label dir</b> stores the following in <b>r()</b>:\n",
       "<p>    Macros         \n",
       "      <b>r(names)</b>            names of value labels\n",
       "</p></p></p></p></p></p></p></p></p></p></p></p></p></p></p></p></p></p></p></p></p></p></p></p></p></p></p></p></p></p></p></p></p></p></p></p></p></p></p></p></p></p></p></p></p></p></p></p></p></p></p></p></p></p></p></p></p></p></p></p></p></p></p></p></p></p></p></p></p></p></p></p></p></p></p></p></p></p></p></p></p></p></p></p></p></p></p></p></p></p></p></p></p></p></p></p></p></p></p></p></p></p></p></p></p></p></p></p></p></p></p></p></p></p></p></p></p></p></p></p></p></p></p></pre>\n",
       "<!-- BEGIN FOOT -->\n",
       "</td></tr></table>\n",
       "\n",
       "\n",
       "\n",
       "</p></body>\n",
       "</html>\n"
      ],
      "text/plain": [
       "This front-end cannot display HTML help."
      ]
     },
     "metadata": {},
     "output_type": "display_data"
    }
   ],
   "source": [
    "%help label"
   ]
  },
  {
   "cell_type": "code",
   "execution_count": 57,
   "metadata": {},
   "outputs": [],
   "source": [
    "xi i.iclevel, noomit // create dummy vars for ownership"
   ]
  },
  {
   "cell_type": "code",
   "execution_count": 58,
   "metadata": {
    "tags": []
   },
   "outputs": [
    {
     "name": "stdout",
     "output_type": "stream",
     "text": [
      "unitid        online        grad_rat~p_w  pct4yrc~at_w  peswitcher~l\n",
      "year          total_enro~t  grad_r~2yr_w  pct4yrc~pt_w  peswitchsy~l\n",
      "iclevel       grtotltc~4yr  grad_r~4yr_w  pct4yrc~tt_w  poswitcher~l\n",
      "idx_ef        grtotltc~2yr  all_under_w   state_n       poswitchsy~l\n",
      "idx_f         grtotltall~t  tuitionall~w  not_pe_po     iclevel2\n",
      "idx_sfa       all_under     fed_grant_~w  peacqu        owner_pe2\n",
      "idx_gr        chain         pctchrtgrb~w  poacqu        _Iiclevel_1\n",
      "selective     investevent   pctchrtgrw~w  dist_pell_s   _Iiclevel_2\n",
      "systemid      pe_ind        pctchrtgrh~w  dist_black~w  _Iiclevel_3\n",
      "systemnm      po_ind        pct2yrc~at_w  dist_white~w\n",
      "ipo           inst_name_~w  pct2yrc~pt_w  dist_hisp_~w\n",
      "owner_pe      loan_amoun~w  pct2yrc~tt_w  dist_fed_g~w\n"
     ]
    }
   ],
   "source": [
    "ds "
   ]
  },
  {
   "cell_type": "code",
   "execution_count": 59,
   "metadata": {},
   "outputs": [
    {
     "name": "stdout",
     "output_type": "stream",
     "text": [
      "\n",
      "iclevel==A |\n",
      " t least 2 |\n",
      "  but less |\n",
      "    than 4 |             iclevel\n",
      "     years | At leas..  Four or..  Less th.. |     Total\n",
      "-----------+---------------------------------+----------\n",
      "         0 |         0        790      1,791 |     2,581 \n",
      "         1 |     1,060          0          0 |     1,060 \n",
      "-----------+---------------------------------+----------\n",
      "     Total |     1,060        790      1,791 |     3,641 \n"
     ]
    }
   ],
   "source": [
    "tab _Iiclevel_1 iclevel"
   ]
  },
  {
   "cell_type": "code",
   "execution_count": 60,
   "metadata": {},
   "outputs": [
    {
     "data": {
      "image/png": "[encoded data removed]",
      "text/plain": [
       "<IPython.core.display.Image object>"
      ]
     },
     "metadata": {},
     "output_type": "display_data"
    }
   ],
   "source": [
    "graph hbar (percent)_Iiclevel_2, over(owner_pe2)"
   ]
  },
  {
   "cell_type": "code",
   "execution_count": 68,
   "metadata": {},
   "outputs": [
    {
     "data": {
      "image/png": "[encoded data removed]",
      "text/plain": [
       "<IPython.core.display.Image object>"
      ]
     },
     "metadata": {},
     "output_type": "display_data"
    }
   ],
   "source": [
    "graph hbar _Iiclevel_*, over(owner_pe2)"
   ]
  },
  {
   "cell_type": "code",
   "execution_count": 29,
   "metadata": {
    "scrolled": true
   },
   "outputs": [
    {
     "name": "stdout",
     "output_type": "stream",
     "text": [
      "checking dubois consistency and verifying not already installed...\n",
      "all files already exist and are up to date.\n"
     ]
    }
   ],
   "source": [
    "ssc install dubois"
   ]
  },
  {
   "cell_type": "code",
   "execution_count": 30,
   "metadata": {},
   "outputs": [
    {
     "name": "stdout",
     "output_type": "stream",
     "text": [
      "\n",
      "{…}\n",
      "-------------------------------------------------------------------------------\n",
      "help for scheme_dubois                                            (Version 1.0)\n",
      "-------------------------------------------------------------------------------\n",
      "\n",
      "Title\n",
      "-----\n",
      "Du Bois graphic scheme\n",
      "\n",
      "Scheme description:  Du Bois graphic scheme\n",
      "-------------------------------------------\n",
      "\n",
      "    The dubois scheme automates some parts of graphing in Stata to use the\n",
      "    same style as the 1900 data portraits of Black America by W.E.B. Du Bois\n",
      "    and his collaborators (Battle-Baptiste & Russert 2018; Stark 2019). The\n",
      "    dubois scheme was using the 538 scheme file as a template (Bischof 2017).\n",
      "\n",
      "Syntax\n",
      "------\n",
      "\n",
      "    For instance, you might type\n",
      "\n",
      "        . graph ..., ...  scheme(dubois)\n",
      "\n",
      "        . set scheme dubois [, permanently ]\n",
      "\n",
      "    See help scheme_option and help set_scheme.\n",
      "\n",
      "Description\n",
      "-----------\n",
      "\n",
      "    Schemes determine the overall look of a graph; see help schemes.\n",
      "\n",
      "    The dubois scheme replicates key elements of the style of the Du Bois\n",
      "    data portraits of Black America. These style elements include:\n",
      "\n",
      "        * aspect ratio of 0.78 (portrait) or 1.27 (landscape) consistent with\n",
      "        the large format 22x28 inch portrait oriented posters of the Du Bois\n",
      "        1900 Paris exposition.\n",
      "\n",
      "        * The use of bold solid colors is a characteristic of the DuBois\n",
      "        style. Here are the colors in the Du Bois palette: black, brown, tan,\n",
      "        gold, pink, crimson, green, blue, often employing the Pan-African\n",
      "        combination of red (crimson), yellow (gold) , and black.\n",
      "\n",
      "        * The use of bold solid colors is a characteristic of the DuBois\n",
      "        style. Here are the colors in the Du Bois palette: black, brown, tan,\n",
      "        gold, pink, crimson, green, blue, often employing the Pan-African\n",
      "        combination of red (crimson), yellow (gold) , and black.\n",
      "\n",
      "        * linen color background \"250 240 230\"\n",
      "\n",
      "        * grey gridlines for two dimensional line and area plots.\n",
      "\n",
      "Remarks\n",
      "-------\n",
      "\n",
      "    Many elements of the Du Bois style cannot be automated with a Stata\n",
      "    scheme file. For example, graph fonts cannot be controlled via a Stata\n",
      "    scheme. One of the most important style elements that cannot be\n",
      "    controlled by a Stata scheme is font. Antho s and others have noted that\n",
      "    Public Sans closely resembles the original Du Bois font. Adding uncommon\n",
      "    fonts like this to the Mac OS Font Book can be challenging for novices.\n",
      "    Among the factory installed Mac fonts, Tahoma is closest to that used by\n",
      "    , especially when key elements like main titles are written with all\n",
      "    caps. You can set your graphing font to Tahoma in Stata with the\n",
      "    following commands:\n",
      "\n",
      "        * graph set svg fontface Tahoma\n",
      "\n",
      "        * graph set eps fontface Tahoma\n",
      "\n",
      "        * graph set ps fontface Tahoma\n",
      "\n",
      "    For examples of how to implement other elements of Du Bois style, you can\n",
      "    find use cases with data, Stata code, and graphic outputs here: \n",
      "    https://github.com/charlieeatonphd/dubois-data-portraits/tree/master/stat\n",
      "    > ascheme\n",
      "\n",
      "References\n",
      "----------\n",
      "\n",
      "    Battle-Baptiste, W. and Rusert, B. eds., 2018. WEB Du Bois's Data\n",
      "        Portraits: Visualizing Black America. Chronicle Books. \n",
      "        https://www.amazon.com/W-Boiss-Data-Portraits-Visualizing/dp/16168970\n",
      "        > 66\n",
      "\n",
      "    Bischof, D. 2017. New Graphic Schemes for Stata: plotplain & plottig.\n",
      "        Stata Journal: 17(3): 1-12. https://danbischof.com/publications/\n",
      "\n",
      "    Starks, A. J. 2019. \"What is Dubois-Style Visualization?\" \n",
      "        https://github.com/ajstarks/dubois-data-portraits/blob/master/dubois-\n",
      "        > style.md\n",
      "\n",
      "Author\n",
      "------\n",
      "\n",
      "    Charlie Eaton, Jay Colond, Ruben Gonzalez, and Waleed Rajabally -\n",
      "    Department of Sociology, University of California, Merced.\n",
      "\n",
      "Also see\n",
      "--------\n",
      "\n",
      "    Online:  help for schemes; scheme_option, set_scheme\n",
      "\n",
      "\n",
      "\n"
     ]
    }
   ],
   "source": [
    "help dubois"
   ]
  },
  {
   "cell_type": "code",
   "execution_count": 31,
   "metadata": {
    "tags": []
   },
   "outputs": [],
   "source": [
    "xi i.iclevel, noomit // create dummy vars for ownership"
   ]
  },
  {
   "cell_type": "code",
   "execution_count": 41,
   "metadata": {},
   "outputs": [
    {
     "name": "stdout",
     "output_type": "stream",
     "text": [
      "\n",
      "iclevel==Le |\n",
      "  ss than 2 |\n",
      "      years |\n",
      "     (below |\n",
      " associate) |      Freq.     Percent        Cum.\n",
      "------------+-----------------------------------\n",
      "          0 |      1,850       50.81       50.81\n",
      "          1 |      1,791       49.19      100.00\n",
      "------------+-----------------------------------\n",
      "      Total |      3,641      100.00\n",
      "\n",
      "iclevel==Fo |\n",
      " ur or more |\n",
      "      years |      Freq.     Percent        Cum.\n",
      "------------+-----------------------------------\n",
      "          0 |      2,851       78.30       78.30\n",
      "          1 |        790       21.70      100.00\n",
      "------------+-----------------------------------\n",
      "      Total |      3,641      100.00\n",
      "\n",
      "iclevel==At |\n",
      "least 2 but |\n",
      "less than 4 |\n",
      "      years |      Freq.     Percent        Cum.\n",
      "------------+-----------------------------------\n",
      "          0 |      2,581       70.89       70.89\n",
      "          1 |      1,060       29.11      100.00\n",
      "------------+-----------------------------------\n",
      "      Total |      3,641      100.00\n",
      "\n",
      "                            iclevel |      Freq.     Percent        Cum.\n",
      "------------------------------------+-----------------------------------\n",
      "   At least 2 but less than 4 years |      1,060       29.11       29.11\n",
      "                 Four or more years |        790       21.70       50.81\n",
      "Less than 2 years (below associate) |      1,791       49.19      100.00\n",
      "------------------------------------+-----------------------------------\n",
      "                              Total |      3,641      100.00\n"
     ]
    }
   ],
   "source": [
    "tab _Iiclevel_3\n",
    "tab _Iiclevel_2\n",
    "tab _Iiclevel_1\n",
    "\n",
    "tab iclevel"
   ]
  },
  {
   "cell_type": "markdown",
   "metadata": {
    "tags": []
   },
   "source": [
    "## 8. Provide your interpretation of the results from the bivariate frequency table and the bar graph. Is there a relationship between ownership form and offering higher degrees? Or in your own variables if using your own data? What is the relationship in your own words, and does it fit your hypothesis?\n",
    "[YOUR INTERPRETATION HERE]"
   ]
  },
  {
   "cell_type": "code",
   "execution_count": null,
   "metadata": {},
   "outputs": [],
   "source": []
  },
  {
   "cell_type": "markdown",
   "metadata": {},
   "source": [
    "## 9. Private equity and publicly traded ownership may lead to more predation. But privately held colleges can be predatory too. Within each ownership form, those colleges that are operated by chains may also be more likely to be predatory. Use the **chain** variable to generate another set of bivariate tables and bargraphs for **degree level (iclevel)** and **chain ownership** and for **chain ownership (chain)** and **ownership form (owner_pe)**. Do the same if you think there is another intervening variable in your own data. Then report your interpretation [5 pts]\n",
    "regarding the distribution of the mean of chain ownership; it seems there is an even distribution across the levels of degrees offered at schools, except for schools that offer less then 2 year degrees, which are less likely to be under chain ownership. In the distribution of the mean of chain ownership across ownership types, private equity is more likely to be under chain ownership, where as the schools under privately held ownership is more likely to not be under chain ownership."
   ]
  },
  {
   "cell_type": "code",
   "execution_count": 32,
   "metadata": {},
   "outputs": [
    {
     "name": "stdout",
     "output_type": "stream",
     "text": [
      "\n",
      "                      |         chain\n",
      "              iclevel |         0          1 |     Total\n",
      "----------------------+----------------------+----------\n",
      "At least 2 but less.. |       455        605 |     1,060 \n",
      "   Four or more years |       147        643 |       790 \n",
      "Less than 2 years (.. |     1,152        639 |     1,791 \n",
      "----------------------+----------------------+----------\n",
      "                Total |     1,754      1,887 |     3,641 \n"
     ]
    }
   ],
   "source": [
    "tab iclevel chain"
   ]
  },
  {
   "cell_type": "code",
   "execution_count": 33,
   "metadata": {},
   "outputs": [
    {
     "data": {
      "image/png": "[encoded data removed]",
      "text/plain": [
       "<IPython.core.display.Image object>"
      ]
     },
     "metadata": {},
     "output_type": "display_data"
    }
   ],
   "source": [
    "graph hbar chain, over(iclevel)"
   ]
  },
  {
   "cell_type": "code",
   "execution_count": 34,
   "metadata": {
    "tags": []
   },
   "outputs": [
    {
     "name": "stdout",
     "output_type": "stream",
     "text": [
      "\n",
      "                |         chain\n",
      " ownership form |         0          1 |     Total\n",
      "----------------+----------------------+----------\n",
      " Private equity |        29        523 |       552 \n",
      " Privately held |     1,721        446 |     2,167 \n",
      "Publicly traded |         4        918 |       922 \n",
      "----------------+----------------------+----------\n",
      "          Total |     1,754      1,887 |     3,641 \n"
     ]
    }
   ],
   "source": [
    "tab owner_pe chain"
   ]
  },
  {
   "cell_type": "code",
   "execution_count": 67,
   "metadata": {
    "jupyter": {
     "outputs_hidden": true,
     "source_hidden": true
    },
    "tags": []
   },
   "outputs": [
    {
     "data": {
      "image/png": "[encoded data removed]",
      "text/plain": [
       "<IPython.core.display.Image object>"
      ]
     },
     "metadata": {},
     "output_type": "display_data"
    }
   ],
   "source": [
    "graph hbar chain, over(owner_pe)"
   ]
  },
  {
   "cell_type": "markdown",
   "metadata": {},
   "source": [
    "## 10. Lastly, use **chain ownership** or the relevant variable for your own data as a control variable by 1) adding the specification \"bysort iclevel:\" before the \"tab command\" and 2) adding a \"by(iclevel)\" specification to the end of the graph command. Interpret the results [5 pts]\n",
    "[YOUR INTERPRETATION HERE]"
   ]
  },
  {
   "cell_type": "code",
   "execution_count": 56,
   "metadata": {},
   "outputs": [
    {
     "name": "stdout",
     "output_type": "stream",
     "text": [
      "\n",
      "-------------------------------------------------------------------------------\n",
      "-> iclevel = At least 2 but less than 4 years\n",
      "\u001b[31mvarlist required\n",
      "r(100);\u001b[0m\n"
     ]
    }
   ],
   "source": [
    "bysort iclevel: tab\n",
    "\n",
    "graph hbar chain by(iclevel) "
   ]
  },
  {
   "cell_type": "code",
   "execution_count": null,
   "metadata": {},
   "outputs": [],
   "source": []
  }
 ],
 "metadata": {
  "kernelspec": {
   "display_name": "Stata (nbstata)",
   "language": "stata",
   "name": "nbstata"
  },
  "language_info": {
   "file_extension": ".do",
   "mimetype": "text/x-stata",
   "name": "stata",
   "version": "17"
  }
 },
 "nbformat": 4,
 "nbformat_minor": 4
}
