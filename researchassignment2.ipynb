{
 "cells": [
  {
   "cell_type": "markdown",
   "metadata": {},
   "source": [
    "## Research assignment 2"
   ]
  },
  {
   "cell_type": "markdown",
   "metadata": {
    "tags": []
   },
   "source": [
    "### 1. Write a paragraph about your hypotheses\n",
    "My independent variables are event types. These are so I can better understand how different types of events caused by natural forces affect damage and losses (across countries, in this assignment). My dependent variables are measurements of loss related to health outcomes; such as total deaths, injury, loss of shelter and general affect. I hypothesize that patterns in health outcomes will arise depending on the event type. I think that certain weather events will be associated with certain health outcomes more than others. \n",
    "\n",
    "My control variables are countries where the disaster occurred. I think that the country will prove to have an interactive relationship with the variables because the patterns of health outcomes related to event types will change based on the country. This is due to the nature of social-economic factors that natural forces interact with to produce the disaster."
   ]
  },
  {
   "cell_type": "markdown",
   "metadata": {},
   "source": [
    "### 1. Setting up your session\n",
    "\n",
    "In the code cell below, do the following:\n",
    "\n",
    "1. set current directory \n",
    "2. set more off \n",
    "3. create log file \n",
    "4. download the data from its source if it's available online\n",
    "5. read the data in [preferably only variables you are going to use]"
   ]
  },
  {
   "cell_type": "code",
   "execution_count": 2,
   "metadata": {
    "tags": []
   },
   "outputs": [
    {
     "name": "stdout",
     "output_type": "stream",
     "text": [
      "/Users/emilyernst/Desktop/garden/soc_211_assignments\n"
     ]
    }
   ],
   "source": [
    "cd \"/Users/emilyernst/Desktop/garden/soc_211_assignments\""
   ]
  },
  {
   "cell_type": "code",
   "execution_count": 3,
   "metadata": {
    "tags": []
   },
   "outputs": [
    {
     "name": "stdout",
     "output_type": "stream",
     "text": [
      "(-set more- irrelevant in this version of Stata)\n"
     ]
    }
   ],
   "source": [
    "set more off"
   ]
  },
  {
   "cell_type": "code",
   "execution_count": 4,
   "metadata": {
    "tags": []
   },
   "outputs": [
    {
     "name": "stdout",
     "output_type": "stream",
     "text": [
      "(file /Users/emilyernst/Desktop/garden/soc_211_assignments/Log for Research\n",
      "    Assignment 2.log not found)\n",
      "-------------------------------------------------------------------------------\n",
      "      name:  <unnamed>\n",
      "       log:  /Users/emilyernst/Desktop/garden/soc_211_assignments/Log for Resea\n",
      "> rch Assignment 2.log\n",
      "  log type:  text\n",
      " opened on:  12 Feb 2024, 18:33:08\n"
     ]
    }
   ],
   "source": [
    "log using \"Log for Research Assignment 2.log\", replace"
   ]
  },
  {
   "cell_type": "code",
   "execution_count": 6,
   "metadata": {
    "tags": []
   },
   "outputs": [
    {
     "name": "stdout",
     "output_type": "stream",
     "text": [
      "(46 vars, 1,784 obs)\n"
     ]
    }
   ],
   "source": [
    "insheet using \"/Users/emilyernst/Desktop/garden/soc_211_assignments/research_assignment_1/Methods_Review/data/em-dat_data.csv\", clear"
   ]
  },
  {
   "cell_type": "code",
   "execution_count": 7,
   "metadata": {
    "tags": []
   },
   "outputs": [
    {
     "name": "stdout",
     "output_type": "stream",
     "text": [
      "DisNo         country       magnitude     endday        total~e000us\n",
      "historic      subregion     magnitudes~e  totaldeaths   total~d000us\n",
      "classifica~y  region        latitude      noinjured     cpi\n",
      "disastergr~p  location      longitude     noaffected    adminunits\n",
      "disastersu~p  origin        riverbasin    nohomeless    entrydate\n",
      "disastertype  associated~s  startyear     totalaffec~d  lastupdate\n",
      "disastersu~e  ofdaresponse  startmonth    recon~s000us\n",
      "externalids   appeal        startday      recon~d000us\n",
      "eventname     declaration   endyear       insur~e000us\n",
      "iso           aidcontrib~s  endmonth      insur~d000us\n"
     ]
    }
   ],
   "source": [
    "ds"
   ]
  },
  {
   "cell_type": "markdown",
   "metadata": {},
   "source": [
    "### 2. Browse the data\n",
    "\n",
    "Do the following in separate cells. Do do these in separate cells, you will need to use the right click \"split cell\" option:\n",
    "\n",
    "1. Use \"describe\" to print details about the dataset\n",
    "2. Print the heads and tables of the data using the appropriate magic\n",
    "3. label the unique identifier variable\n",
    "4. Generate a frequency table to show the N for each unit of time if there is data for multiple units in time\n",
    "5. Check for missing data overall and within key categories of analysis (time, independent or dependent variable categories, etc)\n",
    "6. use summarize to create a table with summary statistics for each variable you plan to analyze"
   ]
  },
  {
   "cell_type": "code",
   "execution_count": 23,
   "metadata": {
    "tags": []
   },
   "outputs": [
    {
     "name": "stdout",
     "output_type": "stream",
     "text": [
      "\n",
      "Contains data\n",
      " Observations:         1,784                  \n",
      "    Variables:            46                  \n",
      "-------------------------------------------------------------------------------\n",
      "Variable      Storage   Display    Value\n",
      "    name         type    format    label      Variable label\n",
      "-------------------------------------------------------------------------------\n",
      "DisNo           str13   %13s                  ﻿DisNo.\n",
      "historic        str2    %9s                   Historic\n",
      "classificatio~y str15   %15s                  Classification Key\n",
      "disastergroup   str7    %9s                   Disaster Group\n",
      "disastersubgr~p str14   %14s                  Disaster Subgroup\n",
      "disastertype    str19   %19s                  Disaster Type\n",
      "disastersubtype str32   %32s                  Disaster Subtype\n",
      "externalids     str50   %50s                  External IDs\n",
      "eventname       str69   %69s                  Event Name\n",
      "iso             str3    %9s                   ISO\n",
      "country         str34   %34s                  Country\n",
      "subregion       str31   %31s                  Subregion\n",
      "region          str8    %9s                   Region\n",
      "location        str1296 %1296s                Location\n",
      "origin          str97   %97s                  Origin\n",
      "associatedtypes str51   %51s                  Associated Types\n",
      "ofdaresponse    str3    %9s                   OFDA Response\n",
      "appeal          str3    %9s                   Appeal\n",
      "declaration     str3    %9s                   Declaration\n",
      "aidcontributi~s long    %12.0g                AID Contribution ('000 US$)\n",
      "magnitude       float   %9.0g                 Magnitude\n",
      "magnitudescale  str10   %10s                  Magnitude Scale\n",
      "latitude        float   %9.0g                 Latitude\n",
      "longitude       float   %9.0g                 Longitude\n",
      "riverbasin      str402  %402s                 River Basin\n",
      "startyear       int     %8.0g                 Start Year\n",
      "startmonth      byte    %8.0g                 Start Month\n",
      "startday        byte    %8.0g                 Start Day\n",
      "endyear         int     %8.0g                 End Year\n",
      "endmonth        byte    %8.0g                 End Month\n",
      "endday          byte    %8.0g                 End Day\n",
      "totaldeaths     long    %12.0g                Total Deaths\n",
      "noinjured       long    %12.0g                No. Injured\n",
      "noaffected      long    %12.0g                No. Affected\n",
      "nohomeless      long    %12.0g                No. Homeless\n",
      "totalaffected   long    %12.0g                Total Affected\n",
      "reconstr~s000us long    %12.0g                Reconstruction Costs ('000 US$)\n",
      "reconstr~d000us long    %12.0g                Reconstruction Costs, Adjusted\n",
      "                                                ('000 US$)\n",
      "insuredd~e000us float   %9.0g                 Insured Damage ('000 US$)\n",
      "insuredd~d000us long    %12.0g                Insured Damage, Adjusted ('000\n",
      "                                                US$)\n",
      "totaldamage00~s long    %12.0g                Total Damage ('000 US$)\n",
      "totaldamagead~s long    %12.0g                Total Damage, Adjusted ('000 US$)\n",
      "cpi             float   %9.0g                 CPI\n",
      "adminunits      str2    %9s                   Admin Units\n",
      "entrydate       str10   %10s                  Entry Date\n",
      "lastupdate      str10   %10s                  Last Update\n",
      "-------------------------------------------------------------------------------\n",
      "Sorted by: \n",
      "     Note: Dataset has changed since last saved.\n"
     ]
    }
   ],
   "source": [
    "describe"
   ]
  },
  {
   "cell_type": "code",
   "execution_count": 24,
   "metadata": {
    "tags": []
   },
   "outputs": [
    {
     "name": "stdout",
     "output_type": "stream",
     "text": [
      "\n",
      "-------------------------------------------------------------------------------\n",
      "DisNo                                                                  ﻿DisNo.\n",
      "-------------------------------------------------------------------------------\n",
      "\n",
      "                  Type: String (str13)\n",
      "\n",
      "         Unique values: 1,784                     Missing \"\": 0/1,784\n",
      "\n",
      "              Examples: \"2008-0551-PAN\"\n",
      "                        \"2012-0407-GTM\"\n",
      "                        \"2016-0464-PER\"\n",
      "                        \"2020-0495-SLV\"\n",
      "\n",
      "-------------------------------------------------------------------------------\n",
      "historic                                                               Historic\n",
      "-------------------------------------------------------------------------------\n",
      "\n",
      "                  Type: String (str2)\n",
      "\n",
      "         Unique values: 1                         Missing \"\": 0/1,784\n",
      "\n",
      "            Tabulation: Freq.  Value\n",
      "                        1,784  \"No\"\n",
      "\n",
      "-------------------------------------------------------------------------------\n",
      "classificationkey                                            Classification Key\n",
      "-------------------------------------------------------------------------------\n",
      "\n",
      "                  Type: String (str15)\n",
      "\n",
      "         Unique values: 35                        Missing \"\": 0/1,784\n",
      "\n",
      "              Examples: \"nat-hyd-flo-fla\"\n",
      "                        \"nat-hyd-flo-riv\"\n",
      "                        \"nat-hyd-mmw-lan\"\n",
      "                        \"nat-met-sto-tor\"\n",
      "\n",
      "-------------------------------------------------------------------------------\n",
      "disastergroup                                                    Disaster Group\n",
      "-------------------------------------------------------------------------------\n",
      "\n",
      "                  Type: String (str7)\n",
      "\n",
      "         Unique values: 1                         Missing \"\": 0/1,784\n",
      "\n",
      "            Tabulation: Freq.  Value\n",
      "                        1,784  \"Natural\"\n",
      "\n",
      "-------------------------------------------------------------------------------\n",
      "disastersubgroup                                              Disaster Subgroup\n",
      "-------------------------------------------------------------------------------\n",
      "\n",
      "                  Type: String (str14)\n",
      "\n",
      "         Unique values: 5                         Missing \"\": 0/1,784\n",
      "\n",
      "            Tabulation: Freq.  Value\n",
      "                           66  \"Biological\"\n",
      "                          163  \"Climatological\"\n",
      "                          119  \"Geophysical\"\n",
      "                          760  \"Hydrological\"\n",
      "                          676  \"Meteorological\"\n",
      "\n",
      "-------------------------------------------------------------------------------\n",
      "disastertype                                                      Disaster Type\n",
      "-------------------------------------------------------------------------------\n",
      "\n",
      "                  Type: String (str19)\n",
      "\n",
      "         Unique values: 10                        Missing \"\": 0/1,784\n",
      "\n",
      "              Examples: \"Flood\"\n",
      "                        \"Flood\"\n",
      "                        \"Storm\"\n",
      "                        \"Storm\"\n",
      "\n",
      "               Warning: Variable has embedded blanks.\n",
      "\n",
      "-------------------------------------------------------------------------------\n",
      "disastersubtype                                                Disaster Subtype\n",
      "-------------------------------------------------------------------------------\n",
      "\n",
      "                  Type: String (str32)\n",
      "\n",
      "         Unique values: 35                        Missing \"\": 0/1,784\n",
      "\n",
      "              Examples: \"Flood (General)\"\n",
      "                        \"Landslide (wet)\"\n",
      "                        \"Riverine flood\"\n",
      "                        \"Tropical cyclone\"\n",
      "\n",
      "               Warning: Variable has embedded blanks.\n",
      "\n",
      "-------------------------------------------------------------------------------\n",
      "externalids                                                        External IDs\n",
      "-------------------------------------------------------------------------------\n",
      "\n",
      "                  Type: String (str50)\n",
      "\n",
      "         Unique values: 291                       Missing \"\": 1,306/1,784\n",
      "\n",
      "              Examples: \"\"\n",
      "                        \"\"\n",
      "                        \"\"\n",
      "                        \"GLIDE:EQ-2007-000133|USGS:usp000fjta\"\n",
      "\n",
      "-------------------------------------------------------------------------------\n",
      "eventname                                                            Event Name\n",
      "-------------------------------------------------------------------------------\n",
      "\n",
      "                  Type: String (str69)\n",
      "\n",
      "         Unique values: 187                       Missing \"\": 1,353/1,784\n",
      "\n",
      "              Examples: \"\"\n",
      "                        \"\"\n",
      "                        \"\"\n",
      "                        \"Dengue\"\n",
      "\n",
      "               Warning: Variable has embedded blanks.\n",
      "\n",
      "-------------------------------------------------------------------------------\n",
      "iso                                                                         ISO\n",
      "-------------------------------------------------------------------------------\n",
      "\n",
      "                  Type: String (str3)\n",
      "\n",
      "         Unique values: 48                        Missing \"\": 0/1,784\n",
      "\n",
      "              Examples: \"CHL\"\n",
      "                        \"GTM\"\n",
      "                        \"PAN\"\n",
      "                        \"USA\"\n",
      "\n",
      "-------------------------------------------------------------------------------\n",
      "country                                                                 Country\n",
      "-------------------------------------------------------------------------------\n",
      "\n",
      "                  Type: String (str34)\n",
      "\n",
      "         Unique values: 48                        Missing \"\": 0/1,784\n",
      "\n",
      "              Examples: \"Chile\"\n",
      "                        \"Guatemala\"\n",
      "                        \"Panama\"\n",
      "                        \"United States of America\"\n",
      "\n",
      "               Warning: Variable has embedded blanks.\n",
      "\n",
      "-------------------------------------------------------------------------------\n",
      "subregion                                                             Subregion\n",
      "-------------------------------------------------------------------------------\n",
      "\n",
      "                  Type: String (str31)\n",
      "\n",
      "         Unique values: 2                         Missing \"\": 0/1,784\n",
      "\n",
      "            Tabulation: Freq.  Value\n",
      "                        1,270  \"Latin America and the Caribbean\"\n",
      "                          514  \"Northern America\"\n",
      "\n",
      "               Warning: Variable has embedded blanks.\n",
      "\n",
      "-------------------------------------------------------------------------------\n",
      "region                                                                   Region\n",
      "-------------------------------------------------------------------------------\n",
      "\n",
      "                  Type: String (str8)\n",
      "\n",
      "         Unique values: 1                         Missing \"\": 0/1,784\n",
      "\n",
      "            Tabulation: Freq.  Value\n",
      "                        1,784  \"Americas\"\n",
      "\n",
      "-------------------------------------------------------------------------------\n",
      "location                                                               Location\n",
      "-------------------------------------------------------------------------------\n",
      "\n",
      "                  Type: String (str1296)\n",
      "\n",
      "         Unique values: 1,655                     Missing \"\": 59/1,784\n",
      "\n",
      "              Examples: \"British Columbia\"\n",
      "                        \"Fort-de-France, La Trinite, Saint-Pierre, Le Marin\n",
      "                        provinces\"\n",
      "                        \"Missouri (Oak Grove in Jackson County, Clay and\n",
      "                        Clinton (Trimble, Plattsburg, Lathrop) counties),\n",
      "                        Iowa (Centerville in Appanoose county, Muscatine),\n",
      "                        Minnesota (Sherburne, Freeborn counties, Lake Ann in\n",
      "                        Carver county), Kansas (Wabaunsee, Pottawatomie and\n",
      "                        Butler counties), Wisconsin, Arkansas, Oklahoma,\n",
      "                        Illinois, Mississipi, Michigan, New-York,\n",
      "                        Pennsylvania, Massachussets, Ohio, Nebraska,\n",
      "                        Indiana\"\n",
      "                        \"San Juan province\"\n",
      "\n",
      "               Warning: Variable has embedded and trailing blanks.\n",
      "\n",
      "-------------------------------------------------------------------------------\n",
      "origin                                                                   Origin\n",
      "-------------------------------------------------------------------------------\n",
      "\n",
      "                  Type: String (str97)\n",
      "\n",
      "         Unique values: 181                       Missing \"\": 1,084/1,784\n",
      "\n",
      "              Examples: \"\"\n",
      "                        \"\"\n",
      "                        \"\"\n",
      "                        \"Heavy rains\"\n",
      "\n",
      "               Warning: Variable has embedded blanks.\n",
      "\n",
      "-------------------------------------------------------------------------------\n",
      "associatedtypes                                                Associated Types\n",
      "-------------------------------------------------------------------------------\n",
      "\n",
      "                  Type: String (str51)\n",
      "\n",
      "         Unique values: 54                        Missing \"\": 981/1,784\n",
      "\n",
      "              Examples: \"\"\n",
      "                        \"\"\n",
      "                        \"Flood\"\n",
      "                        \"Rain\"\n",
      "\n",
      "               Warning: Variable has embedded blanks.\n",
      "\n",
      "-------------------------------------------------------------------------------\n",
      "ofdaresponse                                                      OFDA Response\n",
      "-------------------------------------------------------------------------------\n",
      "\n",
      "                  Type: String (str3)\n",
      "\n",
      "         Unique values: 2                         Missing \"\": 0/1,784\n",
      "\n",
      "            Tabulation: Freq.  Value\n",
      "                        1,658  \"No\"\n",
      "                          126  \"Yes\"\n",
      "\n",
      "-------------------------------------------------------------------------------\n",
      "appeal                                                                   Appeal\n",
      "-------------------------------------------------------------------------------\n",
      "\n",
      "                  Type: String (str3)\n",
      "\n",
      "         Unique values: 2                         Missing \"\": 0/1,784\n",
      "\n",
      "            Tabulation: Freq.  Value\n",
      "                        1,755  \"No\"\n",
      "                           29  \"Yes\"\n",
      "\n",
      "-------------------------------------------------------------------------------\n",
      "declaration                                                         Declaration\n",
      "-------------------------------------------------------------------------------\n",
      "\n",
      "                  Type: String (str3)\n",
      "\n",
      "         Unique values: 2                         Missing \"\": 0/1,784\n",
      "\n",
      "            Tabulation: Freq.  Value\n",
      "                        1,330  \"No\"\n",
      "                          454  \"Yes\"\n",
      "\n",
      "-------------------------------------------------------------------------------\n",
      "aidcontribution000us                                AID Contribution ('000 US$)\n",
      "-------------------------------------------------------------------------------\n",
      "\n",
      "                  Type: Numeric (long)\n",
      "\n",
      "                 Range: [37,3518530]                  Units: 1\n",
      "         Unique values: 61                        Missing .: 1,722/1,784\n",
      "\n",
      "                  Mean: 64266.6\n",
      "             Std. dev.:  446340\n",
      "\n",
      "           Percentiles:     10%       25%       50%       75%       90%\n",
      "                             71       151     445.5      5028     25257\n",
      "\n",
      "-------------------------------------------------------------------------------\n",
      "magnitude                                                             Magnitude\n",
      "-------------------------------------------------------------------------------\n",
      "\n",
      "                  Type: Numeric (float)\n",
      "\n",
      "                 Range: [-50,1768303]                 Units: .01\n",
      "         Unique values: 336                       Missing .: 1,277/1,784\n",
      "\n",
      "                  Mean: 69845.9\n",
      "             Std. dev.:  194100\n",
      "\n",
      "           Percentiles:     10%       25%       50%       75%       90%\n",
      "                            6.7        85       240     38936    190581\n",
      "\n",
      "-------------------------------------------------------------------------------\n",
      "magnitudescale                                                  Magnitude Scale\n",
      "-------------------------------------------------------------------------------\n",
      "\n",
      "                  Type: String (str10)\n",
      "\n",
      "         Unique values: 5                         Missing \"\": 114/1,784\n",
      "\n",
      "            Tabulation: Freq.  Value\n",
      "                          114  \"\"\n",
      "                          858  \"Km2\"\n",
      "                          632  \"Kph\"\n",
      "                           81  \"Richter\"\n",
      "                           55  \"Vaccinated\"\n",
      "                           44  \"°C\"\n",
      "\n",
      "-------------------------------------------------------------------------------\n",
      "latitude                                                               Latitude\n",
      "-------------------------------------------------------------------------------\n",
      "\n",
      "                  Type: Numeric (float)\n",
      "\n",
      "                 Range: [-72.639999,67.93]            Units: 1.000e-06\n",
      "         Unique values: 319                       Missing .: 1,425/1,784\n",
      "\n",
      "                  Mean: 7.35969\n",
      "             Std. dev.: 24.6903\n",
      "\n",
      "           Percentiles:     10%       25%       50%       75%       90%\n",
      "                          -27.5   -13.386    13.095    20.176   38.8278\n",
      "\n",
      "-------------------------------------------------------------------------------\n",
      "longitude                                                             Longitude\n",
      "-------------------------------------------------------------------------------\n",
      "\n",
      "                  Type: Numeric (float)\n",
      "\n",
      "                 Range: [-155.935,124.423]            Units: 1.000e-06\n",
      "         Unique values: 313                       Missing .: 1,425/1,784\n",
      "\n",
      "                  Mean: -75.5895\n",
      "             Std. dev.:  26.1637\n",
      "\n",
      "           Percentiles:      10%       25%       50%       75%       90%\n",
      "                          -99.99   -89.272    -75.43   -66.883     -55.8\n",
      "\n",
      "-------------------------------------------------------------------------------\n",
      "riverbasin                                                          River Basin\n",
      "-------------------------------------------------------------------------------\n",
      "\n",
      "                  Type: String (str402)\n",
      "\n",
      "         Unique values: 211                       Missing \"\": 1,569/1,784\n",
      "\n",
      "              Examples: \"\"\n",
      "                        \"\"\n",
      "                        \"\"\n",
      "                        \"\"\n",
      "\n",
      "               Warning: Variable has embedded blanks.\n",
      "\n",
      "-------------------------------------------------------------------------------\n",
      "startyear                                                            Start Year\n",
      "-------------------------------------------------------------------------------\n",
      "\n",
      "                  Type: Numeric (int)\n",
      "\n",
      "                 Range: [2005,2023]                   Units: 1\n",
      "         Unique values: 19                        Missing .: 0/1,784\n",
      "\n",
      "                  Mean: 2014.22\n",
      "             Std. dev.: 5.60585\n",
      "\n",
      "           Percentiles:     10%       25%       50%       75%       90%\n",
      "                           2007      2009      2014      2019      2022\n",
      "\n",
      "-------------------------------------------------------------------------------\n",
      "startmonth                                                          Start Month\n",
      "-------------------------------------------------------------------------------\n",
      "\n",
      "                  Type: Numeric (byte)\n",
      "\n",
      "                 Range: [1,12]                        Units: 1\n",
      "         Unique values: 12                        Missing .: 9/1,784\n",
      "\n",
      "                  Mean: 6.49521\n",
      "             Std. dev.: 3.42068\n",
      "\n",
      "           Percentiles:     10%       25%       50%       75%       90%\n",
      "                              1         4         7         9        11\n",
      "\n",
      "-------------------------------------------------------------------------------\n",
      "startday                                                              Start Day\n",
      "-------------------------------------------------------------------------------\n",
      "\n",
      "                  Type: Numeric (byte)\n",
      "\n",
      "                 Range: [1,31]                        Units: 1\n",
      "         Unique values: 31                        Missing .: 197/1,784\n",
      "\n",
      "                  Mean: 15.4423\n",
      "             Std. dev.: 9.10086\n",
      "\n",
      "           Percentiles:     10%       25%       50%       75%       90%\n",
      "                              3         7        15        23        28\n",
      "\n",
      "-------------------------------------------------------------------------------\n",
      "endyear                                                                End Year\n",
      "-------------------------------------------------------------------------------\n",
      "\n",
      "                  Type: Numeric (int)\n",
      "\n",
      "                 Range: [2005,2023]                   Units: 1\n",
      "         Unique values: 19                        Missing .: 0/1,784\n",
      "\n",
      "                  Mean: 2014.27\n",
      "             Std. dev.: 5.60614\n",
      "\n",
      "           Percentiles:     10%       25%       50%       75%       90%\n",
      "                           2007      2009      2014      2019      2022\n",
      "\n",
      "-------------------------------------------------------------------------------\n",
      "endmonth                                                              End Month\n",
      "-------------------------------------------------------------------------------\n",
      "\n",
      "                  Type: Numeric (byte)\n",
      "\n",
      "                 Range: [1,12]                        Units: 1\n",
      "         Unique values: 12                        Missing .: 17/1,784\n",
      "\n",
      "                  Mean: 6.73401\n",
      "             Std. dev.: 3.33883\n",
      "\n",
      "           Percentiles:     10%       25%       50%       75%       90%\n",
      "                              2         4         7        10        11\n",
      "\n",
      "-------------------------------------------------------------------------------\n",
      "endday                                                                  End Day\n",
      "-------------------------------------------------------------------------------\n",
      "\n",
      "                  Type: Numeric (byte)\n",
      "\n",
      "                 Range: [1,31]                        Units: 1\n",
      "         Unique values: 31                        Missing .: 180/1,784\n",
      "\n",
      "                  Mean: 16.0293\n",
      "             Std. dev.: 9.03696\n",
      "\n",
      "           Percentiles:     10%       25%       50%       75%       90%\n",
      "                              4         8        16        24        28\n",
      "\n",
      "-------------------------------------------------------------------------------\n",
      "totaldeaths                                                        Total Deaths\n",
      "-------------------------------------------------------------------------------\n",
      "\n",
      "                  Type: Numeric (long)\n",
      "\n",
      "                 Range: [0,222570]                    Units: 1\n",
      "         Unique values: 143                       Missing .: 547/1,784\n",
      "\n",
      "                  Mean: 215.555\n",
      "             Std. dev.: 6331.37\n",
      "\n",
      "           Percentiles:     10%       25%       50%       75%       90%\n",
      "                              1         3         7        20        51\n",
      "\n",
      "-------------------------------------------------------------------------------\n",
      "noinjured                                                           No. Injured\n",
      "-------------------------------------------------------------------------------\n",
      "\n",
      "                  Type: Numeric (long)\n",
      "\n",
      "                 Range: [1,300000]                    Units: 1\n",
      "         Unique values: 151                       Missing .: 1,365/1,784\n",
      "\n",
      "                  Mean: 2509.29\n",
      "             Std. dev.: 21534.7\n",
      "\n",
      "           Percentiles:     10%       25%       50%       75%       90%\n",
      "                              3        10        27       100       386\n",
      "\n",
      "-------------------------------------------------------------------------------\n",
      "noaffected                                                         No. Affected\n",
      "-------------------------------------------------------------------------------\n",
      "\n",
      "                  Type: Numeric (long)\n",
      "\n",
      "                 Range: [9,85000000]                  Units: 1\n",
      "         Unique values: 690                       Missing .: 594/1,784\n",
      "\n",
      "                  Mean:  237911\n",
      "             Std. dev.: 2.7e+06\n",
      "\n",
      "           Percentiles:     10%       25%       50%       75%       90%\n",
      "                          258.5      1152    7942.5     45000    224549\n",
      "\n",
      "-------------------------------------------------------------------------------\n",
      "nohomeless                                                         No. Homeless\n",
      "-------------------------------------------------------------------------------\n",
      "\n",
      "                  Type: Numeric (long)\n",
      "\n",
      "                 Range: [9,800000]                    Units: 1\n",
      "         Unique values: 146                       Missing .: 1,596/1,784\n",
      "\n",
      "                  Mean: 12520.3\n",
      "             Std. dev.: 65293.6\n",
      "\n",
      "           Percentiles:     10%       25%       50%       75%       90%\n",
      "                             81       200       893    3624.5     14122\n",
      "\n",
      "-------------------------------------------------------------------------------\n",
      "totalaffected                                                    Total Affected\n",
      "-------------------------------------------------------------------------------\n",
      "\n",
      "                  Type: Numeric (long)\n",
      "\n",
      "                 Range: [1,85000012]                  Units: 1\n",
      "         Unique values: 895                       Missing .: 384/1,784\n",
      "\n",
      "                  Mean:  204656\n",
      "             Std. dev.: 2.5e+06\n",
      "\n",
      "           Percentiles:     10%       25%       50%       75%       90%\n",
      "                            129       630      5000   31310.5    188668\n",
      "\n",
      "-------------------------------------------------------------------------------\n",
      "reconstructioncosts000us                        Reconstruction Costs ('000 US$)\n",
      "-------------------------------------------------------------------------------\n",
      "\n",
      "                  Type: Numeric (long)\n",
      "\n",
      "                 Range: [1510,11500000]               Units: 1\n",
      "         Unique values: 10                        Missing .: 1,774/1,784\n",
      "\n",
      "                  Mean: 3.0e+06\n",
      "             Std. dev.: 4.4e+06\n",
      "\n",
      "           Percentiles:     10%       25%       50%       75%       90%\n",
      "                          39755    200000    756500   3.3e+06   1.1e+07\n",
      "\n",
      "-------------------------------------------------------------------------------\n",
      "reconstructioncostsadjusted000us      Reconstruction Costs, Adjusted ('000 US$)\n",
      "-------------------------------------------------------------------------------\n",
      "\n",
      "                  Type: Numeric (long)\n",
      "\n",
      "                 Range: [1897,15434285]               Units: 1\n",
      "         Unique values: 10                        Missing .: 1,774/1,784\n",
      "\n",
      "                  Mean: 3.9e+06\n",
      "             Std. dev.: 6.0e+06\n",
      "\n",
      "           Percentiles:     10%       25%       50%       75%       90%\n",
      "                        47511.5    238785   1.0e+06   4.1e+06   1.5e+07\n",
      "\n",
      "-------------------------------------------------------------------------------\n",
      "insureddamage000us                                    Insured Damage ('000 US$)\n",
      "-------------------------------------------------------------------------------\n",
      "\n",
      "                  Type: Numeric (float)\n",
      "\n",
      "                 Range: [162,60000000]                Units: .1\n",
      "         Unique values: 125                       Missing .: 1,508/1,784\n",
      "\n",
      "                  Mean: 2.2e+06\n",
      "             Std. dev.: 6.6e+06\n",
      "\n",
      "           Percentiles:     10%       25%       50%       75%       90%\n",
      "                          61000    200000    460000   1.4e+06   4.0e+06\n",
      "\n",
      "-------------------------------------------------------------------------------\n",
      "insureddamageadjusted000us                  Insured Damage, Adjusted ('000 US$)\n",
      "-------------------------------------------------------------------------------\n",
      "\n",
      "                  Type: Numeric (long)\n",
      "\n",
      "                 Range: [193,89913156]                Units: 1\n",
      "         Unique values: 208                       Missing .: 1,514/1,784\n",
      "\n",
      "                  Mean: 2.6e+06\n",
      "             Std. dev.: 8.2e+06\n",
      "\n",
      "           Percentiles:     10%       25%       50%       75%       90%\n",
      "                          76245    240390    626263   1.8e+06   3.6e+06\n",
      "\n",
      "-------------------------------------------------------------------------------\n",
      "totaldamage000us                                        Total Damage ('000 US$)\n",
      "-------------------------------------------------------------------------------\n",
      "\n",
      "                  Type: Numeric (long)\n",
      "\n",
      "                 Range: [50,1.250e+08]                Units: 1\n",
      "         Unique values: 262                       Missing .: 1,051/1,784\n",
      "\n",
      "                  Mean: 2.1e+06\n",
      "             Std. dev.: 8.6e+06\n",
      "\n",
      "           Percentiles:     10%       25%       50%       75%       90%\n",
      "                          10000     58000    300000   1.3e+06   3.1e+06\n",
      "\n",
      "-------------------------------------------------------------------------------\n",
      "totaldamageadjusted000us                      Total Damage, Adjusted ('000 US$)\n",
      "-------------------------------------------------------------------------------\n",
      "\n",
      "                  Type: Numeric (long)\n",
      "\n",
      "                 Range: [75,1.873e+08]                Units: 1\n",
      "         Unique values: 534                       Missing .: 1,091/1,784\n",
      "\n",
      "                  Mean: 2.5e+06\n",
      "             Std. dev.: 1.1e+07\n",
      "\n",
      "           Percentiles:     10%       25%       50%       75%       90%\n",
      "                          11463     63516    365808   1.6e+06   3.6e+06\n",
      "\n",
      "-------------------------------------------------------------------------------\n",
      "cpi                                                                         CPI\n",
      "-------------------------------------------------------------------------------\n",
      "\n",
      "                  Type: Numeric (float)\n",
      "\n",
      "                 Range: [66.731056,100]               Units: 1.000e-06\n",
      "         Unique values: 18                        Missing .: 96/1,784\n",
      "\n",
      "                  Mean: 80.7591\n",
      "             Std. dev.: 8.79391\n",
      "\n",
      "           Percentiles:     10%       25%       50%       75%       90%\n",
      "                        68.8838   73.5687   80.8926    87.358   92.5902\n",
      "\n",
      "-------------------------------------------------------------------------------\n",
      "adminunits                                                          Admin Units\n",
      "-------------------------------------------------------------------------------\n",
      "\n",
      "                  Type: String (str2)\n",
      "\n",
      "         Unique values: 1                         Missing \"\": 190/1,784\n",
      "\n",
      "            Tabulation: Freq.  Value\n",
      "                          190  \"\"\n",
      "                        1,594  \"}]\"\n",
      "\n",
      "-------------------------------------------------------------------------------\n",
      "entrydate                                                            Entry Date\n",
      "-------------------------------------------------------------------------------\n",
      "\n",
      "                  Type: String (str10)\n",
      "\n",
      "         Unique values: 854                       Missing \"\": 0/1,784\n",
      "\n",
      "              Examples: \"2009-09-07\"\n",
      "                        \"2013-09-19\"\n",
      "                        \"2016-12-15\"\n",
      "                        \"2021-01-07\"\n",
      "\n",
      "-------------------------------------------------------------------------------\n",
      "lastupdate                                                          Last Update\n",
      "-------------------------------------------------------------------------------\n",
      "\n",
      "                  Type: String (str10)\n",
      "\n",
      "         Unique values: 21                        Missing \"\": 0/1,784\n",
      "\n",
      "              Examples: \"2023-09-25\"\n",
      "                        \"2023-09-25\"\n",
      "                        \"2023-09-25\"\n",
      "                        \"2023-09-25\"\n"
     ]
    }
   ],
   "source": [
    "codebook "
   ]
  },
  {
   "cell_type": "code",
   "execution_count": 10,
   "metadata": {
    "tags": []
   },
   "outputs": [
    {
     "name": "stdout",
     "output_type": "stream",
     "text": [
      "\n",
      "-------------------------------------------------------------------------------\n",
      "DisNo                                                                  ﻿DisNo.\n",
      "-------------------------------------------------------------------------------\n",
      "\n",
      "                  Type: String (str13)\n",
      "\n",
      "         Unique values: 1,784                     Missing \"\": 0/1,784\n",
      "\n",
      "              Examples: \"2008-0551-PAN\"\n",
      "                        \"2012-0407-GTM\"\n",
      "                        \"2016-0464-PER\"\n",
      "                        \"2020-0495-SLV\"\n"
     ]
    }
   ],
   "source": [
    "codebook DisNo"
   ]
  },
  {
   "cell_type": "code",
   "execution_count": 14,
   "metadata": {
    "tags": []
   },
   "outputs": [
    {
     "name": "stdout",
     "output_type": "stream",
     "text": [
      "\n",
      "-------------------------------------------------------------------------------\n",
      "classificationkey                                            Classification Key\n",
      "-------------------------------------------------------------------------------\n",
      "\n",
      "                  Type: String (str15)\n",
      "\n",
      "         Unique values: 35                        Missing \"\": 0/1,784\n",
      "\n",
      "              Examples: \"nat-hyd-flo-fla\"\n",
      "                        \"nat-hyd-flo-riv\"\n",
      "                        \"nat-hyd-mmw-lan\"\n",
      "                        \"nat-met-sto-tor\"\n"
     ]
    }
   ],
   "source": [
    "codebook classificationkey"
   ]
  },
  {
   "cell_type": "code",
   "execution_count": 13,
   "metadata": {
    "tags": []
   },
   "outputs": [
    {
     "name": "stdout",
     "output_type": "stream",
     "text": [
      "\n",
      "-------------------------------------------------------------------------------\n",
      "externalids                                                        External IDs\n",
      "-------------------------------------------------------------------------------\n",
      "\n",
      "                  Type: String (str50)\n",
      "\n",
      "         Unique values: 291                       Missing \"\": 1,306/1,784\n",
      "\n",
      "              Examples: \"\"\n",
      "                        \"\"\n",
      "                        \"\"\n",
      "                        \"GLIDE:EQ-2007-000133|USGS:usp000fjta\"\n"
     ]
    }
   ],
   "source": [
    "codebook externalids"
   ]
  },
  {
   "cell_type": "code",
   "execution_count": 16,
   "metadata": {
    "tags": []
   },
   "outputs": [
    {
     "name": "stdout",
     "output_type": "stream",
     "text": [
      "\n",
      "-------------------------------------------------------------------------------\n",
      "iso                                                                         ISO\n",
      "-------------------------------------------------------------------------------\n",
      "\n",
      "                  Type: String (str3)\n",
      "\n",
      "         Unique values: 48                        Missing \"\": 0/1,784\n",
      "\n",
      "              Examples: \"CHL\"\n",
      "                        \"GTM\"\n",
      "                        \"PAN\"\n",
      "                        \"USA\"\n"
     ]
    }
   ],
   "source": [
    "codebook iso"
   ]
  },
  {
   "cell_type": "code",
   "execution_count": null,
   "metadata": {
    "tags": []
   },
   "outputs": [],
   "source": [
    "//ID variables: DisNo (District number- MANDATORY), Classification Key (A unique 15-character string identifying disasters in terms of the Group, Subgroup, Type and Subtype classification hierarchy- MANDATORY), External IDs (List for identifiers for resources), iso (The International Organization for Standardization or ISO 3-letter code referring to the Country. The MANDATORY)"
   ]
  },
  {
   "cell_type": "code",
   "execution_count": 25,
   "metadata": {
    "tags": []
   },
   "outputs": [
    {
     "data": {
      "text/html": [
       "<div>\n",
       "<style scoped>\n",
       "    .dataframe tbody tr th:only-of-type {\n",
       "        vertical-align: middle;\n",
       "    }\n",
       "\n",
       "    .dataframe tbody tr th {\n",
       "        vertical-align: top;\n",
       "    }\n",
       "\n",
       "    .dataframe thead th {\n",
       "        text-align: right;\n",
       "    }\n",
       "</style>\n",
       "<table border=\"1\" class=\"dataframe\">\n",
       "  <thead>\n",
       "    <tr style=\"text-align: right;\">\n",
       "      <th></th>\n",
       "      <th>DisNo</th>\n",
       "      <th>historic</th>\n",
       "      <th>classificationkey</th>\n",
       "      <th>disastergroup</th>\n",
       "      <th>disastersubgroup</th>\n",
       "      <th>disastertype</th>\n",
       "      <th>disastersubtype</th>\n",
       "      <th>externalids</th>\n",
       "      <th>eventname</th>\n",
       "      <th>iso</th>\n",
       "      <th>country</th>\n",
       "      <th>subregion</th>\n",
       "      <th>region</th>\n",
       "      <th>location</th>\n",
       "      <th>origin</th>\n",
       "      <th>associatedtypes</th>\n",
       "      <th>ofdaresponse</th>\n",
       "      <th>appeal</th>\n",
       "      <th>declaration</th>\n",
       "      <th>aidcontribution000us</th>\n",
       "      <th>magnitude</th>\n",
       "      <th>magnitudescale</th>\n",
       "      <th>latitude</th>\n",
       "      <th>longitude</th>\n",
       "      <th>riverbasin</th>\n",
       "      <th>startyear</th>\n",
       "      <th>startmonth</th>\n",
       "      <th>startday</th>\n",
       "      <th>endyear</th>\n",
       "      <th>endmonth</th>\n",
       "      <th>endday</th>\n",
       "      <th>totaldeaths</th>\n",
       "      <th>noinjured</th>\n",
       "      <th>noaffected</th>\n",
       "      <th>nohomeless</th>\n",
       "      <th>totalaffected</th>\n",
       "      <th>reconstructioncosts000us</th>\n",
       "      <th>reconstructioncostsadjusted000us</th>\n",
       "      <th>insureddamage000us</th>\n",
       "      <th>insureddamageadjusted000us</th>\n",
       "      <th>totaldamage000us</th>\n",
       "      <th>totaldamageadjusted000us</th>\n",
       "      <th>cpi</th>\n",
       "      <th>adminunits</th>\n",
       "      <th>entrydate</th>\n",
       "      <th>lastupdate</th>\n",
       "    </tr>\n",
       "  </thead>\n",
       "  <tbody>\n",
       "    <tr>\n",
       "      <th>1</th>\n",
       "      <td>2005-0003-BRA</td>\n",
       "      <td>No</td>\n",
       "      <td>nat-met-sto-tor</td>\n",
       "      <td>Natural</td>\n",
       "      <td>Meteorological</td>\n",
       "      <td>Storm</td>\n",
       "      <td>Tornado</td>\n",
       "      <td></td>\n",
       "      <td></td>\n",
       "      <td>BRA</td>\n",
       "      <td>Brazil</td>\n",
       "      <td>Latin America and the Caribbean</td>\n",
       "      <td>Americas</td>\n",
       "      <td>Criciuma district (Santa Catarina province)</td>\n",
       "      <td></td>\n",
       "      <td></td>\n",
       "      <td>No</td>\n",
       "      <td>No</td>\n",
       "      <td>No</td>\n",
       "      <td>.</td>\n",
       "      <td>200</td>\n",
       "      <td>Kph</td>\n",
       "      <td>.</td>\n",
       "      <td>.</td>\n",
       "      <td></td>\n",
       "      <td>2005</td>\n",
       "      <td>1</td>\n",
       "      <td>3</td>\n",
       "      <td>2005</td>\n",
       "      <td>1</td>\n",
       "      <td>3</td>\n",
       "      <td>2</td>\n",
       "      <td>4</td>\n",
       "      <td>.</td>\n",
       "      <td>340</td>\n",
       "      <td>344</td>\n",
       "      <td>.</td>\n",
       "      <td>.</td>\n",
       "      <td>.</td>\n",
       "      <td>.</td>\n",
       "      <td>.</td>\n",
       "      <td>.</td>\n",
       "      <td>66.73106</td>\n",
       "      <td>}]</td>\n",
       "      <td>2005-01-06</td>\n",
       "      <td>2023-09-25</td>\n",
       "    </tr>\n",
       "    <tr>\n",
       "      <th>2</th>\n",
       "      <td>2005-0015-USA</td>\n",
       "      <td>No</td>\n",
       "      <td>nat-hyd-flo-riv</td>\n",
       "      <td>Natural</td>\n",
       "      <td>Hydrological</td>\n",
       "      <td>Flood</td>\n",
       "      <td>Riverine flood</td>\n",
       "      <td></td>\n",
       "      <td></td>\n",
       "      <td>USA</td>\n",
       "      <td>United States of America</td>\n",
       "      <td>Northern America</td>\n",
       "      <td>Americas</td>\n",
       "      <td>La Conchita area (Ventura district, California...</td>\n",
       "      <td>Heavy rain, heavy snow</td>\n",
       "      <td>Slide (land, mud, snow, rock)</td>\n",
       "      <td>No</td>\n",
       "      <td>No</td>\n",
       "      <td>Yes</td>\n",
       "      <td>.</td>\n",
       "      <td>560</td>\n",
       "      <td>Km2</td>\n",
       "      <td>.</td>\n",
       "      <td>.</td>\n",
       "      <td>Venturea, Ohio rivers</td>\n",
       "      <td>2005</td>\n",
       "      <td>1</td>\n",
       "      <td>7</td>\n",
       "      <td>2005</td>\n",
       "      <td>1</td>\n",
       "      <td>11</td>\n",
       "      <td>28</td>\n",
       "      <td>8</td>\n",
       "      <td>500</td>\n",
       "      <td>.</td>\n",
       "      <td>508</td>\n",
       "      <td>.</td>\n",
       "      <td>.</td>\n",
       "      <td>200000</td>\n",
       "      <td>299711</td>\n",
       "      <td>200000</td>\n",
       "      <td>299711</td>\n",
       "      <td>66.73106</td>\n",
       "      <td>}]</td>\n",
       "      <td>2006-01-23</td>\n",
       "      <td>2023-09-25</td>\n",
       "    </tr>\n",
       "    <tr>\n",
       "      <th>3</th>\n",
       "      <td>2005-0021-CRI</td>\n",
       "      <td>No</td>\n",
       "      <td>nat-hyd-flo-riv</td>\n",
       "      <td>Natural</td>\n",
       "      <td>Hydrological</td>\n",
       "      <td>Flood</td>\n",
       "      <td>Riverine flood</td>\n",
       "      <td></td>\n",
       "      <td></td>\n",
       "      <td>CRI</td>\n",
       "      <td>Costa Rica</td>\n",
       "      <td>Latin America and the Caribbean</td>\n",
       "      <td>Americas</td>\n",
       "      <td>Guacimo, Limon, Matina, Pococi, Siquierres, Ta...</td>\n",
       "      <td>Heavy rains</td>\n",
       "      <td>Slide (land, mud, snow, rock)</td>\n",
       "      <td>Yes</td>\n",
       "      <td>No</td>\n",
       "      <td>Yes</td>\n",
       "      <td>151</td>\n",
       "      <td>.</td>\n",
       "      <td>Km2</td>\n",
       "      <td>.</td>\n",
       "      <td>.</td>\n",
       "      <td></td>\n",
       "      <td>2005</td>\n",
       "      <td>1</td>\n",
       "      <td>11</td>\n",
       "      <td>2005</td>\n",
       "      <td>1</td>\n",
       "      <td>18</td>\n",
       "      <td>4</td>\n",
       "      <td>.</td>\n",
       "      <td>2143</td>\n",
       "      <td>.</td>\n",
       "      <td>2143</td>\n",
       "      <td>.</td>\n",
       "      <td>.</td>\n",
       "      <td>.</td>\n",
       "      <td>.</td>\n",
       "      <td>25000</td>\n",
       "      <td>37464</td>\n",
       "      <td>66.73106</td>\n",
       "      <td>}]</td>\n",
       "      <td>2005-07-28</td>\n",
       "      <td>2023-09-25</td>\n",
       "    </tr>\n",
       "    <tr>\n",
       "      <th>4</th>\n",
       "      <td>2005-0021-PAN</td>\n",
       "      <td>No</td>\n",
       "      <td>nat-hyd-flo-riv</td>\n",
       "      <td>Natural</td>\n",
       "      <td>Hydrological</td>\n",
       "      <td>Flood</td>\n",
       "      <td>Riverine flood</td>\n",
       "      <td></td>\n",
       "      <td></td>\n",
       "      <td>PAN</td>\n",
       "      <td>Panama</td>\n",
       "      <td>Latin America and the Caribbean</td>\n",
       "      <td>Americas</td>\n",
       "      <td>Changuinola, Bocas del Toro, Chiriqui Grande d...</td>\n",
       "      <td>Heavy rains</td>\n",
       "      <td>Slide (land, mud, snow, rock)</td>\n",
       "      <td>No</td>\n",
       "      <td>No</td>\n",
       "      <td>No</td>\n",
       "      <td>.</td>\n",
       "      <td>.</td>\n",
       "      <td>Km2</td>\n",
       "      <td>.</td>\n",
       "      <td>.</td>\n",
       "      <td>Cricamola, Changinola, Sixaola</td>\n",
       "      <td>2005</td>\n",
       "      <td>1</td>\n",
       "      <td>11</td>\n",
       "      <td>2005</td>\n",
       "      <td>1</td>\n",
       "      <td>18</td>\n",
       "      <td>3</td>\n",
       "      <td>.</td>\n",
       "      <td>7000</td>\n",
       "      <td>.</td>\n",
       "      <td>7000</td>\n",
       "      <td>.</td>\n",
       "      <td>.</td>\n",
       "      <td>.</td>\n",
       "      <td>.</td>\n",
       "      <td>7000</td>\n",
       "      <td>10490</td>\n",
       "      <td>66.73106</td>\n",
       "      <td>}]</td>\n",
       "      <td>2005-03-30</td>\n",
       "      <td>2023-09-25</td>\n",
       "    </tr>\n",
       "    <tr>\n",
       "      <th>5</th>\n",
       "      <td>2005-0021-VEN</td>\n",
       "      <td>No</td>\n",
       "      <td>nat-hyd-flo-riv</td>\n",
       "      <td>Natural</td>\n",
       "      <td>Hydrological</td>\n",
       "      <td>Flood</td>\n",
       "      <td>Riverine flood</td>\n",
       "      <td></td>\n",
       "      <td></td>\n",
       "      <td>VEN</td>\n",
       "      <td>Venezuela (Bolivarian Republic of)</td>\n",
       "      <td>Latin America and the Caribbean</td>\n",
       "      <td>Americas</td>\n",
       "      <td>Amazonas, Anzoategui, Apure, Aragua, Barinas, ...</td>\n",
       "      <td></td>\n",
       "      <td></td>\n",
       "      <td>No</td>\n",
       "      <td>No</td>\n",
       "      <td>No</td>\n",
       "      <td>.</td>\n",
       "      <td>.</td>\n",
       "      <td>Km2</td>\n",
       "      <td>.</td>\n",
       "      <td>.</td>\n",
       "      <td></td>\n",
       "      <td>2005</td>\n",
       "      <td>1</td>\n",
       "      <td>8</td>\n",
       "      <td>2005</td>\n",
       "      <td>1</td>\n",
       "      <td>20</td>\n",
       "      <td>3</td>\n",
       "      <td>.</td>\n",
       "      <td>.</td>\n",
       "      <td>.</td>\n",
       "      <td>.</td>\n",
       "      <td>.</td>\n",
       "      <td>.</td>\n",
       "      <td>.</td>\n",
       "      <td>.</td>\n",
       "      <td>1000</td>\n",
       "      <td>1499</td>\n",
       "      <td>66.73106</td>\n",
       "      <td>}]</td>\n",
       "      <td>2007-02-21</td>\n",
       "      <td>2023-09-25</td>\n",
       "    </tr>\n",
       "  </tbody>\n",
       "</table>\n",
       "</div>"
      ]
     },
     "metadata": {},
     "output_type": "display_data"
    }
   ],
   "source": [
    "%head"
   ]
  },
  {
   "cell_type": "code",
   "execution_count": 53,
   "metadata": {
    "tags": []
   },
   "outputs": [
    {
     "name": "stdout",
     "output_type": "stream",
     "text": [
      "\n",
      " Start Year |      Freq.     Percent        Cum.\n",
      "------------+-----------------------------------\n",
      "       2005 |         94        5.27        5.27\n",
      "       2006 |         75        4.20        9.47\n",
      "       2007 |        103        5.77       15.25\n",
      "       2008 |        102        5.72       20.96\n",
      "       2009 |         84        4.71       25.67\n",
      "       2010 |        108        6.05       31.73\n",
      "       2011 |        100        5.61       37.33\n",
      "       2012 |         84        4.71       42.04\n",
      "       2013 |         79        4.43       46.47\n",
      "       2014 |         77        4.32       50.78\n",
      "       2015 |         97        5.44       56.22\n",
      "       2016 |         85        4.76       60.99\n",
      "       2017 |        101        5.66       66.65\n",
      "       2018 |         67        3.76       70.40\n",
      "       2019 |         89        4.99       75.39\n",
      "       2020 |         92        5.16       80.55\n",
      "       2021 |        130        7.29       87.84\n",
      "       2022 |        121        6.78       94.62\n",
      "       2023 |         96        5.38      100.00\n",
      "------------+-----------------------------------\n",
      "      Total |      1,784      100.00\n"
     ]
    }
   ],
   "source": [
    "tab startyear"
   ]
  },
  {
   "cell_type": "code",
   "execution_count": null,
   "metadata": {},
   "outputs": [],
   "source": [
    "//My data is wide format data, so I will use the following code to identify any duplicates"
   ]
  },
  {
   "cell_type": "code",
   "execution_count": null,
   "metadata": {},
   "outputs": [],
   "source": [
    "//The only unique ID would be classification key and district number"
   ]
  },
  {
   "cell_type": "code",
   "execution_count": 22,
   "metadata": {
    "tags": []
   },
   "outputs": [],
   "source": [
    "sort DisNo classificationkey\n",
    "quietly by DisNo classificationkey: gen dup = cond(_N==1, 0, _n)"
   ]
  },
  {
   "cell_type": "code",
   "execution_count": 23,
   "metadata": {
    "tags": []
   },
   "outputs": [
    {
     "name": "stdout",
     "output_type": "stream",
     "text": [
      "\n",
      "        dup |      Freq.     Percent        Cum.\n",
      "------------+-----------------------------------\n",
      "          0 |      1,784      100.00      100.00\n",
      "------------+-----------------------------------\n",
      "      Total |      1,784      100.00\n"
     ]
    }
   ],
   "source": [
    "tab dup"
   ]
  },
  {
   "cell_type": "code",
   "execution_count": null,
   "metadata": {},
   "outputs": [],
   "source": [
    "//labeling the variables"
   ]
  },
  {
   "cell_type": "code",
   "execution_count": 33,
   "metadata": {
    "tags": []
   },
   "outputs": [
    {
     "name": "stdout",
     "output_type": "stream",
     "text": [
      "\n",
      "-------------------------------------------------------------------------------\n",
      "DisNo                                               District Number of Disaster\n",
      "-------------------------------------------------------------------------------\n",
      "\n",
      "                  Type: String (str13)\n",
      "\n",
      "         Unique values: 1,784                     Missing \"\": 0/1,784\n",
      "\n",
      "              Examples: \"2008-0551-PAN\"\n",
      "                        \"2012-0407-GTM\"\n",
      "                        \"2016-0464-PER\"\n",
      "                        \"2020-0495-SLV\"\n",
      "\n",
      "-------------------------------------------------------------------------------\n",
      "classificationkey                                Unique ID Attached to Disaster\n",
      "-------------------------------------------------------------------------------\n",
      "\n",
      "                  Type: String (str15)\n",
      "\n",
      "         Unique values: 35                        Missing \"\": 0/1,784\n",
      "\n",
      "              Examples: \"nat-hyd-flo-fla\"\n",
      "                        \"nat-hyd-flo-riv\"\n",
      "                        \"nat-hyd-mmw-lan\"\n",
      "                        \"nat-met-sto-tor\"\n"
     ]
    }
   ],
   "source": [
    "label var DisNo \"District Number of Disaster\"\n",
    "label variable classificationkey \"ID Attached to Disaster\"\n",
    "codebook DisNo classificationkey"
   ]
  },
  {
   "cell_type": "code",
   "execution_count": 35,
   "metadata": {
    "tags": []
   },
   "outputs": [],
   "source": [
    "//interesting variables to look at to determine damage/loss differences across event and country:\n",
    "*nominal: Disaster Type, Event Name, country\n",
    "*numeric: total deaths, no. injured, no. affected, no. homeless, total affected"
   ]
  },
  {
   "cell_type": "code",
   "execution_count": 38,
   "metadata": {
    "tags": []
   },
   "outputs": [
    {
     "name": "stdout",
     "output_type": "stream",
     "text": [
      "\n",
      "      Disaster Type |      Freq.     Percent        Cum.\n",
      "--------------------+-----------------------------------\n",
      "            Drought |         73        4.09        4.09\n",
      "         Earthquake |         81        4.54        8.63\n",
      "           Epidemic |         66        3.70       12.33\n",
      "Extreme temperature |         44        2.47       14.80\n",
      "              Flood |        695       38.96       53.76\n",
      "Mass movement (dry) |          2        0.11       53.87\n",
      "Mass movement (wet) |         65        3.64       57.51\n",
      "              Storm |        632       35.43       92.94\n",
      "  Volcanic activity |         36        2.02       94.96\n",
      "           Wildfire |         90        5.04      100.00\n",
      "--------------------+-----------------------------------\n",
      "              Total |      1,784      100.00\n"
     ]
    }
   ],
   "source": [
    "tab disastertype, missing"
   ]
  },
  {
   "cell_type": "code",
   "execution_count": 39,
   "metadata": {
    "tags": []
   },
   "outputs": [
    {
     "name": "stdout",
     "output_type": "stream",
     "text": [
      "\n",
      "                             Event Name |      Freq.     Percent        Cum.\n",
      "----------------------------------------+-----------------------------------\n",
      "                                        |      1,353       75.84       75.84\n",
      "                     'Lahaina' wildfire |          1        0.06       75.90\n",
      "                               'Thomas' |          1        0.06       75.95\n",
      "Adkins Ave Fire and Bertha Swamp Road.. |          1        0.06       76.01\n",
      "                                 Adrian |          1        0.06       76.07\n",
      "                                Alberto |          1        0.06       76.12\n",
      "                                   Alma |          3        0.17       76.29\n",
      "                                  Alpha |          2        0.11       76.40\n",
      "                    August Complex fire |          1        0.06       76.46\n",
      "                                Beatriz |          1        0.06       76.51\n",
      "                                   Beta |          3        0.17       76.68\n",
      "                           Bootleg Fire |          1        0.06       76.74\n",
      "                                  Boris |          2        0.11       76.85\n",
      "                                   Bret |          1        0.06       76.91\n",
      "                             Butte fire |          1        0.06       76.96\n",
      "                                Calbuco |          2        0.11       77.07\n",
      "                            Caldor fire |          1        0.06       77.13\n",
      "     Calf Canyon and Hermits Peak Fires |          1        0.06       77.19\n",
      "                              Camp Fire |          1        0.06       77.24\n",
      "       Carr and Mendocino Complex fires |          1        0.06       77.30\n",
      "                                Chaiten |          2        0.11       77.41\n",
      "                 Chaparrastique Volcano |          1        0.06       77.47\n",
      "                            Chikungunya |          1        0.06       77.52\n",
      "              Chikungunya virus disease |          1        0.06       77.58\n",
      "                                Cholera |         10        0.56       78.14\n",
      "                           Clayton Fire |          1        0.06       78.20\n",
      "                         Cleon and Dion |          1        0.06       78.25\n",
      "                               Cotopaxi |          1        0.06       78.31\n",
      "                                   Dean |         10        0.56       78.87\n",
      "                                 Dengue |         44        2.47       81.33\n",
      " Dengue and Hemorrhagic fever outbreaks |          2        0.11       81.45\n",
      "                             Dixie fire |          1        0.06       81.50\n",
      "                                  Emily |          5        0.28       81.78\n",
      "                                   Erin |          1        0.06       81.84\n",
      "                                Ernesto |          3        0.17       82.01\n",
      "                              Fawn fire |          1        0.06       82.06\n",
      "                                  Felix |          5        0.28       82.34\n",
      "                Fort McMurray wildfires |          1        0.06       82.40\n",
      "                                Galeras |          2        0.11       82.51\n",
      "                                  Gamma |          2        0.11       82.62\n",
      "          Gray fire and the Oregon fire |          1        0.06       82.68\n",
      "Gustafsen, Wildwood, Elephant Hill Fi.. |          1        0.06       82.74\n",
      "                            Heavy rains |          1        0.06       82.79\n",
      "                              Henriette |          1        0.06       82.85\n",
      "              Hunga-Tonga-Hunga-Ha'apai |          1        0.06       82.90\n",
      "                      Hurricane 'Beryl' |          2        0.11       83.02\n",
      "                      Hurricane 'Delta' |          1        0.06       83.07\n",
      "                       Hurricane 'Elsa' |          7        0.39       83.46\n",
      "                        Hurricane 'Eta' |         10        0.56       84.02\n",
      "                      Hurricane 'Fiona' |          4        0.22       84.25\n",
      "                   Hurricane 'Franklin' |          1        0.06       84.30\n",
      "                      Hurricane 'Hanna' |          6        0.34       84.64\n",
      "                        Hurricane 'Ian' |          2        0.11       84.75\n",
      "                     Hurricane 'Idalia' |          2        0.11       84.87\n",
      "                       Hurricane 'Iota' |          6        0.34       85.20\n",
      "                       Hurricane 'Irma' |         16        0.90       86.10\n",
      "                     Hurricane 'Isaias' |          4        0.22       86.32\n",
      "                    Hurricane 'Joaquin' |          1        0.06       86.38\n",
      "                      Hurricane 'Julia' |          6        0.34       86.72\n",
      "                       Hurricane 'Karl' |          1        0.06       86.77\n",
      "                      Hurricane 'Laura' |          3        0.17       86.94\n",
      "                       Hurricane 'Lisa' |          1        0.06       87.00\n",
      "                      Hurricane 'Maria' |          9        0.50       87.50\n",
      "                    Hurricane 'Matthew' |          8        0.45       87.95\n",
      "                     Hurricane 'Nicole' |          1        0.06       88.00\n",
      "                     Hurricane 'Roslyn' |          1        0.06       88.06\n",
      "                      Hurricane 'Sally' |          1        0.06       88.12\n",
      "                       Hurricane 'Zeta' |          2        0.11       88.23\n",
      "                       Hurricane Agatha |          3        0.17       88.40\n",
      "                      Hurricane Barbara |          1        0.06       88.45\n",
      "                         Hurricane Bill |          2        0.11       88.57\n",
      "                     Hurricane Carlotta |          1        0.06       88.62\n",
      "                        Hurricane Dolly |          3        0.17       88.79\n",
      "                         Hurricane Earl |          2        0.11       88.90\n",
      "                        Hurricane Erika |          3        0.17       89.07\n",
      "                     Hurricane Florence |          1        0.06       89.13\n",
      "                        Hurricane Frank |          1        0.06       89.18\n",
      "                       Hurricane Harvey |          1        0.06       89.24\n",
      "                      Hurricane Hermine |          1        0.06       89.29\n",
      "                          Hurricane Ike |          5        0.28       89.57\n",
      "                       Hurricane Ingrid |          1        0.06       89.63\n",
      "                        Hurricane Irene |          6        0.34       89.97\n",
      "                        Hurricane Isaac |          5        0.28       90.25\n",
      "                       Hurricane Iselle |          1        0.06       90.30\n",
      "                       Hurricane Jimena |          1        0.06       90.36\n",
      "                         Hurricane Jova |          1        0.06       90.41\n",
      "                        Hurricane Katia |          1        0.06       90.47\n",
      "                       Hurricane Manuel |          1        0.06       90.53\n",
      "                        Hurricane Marie |          1        0.06       90.58\n",
      "                      Hurricane Michael |          2        0.11       90.70\n",
      "                         Hurricane Nate |          1        0.06       90.75\n",
      "                       Hurricane Newton |          1        0.06       90.81\n",
      "                      Hurricane Norbert |          1        0.06       90.86\n",
      "                        Hurricane Odile |          1        0.06       90.92\n",
      "                       Hurricane Paloma |          2        0.11       91.03\n",
      "                     Hurricane Patricia |          1        0.06       91.09\n",
      "                        Hurricane Sandy |          6        0.34       91.42\n",
      "                        Hurricane Tomas |          5        0.28       91.70\n",
      "                        Hurricane Willa |          1        0.06       91.76\n",
      "                              Influenza |          1        0.06       91.82\n",
      "                                Joaquin |          1        0.06       91.87\n",
      "                                   John |          1        0.06       91.93\n",
      "                                Katrina |          1        0.06       91.98\n",
      "                                Kilauea |          1        0.06       92.04\n",
      "                           Kincade Fire |          1        0.06       92.10\n",
      "                          La Souffrière |          1        0.06       92.15\n",
      "                                   Lane |          1        0.06       92.21\n",
      "                          Leptospirosis |          1        0.06       92.26\n",
      "                                Lorenzo |          1        0.06       92.32\n",
      "McBride, Nogal Canyon, Hermits Peak F.. |          1        0.06       92.38\n",
      "          McKinney & Yeti Complex fires |          1        0.06       92.43\n",
      " Middle Fork and the Marshall wildfires |          1        0.06       92.49\n",
      "                            Mount Fuego |          1        0.06       92.54\n",
      "                          Mount Galeras |          2        0.11       92.66\n",
      "                           Mount Sangay |          1        0.06       92.71\n",
      "                           Mount Ubinas |          1        0.06       92.77\n",
      "                       Nevado del Huila |          3        0.17       92.94\n",
      "                                   Noel |          5        0.28       93.22\n",
      "                                   Olga |          3        0.17       93.39\n",
      "                         Pacaya volcano |          1        0.06       93.44\n",
      "                                   Paul |          1        0.06       93.50\n",
      "                                   Rita |          1        0.06       93.55\n",
      "     Saddleridge fire & Sandalwood fire |          1        0.06       93.61\n",
      "                              Sand Fire |          1        0.06       93.67\n",
      "                                 Sangay |          1        0.06       93.72\n",
      "                 Santa Ana (Ilamatepec) |          1        0.06       93.78\n",
      "                              Soufriere |          1        0.06       93.83\n",
      "                                   Stan |          7        0.39       94.23\n",
      "                      Storm 'Claudette' |          1        0.06       94.28\n",
      "                        Storm 'Elliott' |          2        0.11       94.39\n",
      "                           Storm 'Yaku' |          1        0.06       94.45\n",
      "                Storm Jonas (Snowzilla) |          1        0.06       94.51\n",
      "                          Storm Octavia |          1        0.06       94.56\n",
      "             Telegraph and Mescal Fires |          1        0.06       94.62\n",
      "            Tropical Depression Sixteen |          6        0.34       94.96\n",
      "                     Tropical Storm Lee |          1        0.06       95.01\n",
      "              Tropical cyclone 'Agatha' |          1        0.06       95.07\n",
      "              Tropical cyclone 'Arthur' |          1        0.06       95.12\n",
      "              Tropical cyclone 'Dorian' |          2        0.11       95.24\n",
      "                Tropical cyclone 'Fred' |          2        0.11       95.35\n",
      "               Tropical cyclone 'Grace' |          1        0.06       95.40\n",
      "              Tropical cyclone 'Lorena' |          1        0.06       95.46\n",
      "                Tropical cyclone 'Rick' |          1        0.06       95.52\n",
      "                Tropical cylone 'Barry' |          1        0.06       95.57\n",
      "                 Tropical cylone 'Nora' |          1        0.06       95.63\n",
      "            Tropical depression 'Henri' |          1        0.06       95.68\n",
      "Tropical depression'16/Hurricane 'Nate' |          8        0.45       96.13\n",
      "               Tropical storm ' Imelda' |          1        0.06       96.19\n",
      "               Tropical storm 'Alberto' |          2        0.11       96.30\n",
      "                Tropical storm 'Amanda' |          3        0.17       96.47\n",
      "                Tropical storm 'Bonnie' |          2        0.11       96.58\n",
      "                  Tropical storm 'Bret' |          2        0.11       96.69\n",
      "             Tropical storm 'Cristobal' |          2        0.11       96.80\n",
      "               Tropical storm 'Dolores' |          1        0.06       96.86\n",
      "                  Tropical storm 'Earl' |          4        0.22       97.09\n",
      "               Tropical storm 'Enrique' |          1        0.06       97.14\n",
      "               Tropical storm 'Fernand' |          1        0.06       97.20\n",
      "              Tropical storm 'Franklin' |          1        0.06       97.25\n",
      "                  Tropical storm 'Fred' |          1        0.06       97.31\n",
      "                 Tropical storm 'Gamma' |          1        0.06       97.37\n",
      "                   Tropical storm 'Ida' |          2        0.11       97.48\n",
      "                  Tropical storm 'Karl' |          1        0.06       97.53\n",
      "                 Tropical storm 'Lidia' |          1        0.06       97.59\n",
      "                 Tropical storm 'Narda' |          1        0.06       97.65\n",
      "              Tropical storm 'Nicholas' |          1        0.06       97.70\n",
      "                Tropical storm 'Nicole' |          1        0.06       97.76\n",
      "                  Tropical storm 'Otis' |          1        0.06       97.81\n",
      "                 Tropical storm 'Pilar' |          2        0.11       97.93\n",
      "               Tropical storm 'Vicente' |          1        0.06       97.98\n",
      "                   Tropical storm Debby |          1        0.06       98.04\n",
      "                   Tropical storm Dolly |          1        0.06       98.09\n",
      "                 Tropical storm Fernand |          1        0.06       98.15\n",
      "                 Tropical storm Hermine |          1        0.06       98.21\n",
      "                 Tropical storm Matthew |          7        0.39       98.60\n",
      "                Tropical storm Orphelia |          1        0.06       98.65\n",
      "                    Tropical storm Otto |          3        0.17       98.82\n",
      "                   Tropical storm Trudy |          1        0.06       98.88\n",
      "               Tubbs, Atlas, Nuns Fires |          1        0.06       98.93\n",
      "                             Tungurahua |          4        0.22       99.16\n",
      "                              Turrialba |          1        0.06       99.22\n",
      "                                 Ubinas |          3        0.17       99.38\n",
      "                            Valley Fire |          1        0.06       99.44\n",
      "                             Villarrica |          1        0.06       99.50\n",
      "                        Volcan de Fuego |          1        0.06       99.55\n",
      "                      Waldo Canyon Fire |          1        0.06       99.61\n",
      "   Wall Fire, Alamo Fire, Whittier Fire |          1        0.06       99.66\n",
      "                           Woolsey Fire |          1        0.06       99.72\n",
      "                           Yellow fever |          5        0.28      100.00\n",
      "----------------------------------------+-----------------------------------\n",
      "                                  Total |      1,784      100.00\n"
     ]
    }
   ],
   "source": [
    "tab eventname, missing"
   ]
  },
  {
   "cell_type": "code",
   "execution_count": 40,
   "metadata": {
    "tags": []
   },
   "outputs": [
    {
     "name": "stdout",
     "output_type": "stream",
     "text": [
      "\n",
      "                           Country |      Freq.     Percent        Cum.\n",
      "-----------------------------------+-----------------------------------\n",
      "                          Anguilla |          1        0.06        0.06\n",
      "               Antigua and Barbuda |          3        0.17        0.22\n",
      "                         Argentina |         54        3.03        3.25\n",
      "                           Bahamas |         11        0.62        3.87\n",
      "                          Barbados |          6        0.34        4.20\n",
      "                            Belize |         10        0.56        4.76\n",
      "  Bolivia (Plurinational State of) |         57        3.20        7.96\n",
      "                            Brazil |        122        6.84       14.80\n",
      "            British Virgin Islands |          2        0.11       14.91\n",
      "                            Canada |         59        3.31       18.22\n",
      "                    Cayman Islands |          2        0.11       18.33\n",
      "                             Chile |         48        2.69       21.02\n",
      "                          Colombia |        106        5.94       26.96\n",
      "                        Costa Rica |         28        1.57       28.53\n",
      "                              Cuba |         32        1.79       30.33\n",
      "                          Dominica |          4        0.22       30.55\n",
      "                Dominican Republic |         51        2.86       33.41\n",
      "                           Ecuador |         47        2.63       36.04\n",
      "                       El Salvador |         38        2.13       38.17\n",
      "                     French Guiana |          1        0.06       38.23\n",
      "                           Grenada |          1        0.06       38.28\n",
      "                        Guadeloupe |          4        0.22       38.51\n",
      "                         Guatemala |         72        4.04       42.54\n",
      "                            Guyana |          8        0.45       42.99\n",
      "                             Haiti |         78        4.37       47.37\n",
      "                          Honduras |         46        2.58       49.94\n",
      "                           Jamaica |         14        0.78       50.73\n",
      "                        Martinique |          5        0.28       51.01\n",
      "                            Mexico |        124        6.95       57.96\n",
      "                        Montserrat |          1        0.06       58.02\n",
      "                         Nicaragua |         34        1.91       59.92\n",
      "                            Panama |         29        1.63       61.55\n",
      "                          Paraguay |         39        2.19       63.73\n",
      "                              Peru |         85        4.76       68.50\n",
      "                       Puerto Rico |         14        0.78       69.28\n",
      "                  Saint Barthélemy |          1        0.06       69.34\n",
      "             Saint Kitts and Nevis |          2        0.11       69.45\n",
      "                       Saint Lucia |         10        0.56       70.01\n",
      "        Saint Martin (French Part) |          1        0.06       70.07\n",
      "  Saint Vincent and the Grenadines |         11        0.62       70.68\n",
      "         Sint Maarten (Dutch part) |          1        0.06       70.74\n",
      "                          Suriname |          4        0.22       70.96\n",
      "               Trinidad and Tobago |          4        0.22       71.19\n",
      "          Turks and Caicos Islands |          4        0.22       71.41\n",
      "      United States Virgin Islands |          2        0.11       71.52\n",
      "          United States of America |        455       25.50       97.03\n",
      "                           Uruguay |         22        1.23       98.26\n",
      "Venezuela (Bolivarian Republic of) |         31        1.74      100.00\n",
      "-----------------------------------+-----------------------------------\n",
      "                             Total |      1,784      100.00\n"
     ]
    }
   ],
   "source": [
    "tab country"
   ]
  },
  {
   "cell_type": "code",
   "execution_count": 56,
   "metadata": {
    "tags": []
   },
   "outputs": [
    {
     "name": "stdout",
     "output_type": "stream",
     "text": [
      "\n",
      "                        Total Deaths\n",
      "-------------------------------------------------------------\n",
      "      Percentiles      Smallest\n",
      " 1%            1              0\n",
      " 5%            1              1\n",
      "10%            1              1       Obs               1,237\n",
      "25%            3              1       Sum of wgt.       1,237\n",
      "\n",
      "50%            7                      Mean           215.5546\n",
      "                        Largest       Std. dev.       6331.37\n",
      "75%           20           1833\n",
      "90%           51           2575       Variance       4.01e+07\n",
      "95%          106           6908       Skewness       35.06015\n",
      "99%          511         222570       Kurtosis       1231.758\n"
     ]
    }
   ],
   "source": [
    "sum totaldeath, detail"
   ]
  },
  {
   "cell_type": "code",
   "execution_count": 45,
   "metadata": {
    "tags": []
   },
   "outputs": [
    {
     "name": "stdout",
     "output_type": "stream",
     "text": [
      "\n",
      "                         No. Injured\n",
      "-------------------------------------------------------------\n",
      "      Percentiles      Smallest\n",
      " 1%            1              1\n",
      " 5%            2              1\n",
      "10%            3              1       Obs                 419\n",
      "25%           10              1       Sum of wgt.         419\n",
      "\n",
      "50%           27                      Mean           2509.291\n",
      "                        Largest       Std. dev.      21534.69\n",
      "75%          100          94513\n",
      "90%          386         110000       Variance       4.64e+08\n",
      "95%         2195         277451       Skewness       11.89797\n",
      "99%        79639         300000       Kurtosis       153.7431\n"
     ]
    }
   ],
   "source": [
    "sum noinjured, detail"
   ]
  },
  {
   "cell_type": "code",
   "execution_count": 47,
   "metadata": {
    "tags": []
   },
   "outputs": [
    {
     "name": "stdout",
     "output_type": "stream",
     "text": [
      "\n",
      "                        No. Affected\n",
      "-------------------------------------------------------------\n",
      "      Percentiles      Smallest\n",
      " 1%           33              9\n",
      " 5%          120             12\n",
      "10%        258.5             12       Obs               1,190\n",
      "25%         1152             15       Sum of wgt.       1,190\n",
      "\n",
      "50%       7942.5                      Mean           237910.6\n",
      "                        Largest       Std. dev.       2662608\n",
      "75%        45000       1.00e+07\n",
      "90%       224549       1.10e+07       Variance       7.09e+12\n",
      "95%       640000       2.70e+07       Skewness       28.15772\n",
      "99%      2890000       8.50e+07       Kurtosis       873.6364\n"
     ]
    }
   ],
   "source": [
    "sum noaffected, detail"
   ]
  },
  {
   "cell_type": "code",
   "execution_count": 48,
   "metadata": {
    "tags": []
   },
   "outputs": [
    {
     "name": "stdout",
     "output_type": "stream",
     "text": [
      "\n",
      "                       Total Affected\n",
      "-------------------------------------------------------------\n",
      "      Percentiles      Smallest\n",
      " 1%            7              1\n",
      " 5%           40              1\n",
      "10%          129              2       Obs               1,400\n",
      "25%          630              2       Sum of wgt.       1,400\n",
      "\n",
      "50%         5000                      Mean           204656.3\n",
      "                        Largest       Std. dev.       2456942\n",
      "75%      31310.5       1.00e+07\n",
      "90%       188668       1.10e+07       Variance       6.04e+12\n",
      "95%       499462       2.70e+07       Skewness       30.49743\n",
      "99%      2731778       8.50e+07       Kurtosis       1025.629\n"
     ]
    }
   ],
   "source": [
    "sum totalaffected, detail"
   ]
  },
  {
   "cell_type": "code",
   "execution_count": 59,
   "metadata": {
    "tags": []
   },
   "outputs": [
    {
     "name": "stdout",
     "output_type": "stream",
     "text": [
      "\n",
      "                        No. Homeless\n",
      "-------------------------------------------------------------\n",
      "      Percentiles      Smallest\n",
      " 1%           15              9\n",
      " 5%           36             15\n",
      "10%           81             15       Obs                 188\n",
      "25%          200             15       Sum of wgt.         188\n",
      "\n",
      "50%          893                      Mean           12520.33\n",
      "                        Largest       Std. dev.      65293.59\n",
      "75%       3624.5         162605\n",
      "90%        14122         210000       Variance       4.26e+09\n",
      "95%        40000         300000       Skewness       10.08348\n",
      "99%       300000         800000       Kurtosis       116.3784\n"
     ]
    }
   ],
   "source": [
    "sum nohomeless, detail"
   ]
  },
  {
   "cell_type": "markdown",
   "metadata": {},
   "source": [
    "### 3. Write a note summarizing what you learned from browsing the data\n",
    "\n",
    "This data is cross-sectional because we are only collecting data for a district at singular points of time after a //\n",
    "weather-related disaster. We have data from the years 2005-2023. For the variables I'm interested in for this assignment, //\n",
    "there appears to be no missing data. The type of variables of the specified social factors that I am interested in looking at //\n",
    "determine damage/loss differences across event and country. These include nominal variables; disastertype, eventname, and country //\n",
    "and numeric variables that measure total deaths, no. injured, no. affected, no. homeless, and total affected by the disaster.  \n",
    "\n",
    "My dependent variables are numeric, their means and medians are: \n",
    "totaldeaths mean: 215.5546 median: 7 (negative skew)\n",
    "noinjured mean: 2,509.3 median: 27 (negative skew)\n",
    "noaffected mean: 237,910.6 median: 7,942.5 (negative skew) \n",
    "totalaffected mean: 204,656.3 median: 5,000 (negative skew)\n",
    "nohomeless mean: 12,520.3 median: 893 (negative skew)"
   ]
  },
  {
   "cell_type": "markdown",
   "metadata": {},
   "source": [
    "### 4. Create univariate histograms of interval ratio variables you plan to analyze."
   ]
  },
  {
   "cell_type": "markdown",
   "metadata": {},
   "source": [
    "// creating histograms with titles for all your numeric variables\n",
    "// control variable histogram: country"
   ]
  },
  {
   "cell_type": "code",
   "execution_count": 77,
   "metadata": {
    "tags": []
   },
   "outputs": [
    {
     "name": "stdout",
     "output_type": "stream",
     "text": [
      "(bin=13, start=9, width=61537.769)\n",
      "(bin=31, start=1, width=2741935.8)\n",
      "(bin=30, start=0, width=7419)\n",
      "(bin=20, start=1, width=14999.95)\n"
     ]
    },
    {
     "data": {
      "image/png": "[encoded data removed]",
      "text/plain": [
       "<IPython.core.display.Image object>"
      ]
     },
     "metadata": {},
     "output_type": "display_data"
    }
   ],
   "source": [
    "// for loop commands for creating histograms for my dependent variables\n",
    "// only one histogram displayed when using loop command, so i included separate commands for some dependent below\n",
    "// all of my data is appearing to have little to no variation because of the outliers. I think I need to categorize my variables //\n",
    "// so that my data doesn't appear skewed? \n",
    "\n",
    "foreach x of varlist nohomeless totalaffected totaldeaths noinjured {\n",
    "    histogram `x'\n",
    "}\n",
    "//"
   ]
  },
  {
   "cell_type": "code",
   "execution_count": 64,
   "metadata": {
    "tags": []
   },
   "outputs": [
    {
     "name": "stdout",
     "output_type": "stream",
     "text": [
      "\u001b[31mvariable country2 already defined\n",
      "r(110);\u001b[0m\n"
     ]
    }
   ],
   "source": [
    "//changing string variable \n",
    "encode country, generate(country2)"
   ]
  },
  {
   "cell_type": "code",
   "execution_count": 65,
   "metadata": {
    "tags": []
   },
   "outputs": [
    {
     "name": "stdout",
     "output_type": "stream",
     "text": [
      "\n",
      "Variable      Storage   Display    Value\n",
      "    name         type    format    label      Variable label\n",
      "-------------------------------------------------------------------------------\n",
      "country2        long    %34.0g     country2   Country\n"
     ]
    }
   ],
   "source": [
    "describe country2"
   ]
  },
  {
   "cell_type": "code",
   "execution_count": 66,
   "metadata": {
    "tags": []
   },
   "outputs": [
    {
     "name": "stdout",
     "output_type": "stream",
     "text": [
      "(bin=32, start=1, width=1.46875)\n"
     ]
    },
    {
     "data": {
      "image/png": "[encoded data removed]",
      "text/plain": [
       "<IPython.core.display.Image object>"
      ]
     },
     "metadata": {},
     "output_type": "display_data"
    }
   ],
   "source": [
    "histogram country2, frequency title(\"Disasters by Country (Control for Interaction)\")"
   ]
  },
  {
   "cell_type": "code",
   "execution_count": 71,
   "metadata": {
    "tags": []
   },
   "outputs": [],
   "source": [
    "encode disastertype, generate(disastertype2)"
   ]
  },
  {
   "cell_type": "code",
   "execution_count": 72,
   "metadata": {
    "tags": []
   },
   "outputs": [
    {
     "name": "stdout",
     "output_type": "stream",
     "text": [
      "\n",
      "Variable      Storage   Display    Value\n",
      "    name         type    format    label      Variable label\n",
      "-------------------------------------------------------------------------------\n",
      "disastertype2   long    %19.0g     disastertype2\n",
      "                                              Disaster Type\n"
     ]
    }
   ],
   "source": [
    "describe disastertype2"
   ]
  },
  {
   "cell_type": "code",
   "execution_count": 80,
   "metadata": {
    "tags": []
   },
   "outputs": [
    {
     "name": "stdout",
     "output_type": "stream",
     "text": [
      "(bin=32, start=1, width=.28125)\n"
     ]
    },
    {
     "data": {
      "image/png": "[encoded data removed]",
      "text/plain": [
       "<IPython.core.display.Image object>"
      ]
     },
     "metadata": {},
     "output_type": "display_data"
    }
   ],
   "source": [
    "histogram disastertype2, frequency title(\"Types of Disasters\" (Independent Variable))"
   ]
  },
  {
   "cell_type": "code",
   "execution_count": 94,
   "metadata": {
    "tags": []
   },
   "outputs": [
    {
     "name": "stdout",
     "output_type": "stream",
     "text": [
      "(bin=31, start=1, width=2741935.8)\n"
     ]
    },
    {
     "data": {
      "image/png": "[encoded data removed]",
      "text/plain": [
       "<IPython.core.display.Image object>"
      ]
     },
     "metadata": {},
     "output_type": "display_data"
    }
   ],
   "source": [
    "histogram totalaffected, frequency title(\"Total Number of People Affected\" (Dependent Variable))"
   ]
  },
  {
   "cell_type": "code",
   "execution_count": 95,
   "metadata": {
    "tags": []
   },
   "outputs": [
    {
     "name": "stdout",
     "output_type": "stream",
     "text": [
      "(bin=30, start=0, width=7419)\n"
     ]
    },
    {
     "data": {
      "image/png": "[encoded data removed]",
      "text/plain": [
       "<IPython.core.display.Image object>"
      ]
     },
     "metadata": {},
     "output_type": "display_data"
    }
   ],
   "source": [
    "histogram totaldeaths, frequency title(\"Total Number of Deaths\" (Dependent Variable))"
   ]
  },
  {
   "cell_type": "markdown",
   "metadata": {},
   "source": [
    "// The following graph commands show % frequency of health outcome over disaster which helps me better see:\n",
    "Floods and storms are correlated with more deaths and injuries. Many disaster types are associated with homes being destroyed, mainly floods, storms and wildfires. I'm unsure how to read the distribution of the data and will follow up with Anh and/or Charlie about my frequency histogram issues."
   ]
  },
  {
   "cell_type": "code",
   "execution_count": 99,
   "metadata": {
    "tags": []
   },
   "outputs": [
    {
     "data": {
      "image/png": "[encoded data removed]",
      "text/plain": [
       "<IPython.core.display.Image object>"
      ]
     },
     "metadata": {},
     "output_type": "display_data"
    }
   ],
   "source": [
    "graph hbar (percent)totalaffected, over(disastertype2)"
   ]
  },
  {
   "cell_type": "code",
   "execution_count": 101,
   "metadata": {
    "tags": []
   },
   "outputs": [
    {
     "data": {
      "image/png": "[encoded data removed]",
      "text/plain": [
       "<IPython.core.display.Image object>"
      ]
     },
     "metadata": {},
     "output_type": "display_data"
    }
   ],
   "source": [
    "graph hbar (percent)nohomeless, over(disastertype)"
   ]
  },
  {
   "cell_type": "code",
   "execution_count": 102,
   "metadata": {
    "tags": []
   },
   "outputs": [
    {
     "data": {
      "image/png": "[encoded data removed]",
      "text/plain": [
       "<IPython.core.display.Image object>"
      ]
     },
     "metadata": {},
     "output_type": "display_data"
    }
   ],
   "source": [
    "graph hbar (percent)totaldeaths, over(disastertype2)"
   ]
  },
  {
   "cell_type": "markdown",
   "metadata": {},
   "source": [
    "### 5. Create univariate count and % frequency tables for all categorical (nominal) variables you plan to analyze\n",
    "Floods and Storms are most documented in this dataset, with Floods making up about 39% and Storms about 35% of all disaster types. Most of the disasters listed by name had one observance, aside from those which we could potentially label 'catastrophes' that have a wider-reach of damage geospatially. Most of the disasters documented in this dataset are from the United States, accounting for 25.5 % of this sample. This suggests looking at differences in regions, for example, may be a better control variable. "
   ]
  },
  {
   "cell_type": "code",
   "execution_count": 97,
   "metadata": {
    "tags": []
   },
   "outputs": [
    {
     "name": "stdout",
     "output_type": "stream",
     "text": [
      "\n",
      "      Disaster Type |      Freq.     Percent        Cum.\n",
      "--------------------+-----------------------------------\n",
      "            Drought |         73        4.09        4.09\n",
      "         Earthquake |         81        4.54        8.63\n",
      "           Epidemic |         66        3.70       12.33\n",
      "Extreme temperature |         44        2.47       14.80\n",
      "              Flood |        695       38.96       53.76\n",
      "Mass movement (dry) |          2        0.11       53.87\n",
      "Mass movement (wet) |         65        3.64       57.51\n",
      "              Storm |        632       35.43       92.94\n",
      "  Volcanic activity |         36        2.02       94.96\n",
      "           Wildfire |         90        5.04      100.00\n",
      "--------------------+-----------------------------------\n",
      "              Total |      1,784      100.00\n",
      "\n",
      "                             Event Name |      Freq.     Percent        Cum.\n",
      "----------------------------------------+-----------------------------------\n",
      "                                        |      1,353       75.84       75.84\n",
      "                     'Lahaina' wildfire |          1        0.06       75.90\n",
      "                               'Thomas' |          1        0.06       75.95\n",
      "Adkins Ave Fire and Bertha Swamp Road.. |          1        0.06       76.01\n",
      "                                 Adrian |          1        0.06       76.07\n",
      "                                Alberto |          1        0.06       76.12\n",
      "                                   Alma |          3        0.17       76.29\n",
      "                                  Alpha |          2        0.11       76.40\n",
      "                    August Complex fire |          1        0.06       76.46\n",
      "                                Beatriz |          1        0.06       76.51\n",
      "                                   Beta |          3        0.17       76.68\n",
      "                           Bootleg Fire |          1        0.06       76.74\n",
      "                                  Boris |          2        0.11       76.85\n",
      "                                   Bret |          1        0.06       76.91\n",
      "                             Butte fire |          1        0.06       76.96\n",
      "                                Calbuco |          2        0.11       77.07\n",
      "                            Caldor fire |          1        0.06       77.13\n",
      "     Calf Canyon and Hermits Peak Fires |          1        0.06       77.19\n",
      "                              Camp Fire |          1        0.06       77.24\n",
      "       Carr and Mendocino Complex fires |          1        0.06       77.30\n",
      "                                Chaiten |          2        0.11       77.41\n",
      "                 Chaparrastique Volcano |          1        0.06       77.47\n",
      "                            Chikungunya |          1        0.06       77.52\n",
      "              Chikungunya virus disease |          1        0.06       77.58\n",
      "                                Cholera |         10        0.56       78.14\n",
      "                           Clayton Fire |          1        0.06       78.20\n",
      "                         Cleon and Dion |          1        0.06       78.25\n",
      "                               Cotopaxi |          1        0.06       78.31\n",
      "                                   Dean |         10        0.56       78.87\n",
      "                                 Dengue |         44        2.47       81.33\n",
      " Dengue and Hemorrhagic fever outbreaks |          2        0.11       81.45\n",
      "                             Dixie fire |          1        0.06       81.50\n",
      "                                  Emily |          5        0.28       81.78\n",
      "                                   Erin |          1        0.06       81.84\n",
      "                                Ernesto |          3        0.17       82.01\n",
      "                              Fawn fire |          1        0.06       82.06\n",
      "                                  Felix |          5        0.28       82.34\n",
      "                Fort McMurray wildfires |          1        0.06       82.40\n",
      "                                Galeras |          2        0.11       82.51\n",
      "                                  Gamma |          2        0.11       82.62\n",
      "          Gray fire and the Oregon fire |          1        0.06       82.68\n",
      "Gustafsen, Wildwood, Elephant Hill Fi.. |          1        0.06       82.74\n",
      "                            Heavy rains |          1        0.06       82.79\n",
      "                              Henriette |          1        0.06       82.85\n",
      "              Hunga-Tonga-Hunga-Ha'apai |          1        0.06       82.90\n",
      "                      Hurricane 'Beryl' |          2        0.11       83.02\n",
      "                      Hurricane 'Delta' |          1        0.06       83.07\n",
      "                       Hurricane 'Elsa' |          7        0.39       83.46\n",
      "                        Hurricane 'Eta' |         10        0.56       84.02\n",
      "                      Hurricane 'Fiona' |          4        0.22       84.25\n",
      "                   Hurricane 'Franklin' |          1        0.06       84.30\n",
      "                      Hurricane 'Hanna' |          6        0.34       84.64\n",
      "                        Hurricane 'Ian' |          2        0.11       84.75\n",
      "                     Hurricane 'Idalia' |          2        0.11       84.87\n",
      "                       Hurricane 'Iota' |          6        0.34       85.20\n",
      "                       Hurricane 'Irma' |         16        0.90       86.10\n",
      "                     Hurricane 'Isaias' |          4        0.22       86.32\n",
      "                    Hurricane 'Joaquin' |          1        0.06       86.38\n",
      "                      Hurricane 'Julia' |          6        0.34       86.72\n",
      "                       Hurricane 'Karl' |          1        0.06       86.77\n",
      "                      Hurricane 'Laura' |          3        0.17       86.94\n",
      "                       Hurricane 'Lisa' |          1        0.06       87.00\n",
      "                      Hurricane 'Maria' |          9        0.50       87.50\n",
      "                    Hurricane 'Matthew' |          8        0.45       87.95\n",
      "                     Hurricane 'Nicole' |          1        0.06       88.00\n",
      "                     Hurricane 'Roslyn' |          1        0.06       88.06\n",
      "                      Hurricane 'Sally' |          1        0.06       88.12\n",
      "                       Hurricane 'Zeta' |          2        0.11       88.23\n",
      "                       Hurricane Agatha |          3        0.17       88.40\n",
      "                      Hurricane Barbara |          1        0.06       88.45\n",
      "                         Hurricane Bill |          2        0.11       88.57\n",
      "                     Hurricane Carlotta |          1        0.06       88.62\n",
      "                        Hurricane Dolly |          3        0.17       88.79\n",
      "                         Hurricane Earl |          2        0.11       88.90\n",
      "                        Hurricane Erika |          3        0.17       89.07\n",
      "                     Hurricane Florence |          1        0.06       89.13\n",
      "                        Hurricane Frank |          1        0.06       89.18\n",
      "                       Hurricane Harvey |          1        0.06       89.24\n",
      "                      Hurricane Hermine |          1        0.06       89.29\n",
      "                          Hurricane Ike |          5        0.28       89.57\n",
      "                       Hurricane Ingrid |          1        0.06       89.63\n",
      "                        Hurricane Irene |          6        0.34       89.97\n",
      "                        Hurricane Isaac |          5        0.28       90.25\n",
      "                       Hurricane Iselle |          1        0.06       90.30\n",
      "                       Hurricane Jimena |          1        0.06       90.36\n",
      "                         Hurricane Jova |          1        0.06       90.41\n",
      "                        Hurricane Katia |          1        0.06       90.47\n",
      "                       Hurricane Manuel |          1        0.06       90.53\n",
      "                        Hurricane Marie |          1        0.06       90.58\n",
      "                      Hurricane Michael |          2        0.11       90.70\n",
      "                         Hurricane Nate |          1        0.06       90.75\n",
      "                       Hurricane Newton |          1        0.06       90.81\n",
      "                      Hurricane Norbert |          1        0.06       90.86\n",
      "                        Hurricane Odile |          1        0.06       90.92\n",
      "                       Hurricane Paloma |          2        0.11       91.03\n",
      "                     Hurricane Patricia |          1        0.06       91.09\n",
      "                        Hurricane Sandy |          6        0.34       91.42\n",
      "                        Hurricane Tomas |          5        0.28       91.70\n",
      "                        Hurricane Willa |          1        0.06       91.76\n",
      "                              Influenza |          1        0.06       91.82\n",
      "                                Joaquin |          1        0.06       91.87\n",
      "                                   John |          1        0.06       91.93\n",
      "                                Katrina |          1        0.06       91.98\n",
      "                                Kilauea |          1        0.06       92.04\n",
      "                           Kincade Fire |          1        0.06       92.10\n",
      "                          La Souffrière |          1        0.06       92.15\n",
      "                                   Lane |          1        0.06       92.21\n",
      "                          Leptospirosis |          1        0.06       92.26\n",
      "                                Lorenzo |          1        0.06       92.32\n",
      "McBride, Nogal Canyon, Hermits Peak F.. |          1        0.06       92.38\n",
      "          McKinney & Yeti Complex fires |          1        0.06       92.43\n",
      " Middle Fork and the Marshall wildfires |          1        0.06       92.49\n",
      "                            Mount Fuego |          1        0.06       92.54\n",
      "                          Mount Galeras |          2        0.11       92.66\n",
      "                           Mount Sangay |          1        0.06       92.71\n",
      "                           Mount Ubinas |          1        0.06       92.77\n",
      "                       Nevado del Huila |          3        0.17       92.94\n",
      "                                   Noel |          5        0.28       93.22\n",
      "                                   Olga |          3        0.17       93.39\n",
      "                         Pacaya volcano |          1        0.06       93.44\n",
      "                                   Paul |          1        0.06       93.50\n",
      "                                   Rita |          1        0.06       93.55\n",
      "     Saddleridge fire & Sandalwood fire |          1        0.06       93.61\n",
      "                              Sand Fire |          1        0.06       93.67\n",
      "                                 Sangay |          1        0.06       93.72\n",
      "                 Santa Ana (Ilamatepec) |          1        0.06       93.78\n",
      "                              Soufriere |          1        0.06       93.83\n",
      "                                   Stan |          7        0.39       94.23\n",
      "                      Storm 'Claudette' |          1        0.06       94.28\n",
      "                        Storm 'Elliott' |          2        0.11       94.39\n",
      "                           Storm 'Yaku' |          1        0.06       94.45\n",
      "                Storm Jonas (Snowzilla) |          1        0.06       94.51\n",
      "                          Storm Octavia |          1        0.06       94.56\n",
      "             Telegraph and Mescal Fires |          1        0.06       94.62\n",
      "            Tropical Depression Sixteen |          6        0.34       94.96\n",
      "                     Tropical Storm Lee |          1        0.06       95.01\n",
      "              Tropical cyclone 'Agatha' |          1        0.06       95.07\n",
      "              Tropical cyclone 'Arthur' |          1        0.06       95.12\n",
      "              Tropical cyclone 'Dorian' |          2        0.11       95.24\n",
      "                Tropical cyclone 'Fred' |          2        0.11       95.35\n",
      "               Tropical cyclone 'Grace' |          1        0.06       95.40\n",
      "              Tropical cyclone 'Lorena' |          1        0.06       95.46\n",
      "                Tropical cyclone 'Rick' |          1        0.06       95.52\n",
      "                Tropical cylone 'Barry' |          1        0.06       95.57\n",
      "                 Tropical cylone 'Nora' |          1        0.06       95.63\n",
      "            Tropical depression 'Henri' |          1        0.06       95.68\n",
      "Tropical depression'16/Hurricane 'Nate' |          8        0.45       96.13\n",
      "               Tropical storm ' Imelda' |          1        0.06       96.19\n",
      "               Tropical storm 'Alberto' |          2        0.11       96.30\n",
      "                Tropical storm 'Amanda' |          3        0.17       96.47\n",
      "                Tropical storm 'Bonnie' |          2        0.11       96.58\n",
      "                  Tropical storm 'Bret' |          2        0.11       96.69\n",
      "             Tropical storm 'Cristobal' |          2        0.11       96.80\n",
      "               Tropical storm 'Dolores' |          1        0.06       96.86\n",
      "                  Tropical storm 'Earl' |          4        0.22       97.09\n",
      "               Tropical storm 'Enrique' |          1        0.06       97.14\n",
      "               Tropical storm 'Fernand' |          1        0.06       97.20\n",
      "              Tropical storm 'Franklin' |          1        0.06       97.25\n",
      "                  Tropical storm 'Fred' |          1        0.06       97.31\n",
      "                 Tropical storm 'Gamma' |          1        0.06       97.37\n",
      "                   Tropical storm 'Ida' |          2        0.11       97.48\n",
      "                  Tropical storm 'Karl' |          1        0.06       97.53\n",
      "                 Tropical storm 'Lidia' |          1        0.06       97.59\n",
      "                 Tropical storm 'Narda' |          1        0.06       97.65\n",
      "              Tropical storm 'Nicholas' |          1        0.06       97.70\n",
      "                Tropical storm 'Nicole' |          1        0.06       97.76\n",
      "                  Tropical storm 'Otis' |          1        0.06       97.81\n",
      "                 Tropical storm 'Pilar' |          2        0.11       97.93\n",
      "               Tropical storm 'Vicente' |          1        0.06       97.98\n",
      "                   Tropical storm Debby |          1        0.06       98.04\n",
      "                   Tropical storm Dolly |          1        0.06       98.09\n",
      "                 Tropical storm Fernand |          1        0.06       98.15\n",
      "                 Tropical storm Hermine |          1        0.06       98.21\n",
      "                 Tropical storm Matthew |          7        0.39       98.60\n",
      "                Tropical storm Orphelia |          1        0.06       98.65\n",
      "                    Tropical storm Otto |          3        0.17       98.82\n",
      "                   Tropical storm Trudy |          1        0.06       98.88\n",
      "               Tubbs, Atlas, Nuns Fires |          1        0.06       98.93\n",
      "                             Tungurahua |          4        0.22       99.16\n",
      "                              Turrialba |          1        0.06       99.22\n",
      "                                 Ubinas |          3        0.17       99.38\n",
      "                            Valley Fire |          1        0.06       99.44\n",
      "                             Villarrica |          1        0.06       99.50\n",
      "                        Volcan de Fuego |          1        0.06       99.55\n",
      "                      Waldo Canyon Fire |          1        0.06       99.61\n",
      "   Wall Fire, Alamo Fire, Whittier Fire |          1        0.06       99.66\n",
      "                           Woolsey Fire |          1        0.06       99.72\n",
      "                           Yellow fever |          5        0.28      100.00\n",
      "----------------------------------------+-----------------------------------\n",
      "                                  Total |      1,784      100.00\n",
      "\n",
      "                           Country |      Freq.     Percent        Cum.\n",
      "-----------------------------------+-----------------------------------\n",
      "                          Anguilla |          1        0.06        0.06\n",
      "               Antigua and Barbuda |          3        0.17        0.22\n",
      "                         Argentina |         54        3.03        3.25\n",
      "                           Bahamas |         11        0.62        3.87\n",
      "                          Barbados |          6        0.34        4.20\n",
      "                            Belize |         10        0.56        4.76\n",
      "  Bolivia (Plurinational State of) |         57        3.20        7.96\n",
      "                            Brazil |        122        6.84       14.80\n",
      "            British Virgin Islands |          2        0.11       14.91\n",
      "                            Canada |         59        3.31       18.22\n",
      "                    Cayman Islands |          2        0.11       18.33\n",
      "                             Chile |         48        2.69       21.02\n",
      "                          Colombia |        106        5.94       26.96\n",
      "                        Costa Rica |         28        1.57       28.53\n",
      "                              Cuba |         32        1.79       30.33\n",
      "                          Dominica |          4        0.22       30.55\n",
      "                Dominican Republic |         51        2.86       33.41\n",
      "                           Ecuador |         47        2.63       36.04\n",
      "                       El Salvador |         38        2.13       38.17\n",
      "                     French Guiana |          1        0.06       38.23\n",
      "                           Grenada |          1        0.06       38.28\n",
      "                        Guadeloupe |          4        0.22       38.51\n",
      "                         Guatemala |         72        4.04       42.54\n",
      "                            Guyana |          8        0.45       42.99\n",
      "                             Haiti |         78        4.37       47.37\n",
      "                          Honduras |         46        2.58       49.94\n",
      "                           Jamaica |         14        0.78       50.73\n",
      "                        Martinique |          5        0.28       51.01\n",
      "                            Mexico |        124        6.95       57.96\n",
      "                        Montserrat |          1        0.06       58.02\n",
      "                         Nicaragua |         34        1.91       59.92\n",
      "                            Panama |         29        1.63       61.55\n",
      "                          Paraguay |         39        2.19       63.73\n",
      "                              Peru |         85        4.76       68.50\n",
      "                       Puerto Rico |         14        0.78       69.28\n",
      "                  Saint Barthélemy |          1        0.06       69.34\n",
      "             Saint Kitts and Nevis |          2        0.11       69.45\n",
      "                       Saint Lucia |         10        0.56       70.01\n",
      "        Saint Martin (French Part) |          1        0.06       70.07\n",
      "  Saint Vincent and the Grenadines |         11        0.62       70.68\n",
      "         Sint Maarten (Dutch part) |          1        0.06       70.74\n",
      "                          Suriname |          4        0.22       70.96\n",
      "               Trinidad and Tobago |          4        0.22       71.19\n",
      "          Turks and Caicos Islands |          4        0.22       71.41\n",
      "      United States Virgin Islands |          2        0.11       71.52\n",
      "          United States of America |        455       25.50       97.03\n",
      "                           Uruguay |         22        1.23       98.26\n",
      "Venezuela (Bolivarian Republic of) |         31        1.74      100.00\n",
      "-----------------------------------+-----------------------------------\n",
      "                             Total |      1,784      100.00\n"
     ]
    }
   ],
   "source": [
    "foreach x of varlist disastertype eventname country {\n",
    "    tab `x', missing\n",
    "}"
   ]
  },
  {
   "cell_type": "markdown",
   "metadata": {},
   "source": [
    "### 6. Make a relevant bivariate table and graph for your study\n",
    "\n",
    "Make the appropriate a) bivariate table and b) graph dependening on whether your dependent variable is nominal/categorical or interval ratio. If your dependent variable is nominal, make sure it is the row variable in the table. If your independent variable is interval ratio, convert it into an ordinal variable by creating a new variable with 3 to 5 categories each with an equal range of the interval ratio variable. Then use the new ordinal variable as your independent variable in the bivariate table and graph."
   ]
  },
  {
   "cell_type": "code",
   "execution_count": 104,
   "metadata": {},
   "outputs": [
    {
     "name": "stdout",
     "output_type": "stream",
     "text": [
      "\n",
      "-------------------------------------------------------------------------------\n",
      "nohomeless                                                         No. Homeless\n",
      "-------------------------------------------------------------------------------\n",
      "\n",
      "                  Type: Numeric (long)\n",
      "\n",
      "                 Range: [9,800000]                    Units: 1\n",
      "         Unique values: 146                       Missing .: 1,596/1,784\n",
      "\n",
      "                  Mean: 12520.3\n",
      "             Std. dev.: 65293.6\n",
      "\n",
      "           Percentiles:     10%       25%       50%       75%       90%\n",
      "                             81       200       893    3624.5     14122\n"
     ]
    }
   ],
   "source": [
    "// one dependent variable and one independent you are most interested in\n",
    "//no homeless (dependent)\n",
    "//disaster type (independent)\n",
    "\n",
    "codebook nohomeless"
   ]
  },
  {
   "cell_type": "code",
   "execution_count": 107,
   "metadata": {
    "tags": []
   },
   "outputs": [
    {
     "name": "stdout",
     "output_type": "stream",
     "text": [
      "\u001b[31mvariable homeless already defined\n",
      "r(110);\u001b[0m\n"
     ]
    }
   ],
   "source": [
    "// Converting the numeric variable I care about into a categorical one\n",
    "// for some reason my categories are off. Need to fix\n",
    "\n",
    "gen homeless=nohomeless"
   ]
  },
  {
   "cell_type": "code",
   "execution_count": 142,
   "metadata": {
    "tags": []
   },
   "outputs": [
    {
     "name": "stdout",
     "output_type": "stream",
     "text": [
      "(0 real changes made)\n",
      "(0 real changes made)\n",
      "(0 real changes made)\n",
      "(0 real changes made)\n",
      "(0 real changes made)\n"
     ]
    }
   ],
   "source": [
    "replace homeless=1 if nohomeless<=100\n",
    "replace homeless=2 if nohomeless>100 & nohomeless<=1000\n",
    "replace homeless=3 if nohomeless>1000 & nohomeless<=6000\n",
    "replace homeless=4 if nohomeless>6000 & nohomeless<=20000\n",
    "replace homeless=5 if nohomeless>20000 & nohomeless<=800000"
   ]
  },
  {
   "cell_type": "code",
   "execution_count": 147,
   "metadata": {
    "tags": []
   },
   "outputs": [
    {
     "name": "stdout",
     "output_type": "stream",
     "text": [
      "\u001b[31mlabel homeless already defined\n",
      "r(110);\u001b[0m\n"
     ]
    }
   ],
   "source": [
    "label variable homeless \"what level of shelter loss occurred during the disaster?\"\n",
    "label define homeless \"less than 100 homes\" 1 \"100-1,000 homes\" 2 \"1,000-6,000 homes\" 3 \"6,000-20,000 homes\" 4 \"20,000-800,000 homes\" 5\n",
    "label values homeless homeless"
   ]
  },
  {
   "cell_type": "code",
   "execution_count": 148,
   "metadata": {
    "tags": []
   },
   "outputs": [
    {
     "name": "stdout",
     "output_type": "stream",
     "text": [
      "\n",
      "-------------------------------------------------------------------------------\n",
      "homeless               what level of shelter loss occurred during the disaster?\n",
      "-------------------------------------------------------------------------------\n",
      "\n",
      "                  Type: Numeric (float)\n",
      "                 Label: homeless, but 1 nonmissing value is not labeled\n",
      "\n",
      "                 Range: [1,5]                         Units: 1\n",
      "         Unique values: 5                         Missing .: 0/1,784\n",
      "\n",
      "            Tabulation: Freq.   Numeric  Label\n",
      "                           26         1  100-1000 homes\n",
      "                        1,672         2  1,000-6,000 homes\n",
      "                           49         3  6,000-20,000 homes\n",
      "                           21         4  20,000-800,000 homes\n",
      "                           16         5  \n"
     ]
    }
   ],
   "source": [
    "codebook homeless"
   ]
  },
  {
   "cell_type": "code",
   "execution_count": 156,
   "metadata": {
    "tags": []
   },
   "outputs": [
    {
     "data": {
      "image/png": "[encoded data removed]",
      "text/plain": [
       "<IPython.core.display.Image object>"
      ]
     },
     "metadata": {},
     "output_type": "display_data"
    }
   ],
   "source": [
    "graph hbar (mean) homeless, over(disastertype) title(\"Shelter Loss Due to Disaster\")"
   ]
  },
  {
   "cell_type": "markdown",
   "metadata": {
    "tags": []
   },
   "source": [
    "### 7. Create partial bivariate tables and graphs\n",
    "\n",
    "For the bivariate table and graph you made for problem 6, split both into partial tables and graphs using one of your nominal/categorical control variables. If your control variable is interval ratio, convert it into an ordinal variable by creating a variable with 3 to 5 categories each with an equal range of the interval ratio variable. Then use the new ordinal variable as your control variable to create the partial tables and graphs.\n"
   ]
  },
  {
   "cell_type": "code",
   "execution_count": 215,
   "metadata": {
    "tags": []
   },
   "outputs": [
    {
     "name": "stdout",
     "output_type": "stream",
     "text": [
      "\n",
      "-------------------------------------------------------------------------------\n",
      "country2                                                                Country\n",
      "-------------------------------------------------------------------------------\n",
      "\n",
      "                  Type: Numeric (long)\n",
      "                 Label: country2\n",
      "\n",
      "                 Range: [1,48]                        Units: 1\n",
      "         Unique values: 48                        Missing .: 0/1,784\n",
      "\n",
      "              Examples: 12    Chile\n",
      "                        23    Guatemala\n",
      "                        32    Panama\n",
      "                        46    United States of America\n"
     ]
    }
   ],
   "source": [
    "// Choose one more independent variable you care about for this assignment\n",
    "codebook country2"
   ]
  },
  {
   "cell_type": "code",
   "execution_count": 217,
   "metadata": {
    "tags": []
   },
   "outputs": [],
   "source": [
    "//Cleaning the control variable to make it more interpretable"
   ]
  },
  {
   "cell_type": "code",
   "execution_count": 218,
   "metadata": {
    "tags": []
   },
   "outputs": [
    {
     "name": "stdout",
     "output_type": "stream",
     "text": [
      "\u001b[31mvariable global_north already defined\n",
      "r(110);\u001b[0m\n"
     ]
    }
   ],
   "source": [
    "generate global_north=."
   ]
  },
  {
   "cell_type": "code",
   "execution_count": 219,
   "metadata": {
    "tags": []
   },
   "outputs": [
    {
     "name": "stdout",
     "output_type": "stream",
     "text": [
      "(514 real changes made)\n"
     ]
    }
   ],
   "source": [
    "replace global_north=1 if country2==46 | country2==10"
   ]
  },
  {
   "cell_type": "code",
   "execution_count": 220,
   "metadata": {
    "tags": []
   },
   "outputs": [
    {
     "name": "stdout",
     "output_type": "stream",
     "text": [
      "\n",
      "-------------------------------------------------------------------------------\n",
      "global_north                                                        (unlabeled)\n",
      "-------------------------------------------------------------------------------\n",
      "\n",
      "                  Type: Numeric (float)\n",
      "\n",
      "                 Range: [0,1]                         Units: 1\n",
      "         Unique values: 2                         Missing .: 0/1,784\n",
      "\n",
      "            Tabulation: Freq.  Value\n",
      "                        1,270  0\n",
      "                          514  1\n"
     ]
    }
   ],
   "source": [
    "codebook global_north"
   ]
  },
  {
   "cell_type": "code",
   "execution_count": 223,
   "metadata": {
    "tags": []
   },
   "outputs": [],
   "source": [
    "label variable global_north \"countries in the global north\""
   ]
  },
  {
   "cell_type": "code",
   "execution_count": 229,
   "metadata": {
    "tags": []
   },
   "outputs": [],
   "source": [
    "label define global_north 0 \"global south\" 1 \"global north\""
   ]
  },
  {
   "cell_type": "code",
   "execution_count": 230,
   "metadata": {
    "tags": []
   },
   "outputs": [],
   "source": [
    "label values global_north global_north\n"
   ]
  },
  {
   "cell_type": "code",
   "execution_count": 231,
   "metadata": {
    "tags": []
   },
   "outputs": [
    {
     "name": "stdout",
     "output_type": "stream",
     "text": [
      "\n",
      "-------------------------------------------------------------------------------\n",
      "global_north                                      countries in the global north\n",
      "-------------------------------------------------------------------------------\n",
      "\n",
      "                  Type: Numeric (float)\n",
      "                 Label: global_north\n",
      "\n",
      "                 Range: [0,1]                         Units: 1\n",
      "         Unique values: 2                         Missing .: 0/1,784\n",
      "\n",
      "            Tabulation: Freq.   Numeric  Label\n",
      "                        1,270         0  global south\n",
      "                          514         1  global north\n"
     ]
    }
   ],
   "source": [
    "codebook global_north"
   ]
  },
  {
   "cell_type": "code",
   "execution_count": 232,
   "metadata": {
    "tags": []
   },
   "outputs": [
    {
     "data": {
      "image/png": "[encoded data removed]",
      "text/plain": [
       "<IPython.core.display.Image object>"
      ]
     },
     "metadata": {},
     "output_type": "display_data"
    }
   ],
   "source": [
    "graph hbar (mean) homeless, over(disastertype) by(global_north) title(\"Partial Bivariate Graph\")\n"
   ]
  },
  {
   "cell_type": "markdown",
   "metadata": {
    "tags": []
   },
   "source": [
    "### Interpret of your bivariate and partial tables and graphs\n",
    "According to the bivariate table, it first seems to be that the amount of homes destroyed after disasters is distributed evenly across different disaster types. The partial analysis revealed, after recoding the countries into regions to (loosely) represent Wallerstein's World-Systems theory, that there is a difference between health outcomes when comparing data from the Global North and South. Most noticeably, average homelessness is twice as frequent in the Global South after experiencing an epidemic or a mass movement (dry) than it is in the Global North. While I'm not sure about how my analysis process went this project, this graph suggests a strong relationship between levels of homelessness and types of events, and also the country in which the disaster occurs. The control variable's interactive relationship suggests further that disasters are not just products of natural forces, but interacting with pre-existing social factors. This would conform with my hypothesis that patterns in health outcomes are related to disaster types. However, things to note are that my analysis needs checking over and that the data is largely documenting U.S. disasters. I did try to acknowledge this in the cleaning of the country variable.\n"
   ]
  },
  {
   "cell_type": "code",
   "execution_count": null,
   "metadata": {},
   "outputs": [],
   "source": []
  }
 ],
 "metadata": {
  "kernelspec": {
   "display_name": "Stata (nbstata)",
   "language": "stata",
   "name": "nbstata"
  },
  "language_info": {
   "file_extension": ".do",
   "mimetype": "text/x-stata",
   "name": "stata",
   "version": "17"
  }
 },
 "nbformat": 4,
 "nbformat_minor": 4
}
